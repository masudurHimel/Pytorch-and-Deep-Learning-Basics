{
  "nbformat": 4,
  "nbformat_minor": 0,
  "metadata": {
    "colab": {
      "name": "ANN (FNN).ipynb",
      "provenance": [],
      "collapsed_sections": []
    },
    "kernelspec": {
      "name": "python3",
      "display_name": "Python 3"
    },
    "accelerator": "GPU"
  },
  "cells": [
    {
      "cell_type": "code",
      "metadata": {
        "id": "NAupPTV3-y7A",
        "colab_type": "code",
        "colab": {
          "base_uri": "https://localhost:8080/",
          "height": 34
        },
        "outputId": "08574704-d94f-4721-dbe6-672bbae16d23"
      },
      "source": [
        "from google.colab import drive\n",
        "drive.mount('/content/drive')"
      ],
      "execution_count": 1,
      "outputs": [
        {
          "output_type": "stream",
          "text": [
            "Drive already mounted at /content/drive; to attempt to forcibly remount, call drive.mount(\"/content/drive\", force_remount=True).\n"
          ],
          "name": "stdout"
        }
      ]
    },
    {
      "cell_type": "code",
      "metadata": {
        "id": "Z5as5Qxc_Cak",
        "colab_type": "code",
        "colab": {
          "base_uri": "https://localhost:8080/",
          "height": 34
        },
        "outputId": "fd0c3467-2541-4969-a37f-37d92e0e4f7a"
      },
      "source": [
        "cd /content/drive/My Drive/Datasets/Others"
      ],
      "execution_count": 2,
      "outputs": [
        {
          "output_type": "stream",
          "text": [
            "/content/drive/My Drive/Datasets/Others\n"
          ],
          "name": "stdout"
        }
      ]
    },
    {
      "cell_type": "code",
      "metadata": {
        "id": "6F9bkPWz_EjR",
        "colab_type": "code",
        "colab": {
          "base_uri": "https://localhost:8080/",
          "height": 34
        },
        "outputId": "5d98e2ab-82ba-4ff8-ed45-663486af0194"
      },
      "source": [
        "ls"
      ],
      "execution_count": 3,
      "outputs": [
        {
          "output_type": "stream",
          "text": [
            "\u001b[0m\u001b[01;34mCatVsDog\u001b[0m/  Churn_Modelling.csv  \u001b[01;34mdata\u001b[0m/  \u001b[01;34mMnist\u001b[0m/\n"
          ],
          "name": "stdout"
        }
      ]
    },
    {
      "cell_type": "code",
      "metadata": {
        "id": "TuIXrQkIl0Cn",
        "colab_type": "code",
        "colab": {}
      },
      "source": [
        "import torch\n",
        "import torch.nn as nn\n",
        "from torch.autograd import Variable\n",
        "import torchvision.datasets as dsets\n",
        "import torchvision.transforms as transforms"
      ],
      "execution_count": 0,
      "outputs": []
    },
    {
      "cell_type": "code",
      "metadata": {
        "id": "j1yFB9VG-JQN",
        "colab_type": "code",
        "colab": {}
      },
      "source": [
        "#loading Dataset\n",
        "train_dataset = dsets.MNIST(root = '/Mnist', train= True, download = True, transform= transforms.ToTensor() )"
      ],
      "execution_count": 0,
      "outputs": []
    },
    {
      "cell_type": "code",
      "metadata": {
        "id": "4sWi2-bc_UWW",
        "colab_type": "code",
        "colab": {}
      },
      "source": [
        "test_dataset = dsets.MNIST(root = '/Mnist', train= False, transform= transforms.ToTensor() )"
      ],
      "execution_count": 0,
      "outputs": []
    },
    {
      "cell_type": "code",
      "metadata": {
        "id": "tlvXCooj_kA7",
        "colab_type": "code",
        "colab": {}
      },
      "source": [
        "# making dataset iterable \n",
        "# batch size defines here the number of sample that's going to be pass once\n",
        "# n_iter is defined in such a way to that it manually defined the epoch number\n",
        "\n",
        "batch_size = 100    \n",
        "n_iters = 3000\n",
        "epoch = n_iters / (len(train_dataset)/ batch_size)    # here  it will defined for 5 epochs == 3000 / (60,000 / 100)\n",
        "epoch = int(epoch)\n",
        "\n",
        "train_loader = torch.utils.data.DataLoader(dataset=train_dataset, batch_size= batch_size, shuffle = True)\n",
        "test_load = torch.utils.data.DataLoader(dataset = test_dataset, batch_size = batch_size, shuffle = False)"
      ],
      "execution_count": 0,
      "outputs": []
    },
    {
      "cell_type": "code",
      "metadata": {
        "id": "G4FGvarADCqc",
        "colab_type": "code",
        "colab": {}
      },
      "source": [
        "class FeedforwardNeuralNetModel(nn.Module):\n",
        "    def __init__(self, input_dim, hidden_dim, output_dim):\n",
        "        super(FeedforwardNeuralNetModel, self).__init__()\n",
        "        # Linear function 1: 784 --> 100\n",
        "        self.fc1 = nn.Linear(input_dim, hidden_dim) \n",
        "        # Non-linearity 1\n",
        "        self.relu1 = nn.ReLU()\n",
        "        \n",
        "        # Linear function 2: 100 --> 100\n",
        "        self.fc2 = nn.Linear(hidden_dim, hidden_dim)\n",
        "        # Non-linearity 2\n",
        "        self.relu2 = nn.ReLU()\n",
        "        \n",
        "        # Linear function 3: 100 --> 100\n",
        "        self.fc3 = nn.Linear(hidden_dim, hidden_dim)\n",
        "        # Non-linearity 3\n",
        "        self.relu3 = nn.ReLU()\n",
        "        \n",
        "        # Linear function 4 (readout): 100 --> 10\n",
        "        self.fc4 = nn.Linear(hidden_dim, output_dim)  \n",
        "    \n",
        "    def forward(self, x):\n",
        "        # Linear function 1\n",
        "        out = self.fc1(x)\n",
        "        # Non-linearity 1\n",
        "        out = self.relu1(out)\n",
        "        \n",
        "        # Linear function 2\n",
        "        out = self.fc2(out)\n",
        "        # Non-linearity 2\n",
        "        out = self.relu2(out)\n",
        "        \n",
        "        # Linear function 2\n",
        "        out = self.fc3(out)\n",
        "        # Non-linearity 2\n",
        "        out = self.relu3(out)\n",
        "        \n",
        "        # Linear function 4 (readout)\n",
        "        out = self.fc4(out)\n",
        "        return out\n"
      ],
      "execution_count": 0,
      "outputs": []
    },
    {
      "cell_type": "code",
      "metadata": {
        "id": "KFr4x_YBGKcn",
        "colab_type": "code",
        "colab": {}
      },
      "source": [
        "# hidden dim == # of neurons\n",
        "# input dim = size*size of the image\n",
        "# output dim == # of classes which is 10 in this case\n",
        "\n",
        "input_dim = 28*28\n",
        "output_dim = 10\n",
        "hidden_dim = 100\n",
        "\n",
        "model = FeedforwardNeuralNetModel(input_dim, hidden_dim, output_dim)"
      ],
      "execution_count": 0,
      "outputs": []
    },
    {
      "cell_type": "code",
      "metadata": {
        "id": "gf9qkBtpHWBI",
        "colab_type": "code",
        "colab": {}
      },
      "source": [
        "# initiate loss class\n",
        "\n",
        "criterion = nn.CrossEntropyLoss()"
      ],
      "execution_count": 0,
      "outputs": []
    },
    {
      "cell_type": "code",
      "metadata": {
        "id": "FmaZbMTMHq4F",
        "colab_type": "code",
        "colab": {}
      },
      "source": [
        "# backpropagation stuffs\n",
        "\n",
        "learning_rate = 0.1\n",
        "\n",
        "optimizer = torch.optim.SGD(model.parameters(),lr = learning_rate)"
      ],
      "execution_count": 0,
      "outputs": []
    },
    {
      "cell_type": "code",
      "metadata": {
        "id": "n_Q5Fe4cJImW",
        "colab_type": "code",
        "colab": {
          "base_uri": "https://localhost:8080/",
          "height": 119
        },
        "outputId": "5832c30c-e276-4fd0-a809-0e8a7c50ffbe"
      },
      "source": [
        "# training process\n",
        "\n",
        "iter = 0\n",
        "\n",
        "for nb_epoch in range(epoch):\n",
        "    for i,(images,labels) in enumerate(train_loader):\n",
        "        #load images as variable\n",
        "        images = Variable(images.view(-1, 28*28))\n",
        "        labels = Variable(labels)\n",
        "\n",
        "        #clear gradients w.r.t parameters\n",
        "        optimizer.zero_grad()\n",
        "\n",
        "        #forward pass to get output \n",
        "        output = model(images)\n",
        "        \n",
        "        #calculate loss = softmax ->  cross_entropy\n",
        "        loss = criterion(output, labels)\n",
        "\n",
        "        #getting gradients w.r.t parameters\n",
        "        loss.backward()\n",
        "\n",
        "        #updating parameters \n",
        "        optimizer.step()\n",
        "\n",
        "        iter += 1\n",
        "\n",
        "        if iter % 500 == 0:\n",
        "            #calculate accuracy\n",
        "            correct = 0\n",
        "            total = 0\n",
        "\n",
        "            #iterate through test dataset \n",
        "            for images,labels in test_load:\n",
        "                images = Variable(images.view(-1,28*28))\n",
        "                \n",
        "                output = model(images)\n",
        "\n",
        "                #get prediction for the output\n",
        "                _,predicted = torch.max(output.data, 1)\n",
        "\n",
        "                total += labels.size(0)\n",
        "\n",
        "                #total correct prediction \n",
        "                correct += (predicted == labels).sum()\n",
        "\n",
        "            accuracy = 100 * correct / total \n",
        "\n",
        "            #print loss\n",
        "            print(\"Iteration: {} | Loss: {} | Accuracy: {}\".format( iter ,loss.data,accuracy))            \n",
        "\n",
        "\n",
        "\n"
      ],
      "execution_count": 12,
      "outputs": [
        {
          "output_type": "stream",
          "text": [
            "Iteration: 500 | Loss: 0.2477715164422989 | Accuracy: 90\n",
            "Iteration: 1000 | Loss: 0.2593822181224823 | Accuracy: 93\n",
            "Iteration: 1500 | Loss: 0.21495206654071808 | Accuracy: 95\n",
            "Iteration: 2000 | Loss: 0.11682619154453278 | Accuracy: 95\n",
            "Iteration: 2500 | Loss: 0.14119859039783478 | Accuracy: 96\n",
            "Iteration: 3000 | Loss: 0.12458039075136185 | Accuracy: 96\n"
          ],
          "name": "stdout"
        }
      ]
    },
    {
      "cell_type": "code",
      "metadata": {
        "id": "eRuBBOimXuke",
        "colab_type": "code",
        "colab": {}
      },
      "source": [
        ""
      ],
      "execution_count": 0,
      "outputs": []
    }
  ]
}