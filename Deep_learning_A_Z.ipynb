{
  "nbformat": 4,
  "nbformat_minor": 0,
  "metadata": {
    "colab": {
      "name": "Deep_learning_A-Z.ipynb",
      "provenance": [],
      "collapsed_sections": [
        "ZsvXgoLLQQ3e",
        "z0vddufXQslJ",
        "P4HGqp1KfIj3",
        "uhxMcbDAwy-o"
      ]
    },
    "kernelspec": {
      "name": "python3",
      "display_name": "Python 3"
    },
    "accelerator": "GPU"
  },
  "cells": [
    {
      "cell_type": "markdown",
      "metadata": {
        "id": "NL5oV29x9z_1",
        "colab_type": "text"
      },
      "source": [
        "**Deep Leaning**"
      ]
    },
    {
      "cell_type": "code",
      "metadata": {
        "id": "oZH170xP9_sZ",
        "colab_type": "code",
        "colab": {}
      },
      "source": [
        "from google.colab import drive\n",
        "drive.mount('/content/drive')"
      ],
      "execution_count": 0,
      "outputs": []
    },
    {
      "cell_type": "code",
      "metadata": {
        "id": "3wMZ5kPn-BHt",
        "colab_type": "code",
        "outputId": "4454b0eb-47b9-4a31-86ff-901c5ed70c7b",
        "colab": {
          "base_uri": "https://localhost:8080/",
          "height": 34
        }
      },
      "source": [
        "cd /content/drive/My Drive/Datasets/Others"
      ],
      "execution_count": 2,
      "outputs": [
        {
          "output_type": "stream",
          "text": [
            "/content/drive/My Drive/Datasets/Others\n"
          ],
          "name": "stdout"
        }
      ]
    },
    {
      "cell_type": "code",
      "metadata": {
        "id": "Z9BDftS5-Omb",
        "colab_type": "code",
        "outputId": "09a9b360-a198-426f-f524-07f3324126c0",
        "colab": {
          "base_uri": "https://localhost:8080/",
          "height": 34
        }
      },
      "source": [
        "ls"
      ],
      "execution_count": 3,
      "outputs": [
        {
          "output_type": "stream",
          "text": [
            "\u001b[0m\u001b[01;34mCatVsDog\u001b[0m/  Churn_Modelling.csv\n"
          ],
          "name": "stdout"
        }
      ]
    },
    {
      "cell_type": "markdown",
      "metadata": {
        "id": "JCyHxfAUb22z",
        "colab_type": "text"
      },
      "source": [
        "# ANN"
      ]
    },
    {
      "cell_type": "markdown",
      "metadata": {
        "id": "ZsvXgoLLQQ3e",
        "colab_type": "text"
      },
      "source": [
        "# Preprocessing"
      ]
    },
    {
      "cell_type": "code",
      "metadata": {
        "id": "EYX6tpyB-a1Y",
        "colab_type": "code",
        "colab": {}
      },
      "source": [
        "import numpy as np\n",
        "import matplotlib.pyplot as plt\n",
        "import pandas as pd"
      ],
      "execution_count": 0,
      "outputs": []
    },
    {
      "cell_type": "code",
      "metadata": {
        "id": "LW0BqSTT_Zsv",
        "colab_type": "code",
        "colab": {}
      },
      "source": [
        "dataset = pd.read_csv(\"Churn_Modelling.csv\")"
      ],
      "execution_count": 0,
      "outputs": []
    },
    {
      "cell_type": "code",
      "metadata": {
        "id": "NzDdn-xO_h96",
        "colab_type": "code",
        "outputId": "48bfa944-b400-49bc-e0bc-9aa382da689f",
        "colab": {
          "base_uri": "https://localhost:8080/"
        }
      },
      "source": [
        "dataset.head()"
      ],
      "execution_count": 0,
      "outputs": [
        {
          "output_type": "execute_result",
          "data": {
            "text/html": [
              "<div>\n",
              "<style scoped>\n",
              "    .dataframe tbody tr th:only-of-type {\n",
              "        vertical-align: middle;\n",
              "    }\n",
              "\n",
              "    .dataframe tbody tr th {\n",
              "        vertical-align: top;\n",
              "    }\n",
              "\n",
              "    .dataframe thead th {\n",
              "        text-align: right;\n",
              "    }\n",
              "</style>\n",
              "<table border=\"1\" class=\"dataframe\">\n",
              "  <thead>\n",
              "    <tr style=\"text-align: right;\">\n",
              "      <th></th>\n",
              "      <th>RowNumber</th>\n",
              "      <th>CustomerId</th>\n",
              "      <th>Surname</th>\n",
              "      <th>CreditScore</th>\n",
              "      <th>Geography</th>\n",
              "      <th>Gender</th>\n",
              "      <th>Age</th>\n",
              "      <th>Tenure</th>\n",
              "      <th>Balance</th>\n",
              "      <th>NumOfProducts</th>\n",
              "      <th>HasCrCard</th>\n",
              "      <th>IsActiveMember</th>\n",
              "      <th>EstimatedSalary</th>\n",
              "      <th>Exited</th>\n",
              "    </tr>\n",
              "  </thead>\n",
              "  <tbody>\n",
              "    <tr>\n",
              "      <th>0</th>\n",
              "      <td>1</td>\n",
              "      <td>15634602</td>\n",
              "      <td>Hargrave</td>\n",
              "      <td>619</td>\n",
              "      <td>France</td>\n",
              "      <td>Female</td>\n",
              "      <td>42</td>\n",
              "      <td>2</td>\n",
              "      <td>0.00</td>\n",
              "      <td>1</td>\n",
              "      <td>1</td>\n",
              "      <td>1</td>\n",
              "      <td>101348.88</td>\n",
              "      <td>1</td>\n",
              "    </tr>\n",
              "    <tr>\n",
              "      <th>1</th>\n",
              "      <td>2</td>\n",
              "      <td>15647311</td>\n",
              "      <td>Hill</td>\n",
              "      <td>608</td>\n",
              "      <td>Spain</td>\n",
              "      <td>Female</td>\n",
              "      <td>41</td>\n",
              "      <td>1</td>\n",
              "      <td>83807.86</td>\n",
              "      <td>1</td>\n",
              "      <td>0</td>\n",
              "      <td>1</td>\n",
              "      <td>112542.58</td>\n",
              "      <td>0</td>\n",
              "    </tr>\n",
              "    <tr>\n",
              "      <th>2</th>\n",
              "      <td>3</td>\n",
              "      <td>15619304</td>\n",
              "      <td>Onio</td>\n",
              "      <td>502</td>\n",
              "      <td>France</td>\n",
              "      <td>Female</td>\n",
              "      <td>42</td>\n",
              "      <td>8</td>\n",
              "      <td>159660.80</td>\n",
              "      <td>3</td>\n",
              "      <td>1</td>\n",
              "      <td>0</td>\n",
              "      <td>113931.57</td>\n",
              "      <td>1</td>\n",
              "    </tr>\n",
              "    <tr>\n",
              "      <th>3</th>\n",
              "      <td>4</td>\n",
              "      <td>15701354</td>\n",
              "      <td>Boni</td>\n",
              "      <td>699</td>\n",
              "      <td>France</td>\n",
              "      <td>Female</td>\n",
              "      <td>39</td>\n",
              "      <td>1</td>\n",
              "      <td>0.00</td>\n",
              "      <td>2</td>\n",
              "      <td>0</td>\n",
              "      <td>0</td>\n",
              "      <td>93826.63</td>\n",
              "      <td>0</td>\n",
              "    </tr>\n",
              "    <tr>\n",
              "      <th>4</th>\n",
              "      <td>5</td>\n",
              "      <td>15737888</td>\n",
              "      <td>Mitchell</td>\n",
              "      <td>850</td>\n",
              "      <td>Spain</td>\n",
              "      <td>Female</td>\n",
              "      <td>43</td>\n",
              "      <td>2</td>\n",
              "      <td>125510.82</td>\n",
              "      <td>1</td>\n",
              "      <td>1</td>\n",
              "      <td>1</td>\n",
              "      <td>79084.10</td>\n",
              "      <td>0</td>\n",
              "    </tr>\n",
              "  </tbody>\n",
              "</table>\n",
              "</div>"
            ],
            "text/plain": [
              "   RowNumber  CustomerId   Surname  ...  IsActiveMember EstimatedSalary Exited\n",
              "0          1    15634602  Hargrave  ...               1       101348.88      1\n",
              "1          2    15647311      Hill  ...               1       112542.58      0\n",
              "2          3    15619304      Onio  ...               0       113931.57      1\n",
              "3          4    15701354      Boni  ...               0        93826.63      0\n",
              "4          5    15737888  Mitchell  ...               1        79084.10      0\n",
              "\n",
              "[5 rows x 14 columns]"
            ]
          },
          "metadata": {
            "tags": []
          },
          "execution_count": 6
        }
      ]
    },
    {
      "cell_type": "code",
      "metadata": {
        "id": "o7rGupeS_nhu",
        "colab_type": "code",
        "outputId": "8d5c6d84-fda3-412b-ba4b-253de89e4ca7",
        "colab": {
          "base_uri": "https://localhost:8080/"
        }
      },
      "source": [
        "dataset.describe"
      ],
      "execution_count": 0,
      "outputs": [
        {
          "output_type": "execute_result",
          "data": {
            "text/plain": [
              "<bound method NDFrame.describe of       RowNumber  CustomerId    Surname  ...  IsActiveMember EstimatedSalary Exited\n",
              "0             1    15634602   Hargrave  ...               1       101348.88      1\n",
              "1             2    15647311       Hill  ...               1       112542.58      0\n",
              "2             3    15619304       Onio  ...               0       113931.57      1\n",
              "3             4    15701354       Boni  ...               0        93826.63      0\n",
              "4             5    15737888   Mitchell  ...               1        79084.10      0\n",
              "...         ...         ...        ...  ...             ...             ...    ...\n",
              "9995       9996    15606229   Obijiaku  ...               0        96270.64      0\n",
              "9996       9997    15569892  Johnstone  ...               1       101699.77      0\n",
              "9997       9998    15584532        Liu  ...               1        42085.58      1\n",
              "9998       9999    15682355  Sabbatini  ...               0        92888.52      1\n",
              "9999      10000    15628319     Walker  ...               0        38190.78      0\n",
              "\n",
              "[10000 rows x 14 columns]>"
            ]
          },
          "metadata": {
            "tags": []
          },
          "execution_count": 7
        }
      ]
    },
    {
      "cell_type": "code",
      "metadata": {
        "id": "HD3O1bc4_rGM",
        "colab_type": "code",
        "colab": {}
      },
      "source": [
        "X = dataset.iloc[:,3:13].values\n",
        "y = dataset.iloc[:,13].values"
      ],
      "execution_count": 0,
      "outputs": []
    },
    {
      "cell_type": "code",
      "metadata": {
        "id": "nq7gJ_81CXhD",
        "colab_type": "code",
        "outputId": "089c5143-3bcc-41de-8d8b-ea0630addd88",
        "colab": {
          "base_uri": "https://localhost:8080/"
        }
      },
      "source": [
        "X"
      ],
      "execution_count": 0,
      "outputs": [
        {
          "output_type": "execute_result",
          "data": {
            "text/plain": [
              "array([[619, 'France', 'Female', ..., 1, 1, 101348.88],\n",
              "       [608, 'Spain', 'Female', ..., 0, 1, 112542.58],\n",
              "       [502, 'France', 'Female', ..., 1, 0, 113931.57],\n",
              "       ...,\n",
              "       [709, 'France', 'Female', ..., 0, 1, 42085.58],\n",
              "       [772, 'Germany', 'Male', ..., 1, 0, 92888.52],\n",
              "       [792, 'France', 'Female', ..., 1, 0, 38190.78]], dtype=object)"
            ]
          },
          "metadata": {
            "tags": []
          },
          "execution_count": 9
        }
      ]
    },
    {
      "cell_type": "code",
      "metadata": {
        "id": "dGxIYB9hBHJu",
        "colab_type": "code",
        "colab": {}
      },
      "source": [
        "#for converting from categorical to numerical like word to number4\n",
        "from sklearn.preprocessing import LabelEncoder,OneHotEncoder\n",
        "from sklearn.compose import ColumnTransformer"
      ],
      "execution_count": 0,
      "outputs": []
    },
    {
      "cell_type": "code",
      "metadata": {
        "id": "Wy5tjkAaChvc",
        "colab_type": "code",
        "colab": {}
      },
      "source": [
        "# for gender\n",
        "labelEncoderGender = LabelEncoder()\n",
        "X[:,2] = labelEncoderGender.fit_transform(X[:,2])"
      ],
      "execution_count": 0,
      "outputs": []
    },
    {
      "cell_type": "code",
      "metadata": {
        "id": "AZ6uOEdMCuM0",
        "colab_type": "code",
        "outputId": "34d6d23f-b89d-4472-e24a-5641be62c89a",
        "colab": {
          "base_uri": "https://localhost:8080/"
        }
      },
      "source": [
        "X"
      ],
      "execution_count": 0,
      "outputs": [
        {
          "output_type": "execute_result",
          "data": {
            "text/plain": [
              "array([[619, 'France', 0, ..., 1, 1, 101348.88],\n",
              "       [608, 'Spain', 0, ..., 0, 1, 112542.58],\n",
              "       [502, 'France', 0, ..., 1, 0, 113931.57],\n",
              "       ...,\n",
              "       [709, 'France', 0, ..., 0, 1, 42085.58],\n",
              "       [772, 'Germany', 1, ..., 1, 0, 92888.52],\n",
              "       [792, 'France', 0, ..., 1, 0, 38190.78]], dtype=object)"
            ]
          },
          "metadata": {
            "tags": []
          },
          "execution_count": 12
        }
      ]
    },
    {
      "cell_type": "code",
      "metadata": {
        "id": "Mr0ZEXEWLEry",
        "colab_type": "code",
        "colab": {}
      },
      "source": [
        "transformer = ColumnTransformer(\n",
        "    transformers=[\n",
        "        (\"OneHot\",        # Just a name\n",
        "         OneHotEncoder(), # The transformer class\n",
        "         [1]              # The column(s) to be applied on.\n",
        "         )\n",
        "    ],\n",
        "    remainder='passthrough' # donot apply anything to the remaining columns\n",
        ")\n",
        "X = transformer.fit_transform(X)"
      ],
      "execution_count": 0,
      "outputs": []
    },
    {
      "cell_type": "code",
      "metadata": {
        "id": "d73XIMAqEA1P",
        "colab_type": "code",
        "outputId": "293db26b-057f-4b69-f87f-d165ac9a5dd7",
        "colab": {
          "base_uri": "https://localhost:8080/"
        }
      },
      "source": [
        "X"
      ],
      "execution_count": 0,
      "outputs": [
        {
          "output_type": "execute_result",
          "data": {
            "text/plain": [
              "array([[1.0, 0.0, 0.0, ..., 1, 1, 101348.88],\n",
              "       [0.0, 0.0, 1.0, ..., 0, 1, 112542.58],\n",
              "       [1.0, 0.0, 0.0, ..., 1, 0, 113931.57],\n",
              "       ...,\n",
              "       [1.0, 0.0, 0.0, ..., 0, 1, 42085.58],\n",
              "       [0.0, 1.0, 0.0, ..., 1, 0, 92888.52],\n",
              "       [1.0, 0.0, 0.0, ..., 1, 0, 38190.78]], dtype=object)"
            ]
          },
          "metadata": {
            "tags": []
          },
          "execution_count": 14
        }
      ]
    },
    {
      "cell_type": "code",
      "metadata": {
        "id": "5hdHeHZOGxij",
        "colab_type": "code",
        "colab": {}
      },
      "source": [
        "X = X[:,1:]"
      ],
      "execution_count": 0,
      "outputs": []
    },
    {
      "cell_type": "code",
      "metadata": {
        "id": "FHhtI9SGLwes",
        "colab_type": "code",
        "outputId": "9f5fbdf1-9b96-4aa2-d4fe-c9f6de484b74",
        "colab": {
          "base_uri": "https://localhost:8080/"
        }
      },
      "source": [
        "X"
      ],
      "execution_count": 0,
      "outputs": [
        {
          "output_type": "execute_result",
          "data": {
            "text/plain": [
              "array([[0.0, 0.0, 619, ..., 1, 1, 101348.88],\n",
              "       [0.0, 1.0, 608, ..., 0, 1, 112542.58],\n",
              "       [0.0, 0.0, 502, ..., 1, 0, 113931.57],\n",
              "       ...,\n",
              "       [0.0, 0.0, 709, ..., 0, 1, 42085.58],\n",
              "       [1.0, 0.0, 772, ..., 1, 0, 92888.52],\n",
              "       [0.0, 0.0, 792, ..., 1, 0, 38190.78]], dtype=object)"
            ]
          },
          "metadata": {
            "tags": []
          },
          "execution_count": 16
        }
      ]
    },
    {
      "cell_type": "code",
      "metadata": {
        "id": "xaZ7m8TtLw6S",
        "colab_type": "code",
        "colab": {}
      },
      "source": [
        "X[:,0] = X[:,0].astype(int)\n",
        "X[:,1] = X[:,1].astype(int)"
      ],
      "execution_count": 0,
      "outputs": []
    },
    {
      "cell_type": "code",
      "metadata": {
        "id": "v0zzS_C3MGRu",
        "colab_type": "code",
        "outputId": "d3d86dd9-168c-457e-d6bc-d9e7516530fd",
        "colab": {
          "base_uri": "https://localhost:8080/"
        }
      },
      "source": [
        "X"
      ],
      "execution_count": 0,
      "outputs": [
        {
          "output_type": "execute_result",
          "data": {
            "text/plain": [
              "array([[0, 0, 619, ..., 1, 1, 101348.88],\n",
              "       [0, 1, 608, ..., 0, 1, 112542.58],\n",
              "       [0, 0, 502, ..., 1, 0, 113931.57],\n",
              "       ...,\n",
              "       [0, 0, 709, ..., 0, 1, 42085.58],\n",
              "       [1, 0, 772, ..., 1, 0, 92888.52],\n",
              "       [0, 0, 792, ..., 1, 0, 38190.78]], dtype=object)"
            ]
          },
          "metadata": {
            "tags": []
          },
          "execution_count": 18
        }
      ]
    },
    {
      "cell_type": "code",
      "metadata": {
        "id": "iIMIJmL2MxMK",
        "colab_type": "code",
        "colab": {}
      },
      "source": [
        "#training start (spliting)\n",
        "from sklearn.model_selection import train_test_split"
      ],
      "execution_count": 0,
      "outputs": []
    },
    {
      "cell_type": "code",
      "metadata": {
        "id": "2B5W-yo9M88E",
        "colab_type": "code",
        "colab": {}
      },
      "source": [
        "X_train, X_test, y_train, y_test = train_test_split(X, y, test_size = 0.2, random_state = 0)"
      ],
      "execution_count": 0,
      "outputs": []
    },
    {
      "cell_type": "code",
      "metadata": {
        "id": "u50fjze2NyQI",
        "colab_type": "code",
        "colab": {}
      },
      "source": [
        "# scaling features\n",
        "from sklearn.preprocessing import StandardScaler\n"
      ],
      "execution_count": 0,
      "outputs": []
    },
    {
      "cell_type": "code",
      "metadata": {
        "id": "W5hJMtIQOdnA",
        "colab_type": "code",
        "colab": {}
      },
      "source": [
        "sc = StandardScaler()\n",
        "X_train = sc.fit_transform(X_train)\n",
        "X_test = sc.fit_transform(X_test)"
      ],
      "execution_count": 0,
      "outputs": []
    },
    {
      "cell_type": "markdown",
      "metadata": {
        "id": "z0vddufXQslJ",
        "colab_type": "text"
      },
      "source": [
        "# Training and tesing"
      ]
    },
    {
      "cell_type": "code",
      "metadata": {
        "id": "GWS8OER5OrfJ",
        "colab_type": "code",
        "colab": {}
      },
      "source": [
        "import keras\n",
        "from keras.models import Sequential\n",
        "from keras.layers import Dense"
      ],
      "execution_count": 0,
      "outputs": []
    },
    {
      "cell_type": "code",
      "metadata": {
        "id": "KooZMqCTQ3qd",
        "colab_type": "code",
        "colab": {}
      },
      "source": [
        "classifier = Sequential()"
      ],
      "execution_count": 0,
      "outputs": []
    },
    {
      "cell_type": "code",
      "metadata": {
        "id": "IVBmErOkGr05",
        "colab_type": "code",
        "colab": {}
      },
      "source": [
        "#dense will initialize the input and hidden layer in ann\n",
        "#selecting output dim is an Art , no rules of thumb, for this session - I am taking average of input and output layer  which is 11+1 / 2 = 6\n",
        "#init initialized the initial weight, which we need to initialize close to Zero  with normal / uniform distribution\n",
        "#in standard way, relu is good for input and sigmoid is good for output   \n",
        "#input dimension is first attempt must have to be mention \n",
        "#important note is , in dense we  must declare all the necessary parameter\n",
        "classifier.add(Dense(output_dim = 6, init= 'uniform', activation = 'relu', input_dim = 11))"
      ],
      "execution_count": 0,
      "outputs": []
    },
    {
      "cell_type": "code",
      "metadata": {
        "id": "GfN9YUcoKjPr",
        "colab_type": "code",
        "colab": {}
      },
      "source": [
        "#as first input and hidden layer is initialized with Dense()\n",
        "#second hidden layer\n",
        "# as I've mentioned earlier , no need  to add input_dim after first attempt , as  the system already knows about this \n",
        "classifier.add(Dense(output_dim = 6, init= 'uniform', activation = 'relu'))"
      ],
      "execution_count": 0,
      "outputs": []
    },
    {
      "cell_type": "code",
      "metadata": {
        "id": "aQtPXGDPLWTd",
        "colab_type": "code",
        "colab": {}
      },
      "source": [
        "#output layer\n",
        "#sigmoid is  the heart of probabilistic function\n",
        "#it is  a binary classification so output dim here will be = 1\n",
        "#for more than binary classification , such as for 3 categories we'll need  3 output dim\n",
        "#and activation will be \"softmax\" as it will create  relationship between output layer's neuron \n",
        "classifier.add(Dense(output_dim = 1, init= 'uniform', activation = 'sigmoid'))"
      ],
      "execution_count": 0,
      "outputs": []
    },
    {
      "cell_type": "code",
      "metadata": {
        "id": "VPYCOI7KMh9w",
        "colab_type": "code",
        "colab": {}
      },
      "source": [
        "#optimization stuffs\n",
        "#for backpropagations stuffs  I have used \"adam\" here, loss function => for binary = binary_crossentropy ->for more than two = categorical_crossentropy  (sgd)\n",
        "#after each update of the weight we need  some means to evaluate the model at present situation\n",
        "#so for that method funcstion come metrics= ['accuracy'] (as it demands a  list)\n",
        "classifier.compile(optimizer='adam', loss = 'binary_crossentropy', metrics = ['accuracy'])"
      ],
      "execution_count": 0,
      "outputs": []
    },
    {
      "cell_type": "code",
      "metadata": {
        "id": "Z-yj0k9BTASf",
        "colab_type": "code",
        "outputId": "0646fda0-627f-48d1-c848-ca08ca83b780",
        "colab": {
          "base_uri": "https://localhost:8080/",
          "height": 1000
        }
      },
      "source": [
        "  #here we have only defined  layers but till now  no connection -> for  this fit actually comes in\n",
        "  #for selecting batch_size and  epochs , there's no fixed rules \n",
        "  classifier.fit(X_train,y_train, batch_size = 10, epochs= 100)"
      ],
      "execution_count": 0,
      "outputs": [
        {
          "output_type": "stream",
          "text": [
            "WARNING:tensorflow:From /usr/local/lib/python3.6/dist-packages/keras/backend/tensorflow_backend.py:1033: The name tf.assign_add is deprecated. Please use tf.compat.v1.assign_add instead.\n",
            "\n",
            "WARNING:tensorflow:From /usr/local/lib/python3.6/dist-packages/keras/backend/tensorflow_backend.py:1020: The name tf.assign is deprecated. Please use tf.compat.v1.assign instead.\n",
            "\n",
            "WARNING:tensorflow:From /usr/local/lib/python3.6/dist-packages/keras/backend/tensorflow_backend.py:3005: The name tf.Session is deprecated. Please use tf.compat.v1.Session instead.\n",
            "\n",
            "Epoch 1/100\n",
            "WARNING:tensorflow:From /usr/local/lib/python3.6/dist-packages/keras/backend/tensorflow_backend.py:190: The name tf.get_default_session is deprecated. Please use tf.compat.v1.get_default_session instead.\n",
            "\n",
            "WARNING:tensorflow:From /usr/local/lib/python3.6/dist-packages/keras/backend/tensorflow_backend.py:197: The name tf.ConfigProto is deprecated. Please use tf.compat.v1.ConfigProto instead.\n",
            "\n",
            "WARNING:tensorflow:From /usr/local/lib/python3.6/dist-packages/keras/backend/tensorflow_backend.py:207: The name tf.global_variables is deprecated. Please use tf.compat.v1.global_variables instead.\n",
            "\n",
            "WARNING:tensorflow:From /usr/local/lib/python3.6/dist-packages/keras/backend/tensorflow_backend.py:216: The name tf.is_variable_initialized is deprecated. Please use tf.compat.v1.is_variable_initialized instead.\n",
            "\n",
            "WARNING:tensorflow:From /usr/local/lib/python3.6/dist-packages/keras/backend/tensorflow_backend.py:223: The name tf.variables_initializer is deprecated. Please use tf.compat.v1.variables_initializer instead.\n",
            "\n",
            "8000/8000 [==============================] - 13s 2ms/step - loss: 0.4811 - acc: 0.7954\n",
            "Epoch 2/100\n",
            "8000/8000 [==============================] - 4s 494us/step - loss: 0.4287 - acc: 0.7960\n",
            "Epoch 3/100\n",
            "8000/8000 [==============================] - 4s 497us/step - loss: 0.4233 - acc: 0.7960\n",
            "Epoch 4/100\n",
            "8000/8000 [==============================] - 4s 490us/step - loss: 0.4183 - acc: 0.8177\n",
            "Epoch 5/100\n",
            "8000/8000 [==============================] - 4s 515us/step - loss: 0.4159 - acc: 0.8250\n",
            "Epoch 6/100\n",
            "8000/8000 [==============================] - 4s 500us/step - loss: 0.4142 - acc: 0.8300\n",
            "Epoch 7/100\n",
            "8000/8000 [==============================] - 4s 470us/step - loss: 0.4123 - acc: 0.8305\n",
            "Epoch 8/100\n",
            "8000/8000 [==============================] - 4s 480us/step - loss: 0.4111 - acc: 0.8302\n",
            "Epoch 9/100\n",
            "8000/8000 [==============================] - 4s 479us/step - loss: 0.4105 - acc: 0.8316\n",
            "Epoch 10/100\n",
            "8000/8000 [==============================] - 4s 493us/step - loss: 0.4087 - acc: 0.8342\n",
            "Epoch 11/100\n",
            "8000/8000 [==============================] - 4s 488us/step - loss: 0.4084 - acc: 0.8345\n",
            "Epoch 12/100\n",
            "8000/8000 [==============================] - 4s 484us/step - loss: 0.4071 - acc: 0.8330\n",
            "Epoch 13/100\n",
            "8000/8000 [==============================] - 4s 488us/step - loss: 0.4072 - acc: 0.8349\n",
            "Epoch 14/100\n",
            "8000/8000 [==============================] - 4s 492us/step - loss: 0.4061 - acc: 0.8341\n",
            "Epoch 15/100\n",
            "8000/8000 [==============================] - 4s 471us/step - loss: 0.4057 - acc: 0.8341\n",
            "Epoch 16/100\n",
            "8000/8000 [==============================] - 4s 479us/step - loss: 0.4050 - acc: 0.8345\n",
            "Epoch 17/100\n",
            "8000/8000 [==============================] - 4s 491us/step - loss: 0.4051 - acc: 0.8350\n",
            "Epoch 18/100\n",
            "8000/8000 [==============================] - 4s 479us/step - loss: 0.4042 - acc: 0.8342\n",
            "Epoch 19/100\n",
            "8000/8000 [==============================] - 4s 474us/step - loss: 0.4041 - acc: 0.8342\n",
            "Epoch 20/100\n",
            "8000/8000 [==============================] - 4s 479us/step - loss: 0.4039 - acc: 0.8360\n",
            "Epoch 21/100\n",
            "8000/8000 [==============================] - 4s 489us/step - loss: 0.4036 - acc: 0.8342\n",
            "Epoch 22/100\n",
            "8000/8000 [==============================] - 4s 484us/step - loss: 0.4027 - acc: 0.8354\n",
            "Epoch 23/100\n",
            "8000/8000 [==============================] - 4s 472us/step - loss: 0.4031 - acc: 0.8351\n",
            "Epoch 24/100\n",
            "8000/8000 [==============================] - 4s 476us/step - loss: 0.4029 - acc: 0.8337\n",
            "Epoch 25/100\n",
            "8000/8000 [==============================] - 4s 487us/step - loss: 0.4024 - acc: 0.8345\n",
            "Epoch 26/100\n",
            "8000/8000 [==============================] - 4s 488us/step - loss: 0.4029 - acc: 0.8342\n",
            "Epoch 27/100\n",
            "8000/8000 [==============================] - 4s 473us/step - loss: 0.4023 - acc: 0.8345\n",
            "Epoch 28/100\n",
            "8000/8000 [==============================] - 4s 473us/step - loss: 0.4017 - acc: 0.8354\n",
            "Epoch 29/100\n",
            "8000/8000 [==============================] - 4s 465us/step - loss: 0.4021 - acc: 0.8337\n",
            "Epoch 30/100\n",
            "8000/8000 [==============================] - 4s 482us/step - loss: 0.4020 - acc: 0.8339\n",
            "Epoch 31/100\n",
            "8000/8000 [==============================] - 4s 474us/step - loss: 0.4017 - acc: 0.8346\n",
            "Epoch 32/100\n",
            "8000/8000 [==============================] - 4s 476us/step - loss: 0.4016 - acc: 0.8351\n",
            "Epoch 33/100\n",
            "8000/8000 [==============================] - 4s 484us/step - loss: 0.4014 - acc: 0.8351\n",
            "Epoch 34/100\n",
            "8000/8000 [==============================] - 4s 474us/step - loss: 0.4012 - acc: 0.8359\n",
            "Epoch 35/100\n",
            "8000/8000 [==============================] - 4s 464us/step - loss: 0.4009 - acc: 0.8340\n",
            "Epoch 36/100\n",
            "8000/8000 [==============================] - 4s 487us/step - loss: 0.4017 - acc: 0.8337\n",
            "Epoch 37/100\n",
            "8000/8000 [==============================] - 4s 487us/step - loss: 0.4012 - acc: 0.8337\n",
            "Epoch 38/100\n",
            "8000/8000 [==============================] - 4s 496us/step - loss: 0.4013 - acc: 0.8337\n",
            "Epoch 39/100\n",
            "8000/8000 [==============================] - 4s 483us/step - loss: 0.4010 - acc: 0.8357\n",
            "Epoch 40/100\n",
            "8000/8000 [==============================] - 4s 475us/step - loss: 0.4009 - acc: 0.8364\n",
            "Epoch 41/100\n",
            "8000/8000 [==============================] - 4s 485us/step - loss: 0.4002 - acc: 0.8344\n",
            "Epoch 42/100\n",
            "8000/8000 [==============================] - 4s 483us/step - loss: 0.4009 - acc: 0.8349\n",
            "Epoch 43/100\n",
            "8000/8000 [==============================] - 4s 476us/step - loss: 0.4007 - acc: 0.8362\n",
            "Epoch 44/100\n",
            "8000/8000 [==============================] - 4s 487us/step - loss: 0.4011 - acc: 0.8356\n",
            "Epoch 45/100\n",
            "8000/8000 [==============================] - 4s 483us/step - loss: 0.4004 - acc: 0.8345\n",
            "Epoch 46/100\n",
            "8000/8000 [==============================] - 4s 479us/step - loss: 0.4007 - acc: 0.8332\n",
            "Epoch 47/100\n",
            "8000/8000 [==============================] - 4s 465us/step - loss: 0.4006 - acc: 0.8360\n",
            "Epoch 48/100\n",
            "8000/8000 [==============================] - 4s 474us/step - loss: 0.4002 - acc: 0.8335\n",
            "Epoch 49/100\n",
            "8000/8000 [==============================] - 4s 489us/step - loss: 0.4009 - acc: 0.8360\n",
            "Epoch 50/100\n",
            "8000/8000 [==============================] - 4s 465us/step - loss: 0.4002 - acc: 0.8355\n",
            "Epoch 51/100\n",
            "8000/8000 [==============================] - 4s 476us/step - loss: 0.4007 - acc: 0.8356\n",
            "Epoch 52/100\n",
            "8000/8000 [==============================] - 4s 475us/step - loss: 0.4005 - acc: 0.8355\n",
            "Epoch 53/100\n",
            "8000/8000 [==============================] - 4s 466us/step - loss: 0.4004 - acc: 0.8334\n",
            "Epoch 54/100\n",
            "8000/8000 [==============================] - 4s 480us/step - loss: 0.4006 - acc: 0.8347\n",
            "Epoch 55/100\n",
            "8000/8000 [==============================] - 4s 465us/step - loss: 0.4006 - acc: 0.8337\n",
            "Epoch 56/100\n",
            "8000/8000 [==============================] - 4s 484us/step - loss: 0.4005 - acc: 0.8354\n",
            "Epoch 57/100\n",
            "8000/8000 [==============================] - 4s 480us/step - loss: 0.4004 - acc: 0.8330\n",
            "Epoch 58/100\n",
            "8000/8000 [==============================] - 4s 484us/step - loss: 0.4002 - acc: 0.8366\n",
            "Epoch 59/100\n",
            "8000/8000 [==============================] - 4s 488us/step - loss: 0.4005 - acc: 0.8337\n",
            "Epoch 60/100\n",
            "8000/8000 [==============================] - 4s 482us/step - loss: 0.4003 - acc: 0.8350\n",
            "Epoch 61/100\n",
            "8000/8000 [==============================] - 4s 474us/step - loss: 0.3998 - acc: 0.8344\n",
            "Epoch 62/100\n",
            "8000/8000 [==============================] - 4s 487us/step - loss: 0.4003 - acc: 0.8350\n",
            "Epoch 63/100\n",
            "8000/8000 [==============================] - 4s 482us/step - loss: 0.4002 - acc: 0.8355\n",
            "Epoch 64/100\n",
            "8000/8000 [==============================] - 4s 487us/step - loss: 0.4000 - acc: 0.8346\n",
            "Epoch 65/100\n",
            "8000/8000 [==============================] - 4s 470us/step - loss: 0.4000 - acc: 0.8357\n",
            "Epoch 66/100\n",
            "8000/8000 [==============================] - 4s 466us/step - loss: 0.4004 - acc: 0.8342\n",
            "Epoch 67/100\n",
            "8000/8000 [==============================] - 4s 475us/step - loss: 0.4000 - acc: 0.8341\n",
            "Epoch 68/100\n",
            "8000/8000 [==============================] - 4s 482us/step - loss: 0.3995 - acc: 0.8357\n",
            "Epoch 69/100\n",
            "8000/8000 [==============================] - 4s 480us/step - loss: 0.4003 - acc: 0.8336\n",
            "Epoch 70/100\n",
            "8000/8000 [==============================] - 4s 468us/step - loss: 0.4004 - acc: 0.8356\n",
            "Epoch 71/100\n",
            "8000/8000 [==============================] - 4s 464us/step - loss: 0.4000 - acc: 0.8347\n",
            "Epoch 72/100\n",
            "8000/8000 [==============================] - 4s 494us/step - loss: 0.4004 - acc: 0.8354\n",
            "Epoch 73/100\n",
            "8000/8000 [==============================] - 4s 485us/step - loss: 0.4000 - acc: 0.8355\n",
            "Epoch 74/100\n",
            "8000/8000 [==============================] - 4s 469us/step - loss: 0.4001 - acc: 0.8342\n",
            "Epoch 75/100\n",
            "8000/8000 [==============================] - 4s 476us/step - loss: 0.3998 - acc: 0.8336\n",
            "Epoch 76/100\n",
            "8000/8000 [==============================] - 4s 478us/step - loss: 0.4000 - acc: 0.8371\n",
            "Epoch 77/100\n",
            "8000/8000 [==============================] - 4s 483us/step - loss: 0.4005 - acc: 0.8351\n",
            "Epoch 78/100\n",
            "8000/8000 [==============================] - 4s 470us/step - loss: 0.3999 - acc: 0.8347\n",
            "Epoch 79/100\n",
            "8000/8000 [==============================] - 4s 493us/step - loss: 0.3999 - acc: 0.8345\n",
            "Epoch 80/100\n",
            "8000/8000 [==============================] - 4s 508us/step - loss: 0.4002 - acc: 0.8339\n",
            "Epoch 81/100\n",
            "8000/8000 [==============================] - 4s 483us/step - loss: 0.3999 - acc: 0.8350\n",
            "Epoch 82/100\n",
            "8000/8000 [==============================] - 4s 477us/step - loss: 0.4000 - acc: 0.8351\n",
            "Epoch 83/100\n",
            "8000/8000 [==============================] - 4s 500us/step - loss: 0.3996 - acc: 0.8361\n",
            "Epoch 84/100\n",
            "8000/8000 [==============================] - 4s 477us/step - loss: 0.3999 - acc: 0.8369\n",
            "Epoch 85/100\n",
            "8000/8000 [==============================] - 4s 507us/step - loss: 0.3999 - acc: 0.8352\n",
            "Epoch 86/100\n",
            "8000/8000 [==============================] - 4s 508us/step - loss: 0.4001 - acc: 0.8347\n",
            "Epoch 87/100\n",
            "8000/8000 [==============================] - 4s 501us/step - loss: 0.3998 - acc: 0.8350\n",
            "Epoch 88/100\n",
            "8000/8000 [==============================] - 4s 483us/step - loss: 0.3999 - acc: 0.8340\n",
            "Epoch 89/100\n",
            "8000/8000 [==============================] - 4s 476us/step - loss: 0.4001 - acc: 0.8359\n",
            "Epoch 90/100\n",
            "8000/8000 [==============================] - 4s 483us/step - loss: 0.3996 - acc: 0.8345\n",
            "Epoch 91/100\n",
            "8000/8000 [==============================] - 4s 482us/step - loss: 0.3999 - acc: 0.8347\n",
            "Epoch 92/100\n",
            "8000/8000 [==============================] - 4s 476us/step - loss: 0.3997 - acc: 0.8361\n",
            "Epoch 93/100\n",
            "8000/8000 [==============================] - 4s 499us/step - loss: 0.3995 - acc: 0.8355\n",
            "Epoch 94/100\n",
            "8000/8000 [==============================] - 4s 489us/step - loss: 0.3995 - acc: 0.8339\n",
            "Epoch 95/100\n",
            "8000/8000 [==============================] - 4s 496us/step - loss: 0.4000 - acc: 0.8336\n",
            "Epoch 96/100\n",
            "8000/8000 [==============================] - 4s 486us/step - loss: 0.3996 - acc: 0.8352\n",
            "Epoch 97/100\n",
            "8000/8000 [==============================] - 4s 480us/step - loss: 0.3997 - acc: 0.8359\n",
            "Epoch 98/100\n",
            "8000/8000 [==============================] - 4s 491us/step - loss: 0.3994 - acc: 0.8352\n",
            "Epoch 99/100\n",
            "8000/8000 [==============================] - 4s 499us/step - loss: 0.3999 - acc: 0.8356\n",
            "Epoch 100/100\n",
            "8000/8000 [==============================] - 4s 489us/step - loss: 0.4001 - acc: 0.8350\n"
          ],
          "name": "stdout"
        },
        {
          "output_type": "execute_result",
          "data": {
            "text/plain": [
              "<keras.callbacks.History at 0x7fc8594fbf28>"
            ]
          },
          "metadata": {
            "tags": []
          },
          "execution_count": 29
        }
      ]
    },
    {
      "cell_type": "code",
      "metadata": {
        "id": "nh_wqUFDUgzH",
        "colab_type": "code",
        "colab": {}
      },
      "source": [
        "y_pred = classifier.predict(X_test)"
      ],
      "execution_count": 0,
      "outputs": []
    },
    {
      "cell_type": "code",
      "metadata": {
        "id": "JMaWL8_gVnA3",
        "colab_type": "code",
        "colab": {}
      },
      "source": [
        "#y_pred contains the probabilities , so for determining the  final decision\n",
        "threshold = 0.5\n",
        "y_pred = y_pred > threshold"
      ],
      "execution_count": 0,
      "outputs": []
    },
    {
      "cell_type": "code",
      "metadata": {
        "id": "n1FfYVKrZwMv",
        "colab_type": "code",
        "colab": {}
      },
      "source": [
        "from sklearn.metrics import confusion_matrix\n",
        "confMat = confusion_matrix(y_test,y_pred)"
      ],
      "execution_count": 0,
      "outputs": []
    },
    {
      "cell_type": "code",
      "metadata": {
        "id": "vMcs1DIxaBRb",
        "colab_type": "code",
        "outputId": "289fb036-8880-4b7d-a28d-c3edaee0c862",
        "colab": {
          "base_uri": "https://localhost:8080/",
          "height": 51
        }
      },
      "source": [
        "confMat"
      ],
      "execution_count": 0,
      "outputs": [
        {
          "output_type": "execute_result",
          "data": {
            "text/plain": [
              "array([[1546,   49],\n",
              "       [ 267,  138]])"
            ]
          },
          "metadata": {
            "tags": []
          },
          "execution_count": 33
        }
      ]
    },
    {
      "cell_type": "code",
      "metadata": {
        "id": "uBycGWaQaU3p",
        "colab_type": "code",
        "outputId": "cf56242c-6853-449b-ba54-a9172522528c",
        "colab": {
          "base_uri": "https://localhost:8080/",
          "height": 34
        }
      },
      "source": [
        "(1546+138) / 2000"
      ],
      "execution_count": 0,
      "outputs": [
        {
          "output_type": "execute_result",
          "data": {
            "text/plain": [
              "0.842"
            ]
          },
          "metadata": {
            "tags": []
          },
          "execution_count": 39
        }
      ]
    },
    {
      "cell_type": "code",
      "metadata": {
        "id": "dZEgdZUPc7UM",
        "colab_type": "code",
        "outputId": "f3e4b33d-640c-41b0-adf6-4f3bd709a639",
        "colab": {
          "base_uri": "https://localhost:8080/",
          "height": 34
        }
      },
      "source": [
        "#single evaluation point\n",
        "new_evaluationPoint = np.array([[0,0,600,1,40,3,60000,2,1,1,50000]])\n",
        "scaledPoint = sc.transform(new_evaluationPoint)\n",
        "new_pred = classifier.predict(scaledPoint)\n",
        "new_pred = new_pred > 0.5\n",
        "new_pred"
      ],
      "execution_count": 0,
      "outputs": [
        {
          "output_type": "execute_result",
          "data": {
            "text/plain": [
              "array([[False]])"
            ]
          },
          "metadata": {
            "tags": []
          },
          "execution_count": 35
        }
      ]
    },
    {
      "cell_type": "markdown",
      "metadata": {
        "id": "SymNaN7majK9",
        "colab_type": "text"
      },
      "source": [
        "So with ANN we have accuracy of 84% (approx) without using any tuning\n",
        "And as training and testing accuracy is almost similar , so this is satisfactory "
      ]
    },
    {
      "cell_type": "markdown",
      "metadata": {
        "id": "P4HGqp1KfIj3",
        "colab_type": "text"
      },
      "source": [
        "# Optimization"
      ]
    },
    {
      "cell_type": "code",
      "metadata": {
        "id": "TBvSeQATfG8h",
        "colab_type": "code",
        "colab": {}
      },
      "source": [
        "# we have implemented  stuffs so far using keras\n",
        "# but k-fold is from scikit learn\n",
        "# for combining this there's a wrapper called KerasClassifier -> Keras.wrapper.scikit_learn\n",
        "from keras.wrappers.scikit_learn import KerasClassifier\n",
        "from sklearn.model_selection import cross_val_score"
      ],
      "execution_count": 0,
      "outputs": []
    },
    {
      "cell_type": "code",
      "metadata": {
        "id": "jvjJ4NRKsKUT",
        "colab_type": "code",
        "colab": {}
      },
      "source": [
        "# now for building the previous classifier\n",
        "\n",
        "def build_classifier():\n",
        "    classifier = Sequential()\n",
        "    classifier.add(Dense(output_dim = 6, init= 'uniform', activation = 'relu', input_dim = 11))\n",
        "    classifier.add(Dense(output_dim = 6, init= 'uniform', activation = 'relu'))\n",
        "    classifier.add(Dense(output_dim = 1, init= 'uniform', activation = 'sigmoid'))\n",
        "    classifier.compile(optimizer='adam', loss = 'binary_crossentropy', metrics = ['accuracy'])\n",
        "    return classifier\n"
      ],
      "execution_count": 0,
      "outputs": []
    },
    {
      "cell_type": "code",
      "metadata": {
        "id": "l3pA_fCGtSoD",
        "colab_type": "code",
        "colab": {}
      },
      "source": [
        "# for wrapping stuffs up \n",
        "# global classifier\n",
        "# KerasClassifier takes Internal architecture of our own Neural Network model\n",
        "# all the important stuffs are done here \n",
        "# we performing k fold to compare with the previous one and also the bias variance stuffs\n",
        "\n",
        "global_classifier = KerasClassifier(build_fn= build_classifier, batch_size = 10, nb_epoch = 100)\n",
        "accuracies = cross_val_score(estimator= global_classifier, X = X_train, y = y_train, cv= 10, n_jobs = -1)\n"
      ],
      "execution_count": 0,
      "outputs": []
    },
    {
      "cell_type": "code",
      "metadata": {
        "id": "bkw4nsQkvu4S",
        "colab_type": "code",
        "outputId": "35a1a4ab-c0f2-4242-be51-b816de1030b9",
        "colab": {
          "base_uri": "https://localhost:8080/",
          "height": 51
        }
      },
      "source": [
        " accuracies"
      ],
      "execution_count": 0,
      "outputs": [
        {
          "output_type": "execute_result",
          "data": {
            "text/plain": [
              "array([0.78625   , 0.79      , 0.80125   , 0.7825    , 0.81625   ,\n",
              "       0.81      , 0.7875    , 0.79375   , 0.79875   , 0.79499999])"
            ]
          },
          "metadata": {
            "tags": []
          },
          "execution_count": 44
        }
      ]
    },
    {
      "cell_type": "code",
      "metadata": {
        "id": "XaEH4abwwIqe",
        "colab_type": "code",
        "colab": {}
      },
      "source": [
        "mean =  accuracies.mean()\n",
        "variance = accuracies.std()   "
      ],
      "execution_count": 0,
      "outputs": []
    },
    {
      "cell_type": "code",
      "metadata": {
        "id": "NT6t_xRIwcQ6",
        "colab_type": "code",
        "outputId": "bd8d291a-1330-49a9-b52c-0d8452342556",
        "colab": {
          "base_uri": "https://localhost:8080/",
          "height": 34
        }
      },
      "source": [
        "print(mean,\" \",variance )"
      ],
      "execution_count": 0,
      "outputs": [
        {
          "output_type": "stream",
          "text": [
            "0.7961249969899654   0.010161968728235533\n"
          ],
          "name": "stdout"
        }
      ]
    },
    {
      "cell_type": "markdown",
      "metadata": {
        "id": "uhxMcbDAwy-o",
        "colab_type": "text"
      },
      "source": [
        "# Drop out regularization for reducing overfitting\n",
        "# Parameter Tuning"
      ]
    },
    {
      "cell_type": "code",
      "metadata": {
        "id": "Ee5qNYGaylXD",
        "colab_type": "code",
        "colab": {}
      },
      "source": [
        "from keras.layers import Dropout"
      ],
      "execution_count": 0,
      "outputs": []
    },
    {
      "cell_type": "code",
      "metadata": {
        "id": "BMQlgEqrwlnK",
        "colab_type": "code",
        "colab": {}
      },
      "source": [
        "#in most basic idea, this regularization disbles randomly a fraction of neuron in each iteration \n",
        "# start with the lower value of p such as 0.1 in Dropout and increase if the overfitting still occurs \n",
        "\n",
        "classifier = Sequential()\n",
        "classifier.add(Dense(output_dim = 6, init= 'uniform', activation = 'relu', input_dim = 11))\n",
        "classifier.Dropout(p = 0.1)\n",
        "\n",
        "classifier.add(Dense(output_dim = 6, init= 'uniform', activation = 'relu'))\n",
        "classifier.Dropout(p = 0.1)\n",
        "\n",
        "classifier.add(Dense(output_dim = 1, init= 'uniform', activation = 'sigmoid'))\n",
        "classifier.compile(optimizer='adam', loss = 'binary_crossentropy', metrics = ['accuracy']) \n",
        "\n"
      ],
      "execution_count": 0,
      "outputs": []
    },
    {
      "cell_type": "markdown",
      "metadata": {
        "id": "YdvxfG3jzjLH",
        "colab_type": "text"
      },
      "source": [
        "**Parameter Tuning**"
      ]
    },
    {
      "cell_type": "code",
      "metadata": {
        "id": "HOxICiysy8Rk",
        "colab_type": "code",
        "colab": {}
      },
      "source": [
        "from keras.wrappers.scikit_learn import KerasClassifier\n",
        "from sklearn.model_selection import GridSearchCV"
      ],
      "execution_count": 0,
      "outputs": []
    },
    {
      "cell_type": "code",
      "metadata": {
        "id": "qAqqbORYzh4A",
        "colab_type": "code",
        "colab": {}
      },
      "source": [
        "def build_classifier(optimizer):\n",
        "    classifier = Sequential()\n",
        "    classifier.add(Dense(output_dim = 6, init= 'uniform', activation = 'relu', input_dim = 11))\n",
        "    classifier.add(Dense(output_dim = 6, init= 'uniform', activation = 'relu'))\n",
        "    classifier.add(Dense(output_dim = 1, init= 'uniform', activation = 'sigmoid'))\n",
        "    classifier.compile(optimizer= optimizer, loss = 'binary_crossentropy', metrics = ['accuracy'])\n",
        "    return classifier"
      ],
      "execution_count": 0,
      "outputs": []
    },
    {
      "cell_type": "markdown",
      "metadata": {
        "id": "3MTf97I70JI-",
        "colab_type": "text"
      },
      "source": [
        "**we are going to tune batch size and epochs**"
      ]
    },
    {
      "cell_type": "code",
      "metadata": {
        "id": "YUa-ykDTzs3f",
        "colab_type": "code",
        "colab": {}
      },
      "source": [
        "global_classifier = KerasClassifier(build_fn= build_classifier)"
      ],
      "execution_count": 0,
      "outputs": []
    },
    {
      "cell_type": "code",
      "metadata": {
        "id": "yzKhRfgx0Eb1",
        "colab_type": "code",
        "colab": {}
      },
      "source": [
        "parameters = { 'batch_size' : [25,32] , 'nb_epoch' : [100,500], 'optimizer' : ['adam', 'rmsprop']}"
      ],
      "execution_count": 0,
      "outputs": []
    },
    {
      "cell_type": "code",
      "metadata": {
        "id": "vKEU7f9817Fu",
        "colab_type": "code",
        "outputId": "708faa4b-6eff-4648-bfe6-5b8001f163a1",
        "colab": {
          "base_uri": "https://localhost:8080/",
          "height": 1000
        }
      },
      "source": [
        "grid_search = GridSearchCV(estimator = global_classifier, param_grid = parameters, scoring = 'accuracy', cv=10)\n",
        "grid_search = grid_search.fit(X_train,y_train)"
      ],
      "execution_count": 0,
      "outputs": [
        {
          "output_type": "stream",
          "text": [
            "/usr/local/lib/python3.6/dist-packages/ipykernel_launcher.py:3: UserWarning: Update your `Dense` call to the Keras 2 API: `Dense(activation=\"relu\", input_dim=11, units=6, kernel_initializer=\"uniform\")`\n",
            "  This is separate from the ipykernel package so we can avoid doing imports until\n",
            "/usr/local/lib/python3.6/dist-packages/ipykernel_launcher.py:4: UserWarning: Update your `Dense` call to the Keras 2 API: `Dense(activation=\"relu\", units=6, kernel_initializer=\"uniform\")`\n",
            "  after removing the cwd from sys.path.\n",
            "/usr/local/lib/python3.6/dist-packages/ipykernel_launcher.py:5: UserWarning: Update your `Dense` call to the Keras 2 API: `Dense(activation=\"sigmoid\", units=1, kernel_initializer=\"uniform\")`\n",
            "  \"\"\"\n"
          ],
          "name": "stderr"
        },
        {
          "output_type": "stream",
          "text": [
            "Epoch 1/1\n",
            "7200/7200 [==============================] - 2s 234us/step - loss: 0.5644 - acc: 0.7956\n",
            "Epoch 1/1\n",
            "7200/7200 [==============================] - 2s 241us/step - loss: 0.5842 - acc: 0.7949\n",
            "Epoch 1/1\n",
            "7200/7200 [==============================] - 2s 243us/step - loss: 0.5614 - acc: 0.7954\n",
            "Epoch 1/1\n",
            "7200/7200 [==============================] - 2s 253us/step - loss: 0.5636 - acc: 0.7968\n",
            "Epoch 1/1\n",
            "7200/7200 [==============================] - 2s 265us/step - loss: 0.5672 - acc: 0.7928\n",
            "Epoch 1/1\n",
            "7200/7200 [==============================] - 2s 275us/step - loss: 0.5656 - acc: 0.7929\n",
            "Epoch 1/1\n",
            "7200/7200 [==============================] - 2s 297us/step - loss: 0.5525 - acc: 0.7951\n",
            "Epoch 1/1\n",
            "7200/7200 [==============================] - 2s 307us/step - loss: 0.5623 - acc: 0.7960\n",
            "Epoch 1/1\n",
            "7200/7200 [==============================] - 2s 291us/step - loss: 0.5504 - acc: 0.7939\n",
            "Epoch 1/1\n",
            "7200/7200 [==============================] - 2s 298us/step - loss: 0.5632 - acc: 0.7950\n",
            "Epoch 1/1\n",
            "7200/7200 [==============================] - 2s 283us/step - loss: 0.5781 - acc: 0.7950\n",
            "Epoch 1/1\n",
            "7200/7200 [==============================] - 2s 290us/step - loss: 0.5850 - acc: 0.7968\n",
            "Epoch 1/1\n",
            "7200/7200 [==============================] - 2s 285us/step - loss: 0.5713 - acc: 0.7935\n",
            "Epoch 1/1\n",
            "7200/7200 [==============================] - 2s 302us/step - loss: 0.5790 - acc: 0.7967\n",
            "Epoch 1/1\n",
            "7200/7200 [==============================] - 2s 297us/step - loss: 0.5633 - acc: 0.7938\n",
            "Epoch 1/1\n",
            "7200/7200 [==============================] - 2s 305us/step - loss: 0.5694 - acc: 0.7942\n",
            "Epoch 1/1\n",
            "7200/7200 [==============================] - 2s 305us/step - loss: 0.5702 - acc: 0.7967\n",
            "Epoch 1/1\n",
            "7200/7200 [==============================] - 2s 324us/step - loss: 0.5796 - acc: 0.7944\n",
            "Epoch 1/1\n",
            "7200/7200 [==============================] - 2s 329us/step - loss: 0.6095 - acc: 0.7947\n",
            "Epoch 1/1\n",
            "7200/7200 [==============================] - 2s 324us/step - loss: 0.6015 - acc: 0.7936\n",
            "Epoch 1/1\n",
            "7200/7200 [==============================] - 3s 372us/step - loss: 0.5530 - acc: 0.7965\n",
            "Epoch 1/1\n",
            "7200/7200 [==============================] - 3s 367us/step - loss: 0.5592 - acc: 0.7965\n",
            "Epoch 1/1\n",
            "7200/7200 [==============================] - 3s 392us/step - loss: 0.6057 - acc: 0.7942\n",
            "Epoch 1/1\n",
            "7200/7200 [==============================] - 3s 385us/step - loss: 0.6078 - acc: 0.7947\n",
            "Epoch 1/1\n",
            "7200/7200 [==============================] - 3s 401us/step - loss: 0.5528 - acc: 0.7931\n",
            "Epoch 1/1\n",
            "7200/7200 [==============================] - 3s 421us/step - loss: 0.5709 - acc: 0.7935\n",
            "Epoch 1/1\n",
            "7200/7200 [==============================] - 3s 432us/step - loss: 0.5625 - acc: 0.7950\n",
            "Epoch 1/1\n",
            "7200/7200 [==============================] - 3s 431us/step - loss: 0.5614 - acc: 0.7962\n",
            "Epoch 1/1\n",
            "7200/7200 [==============================] - 3s 440us/step - loss: 0.5722 - acc: 0.7933\n",
            "Epoch 1/1\n",
            "7200/7200 [==============================] - 3s 471us/step - loss: 0.5525 - acc: 0.7946\n",
            "Epoch 1/1\n",
            "7200/7200 [==============================] - 3s 461us/step - loss: 0.5848 - acc: 0.7964\n",
            "Epoch 1/1\n",
            "7200/7200 [==============================] - 3s 437us/step - loss: 0.5577 - acc: 0.7967\n",
            "Epoch 1/1\n",
            "7200/7200 [==============================] - 3s 451us/step - loss: 0.6174 - acc: 0.7935\n",
            "Epoch 1/1\n",
            "7200/7200 [==============================] - 3s 459us/step - loss: 0.5744 - acc: 0.7972\n",
            "Epoch 1/1\n",
            "7200/7200 [==============================] - 3s 460us/step - loss: 0.5937 - acc: 0.7918\n",
            "Epoch 1/1\n",
            "7200/7200 [==============================] - 3s 462us/step - loss: 0.6223 - acc: 0.7939\n",
            "Epoch 1/1\n",
            "7200/7200 [==============================] - 3s 477us/step - loss: 0.5661 - acc: 0.7971\n",
            "Epoch 1/1\n",
            "7200/7200 [==============================] - 3s 481us/step - loss: 0.6148 - acc: 0.7937\n",
            "Epoch 1/1\n",
            "7200/7200 [==============================] - 4s 503us/step - loss: 0.5928 - acc: 0.7946\n",
            "Epoch 1/1\n",
            "7200/7200 [==============================] - 4s 512us/step - loss: 0.6537 - acc: 0.7951\n",
            "Epoch 1/1\n",
            "7200/7200 [==============================] - 3s 483us/step - loss: 0.5931 - acc: 0.7965\n",
            "Epoch 1/1\n",
            "7200/7200 [==============================] - 4s 497us/step - loss: 0.5962 - acc: 0.7950\n",
            "Epoch 1/1\n",
            "7200/7200 [==============================] - 4s 506us/step - loss: 0.6192 - acc: 0.7924\n",
            "Epoch 1/1\n",
            "7200/7200 [==============================] - 4s 528us/step - loss: 0.5989 - acc: 0.7942\n",
            "Epoch 1/1\n",
            "7200/7200 [==============================] - 4s 521us/step - loss: 0.5982 - acc: 0.7917\n",
            "Epoch 1/1\n",
            "7200/7200 [==============================] - 4s 537us/step - loss: 0.6639 - acc: 0.7921\n",
            "Epoch 1/1\n",
            "7200/7200 [==============================] - 4s 537us/step - loss: 0.5949 - acc: 0.7949\n",
            "Epoch 1/1\n",
            "7200/7200 [==============================] - 4s 554us/step - loss: 0.5917 - acc: 0.7949\n",
            "Epoch 1/1\n",
            "7200/7200 [==============================] - 4s 566us/step - loss: 0.6137 - acc: 0.7931\n",
            "Epoch 1/1\n",
            "7200/7200 [==============================] - 4s 567us/step - loss: 0.5854 - acc: 0.7961\n",
            "Epoch 1/1\n",
            "7200/7200 [==============================] - 4s 567us/step - loss: 0.6006 - acc: 0.7956\n",
            "Epoch 1/1\n",
            "7200/7200 [==============================] - 4s 587us/step - loss: 0.5960 - acc: 0.7967\n",
            "Epoch 1/1\n",
            "7200/7200 [==============================] - 4s 589us/step - loss: 0.6021 - acc: 0.7949\n",
            "Epoch 1/1\n",
            "7200/7200 [==============================] - 4s 589us/step - loss: 0.5998 - acc: 0.7964\n",
            "Epoch 1/1\n",
            "7200/7200 [==============================] - 4s 602us/step - loss: 0.6170 - acc: 0.7926\n",
            "Epoch 1/1\n",
            "7200/7200 [==============================] - 4s 609us/step - loss: 0.6108 - acc: 0.7922\n",
            "Epoch 1/1\n",
            "7200/7200 [==============================] - 4s 614us/step - loss: 0.6003 - acc: 0.7960\n",
            "Epoch 1/1\n",
            "7200/7200 [==============================] - 4s 614us/step - loss: 0.6182 - acc: 0.7937\n",
            "Epoch 1/1\n",
            "7200/7200 [==============================] - 5s 628us/step - loss: 0.6244 - acc: 0.7953\n",
            "Epoch 1/1\n",
            "7200/7200 [==============================] - 5s 644us/step - loss: 0.6152 - acc: 0.7944\n",
            "Epoch 1/1\n",
            "7200/7200 [==============================] - 5s 677us/step - loss: 0.5681 - acc: 0.7971\n",
            "Epoch 1/1\n",
            "7200/7200 [==============================] - 5s 681us/step - loss: 0.5653 - acc: 0.7967\n",
            "Epoch 1/1\n",
            "7200/7200 [==============================] - 5s 697us/step - loss: 0.5852 - acc: 0.7949\n",
            "Epoch 1/1\n",
            "7200/7200 [==============================] - 5s 698us/step - loss: 0.5811 - acc: 0.7975\n",
            "Epoch 1/1\n",
            "7200/7200 [==============================] - 5s 703us/step - loss: 0.6166 - acc: 0.7921\n",
            "Epoch 1/1\n",
            "7200/7200 [==============================] - 5s 713us/step - loss: 0.5842 - acc: 0.7940\n",
            "Epoch 1/1\n",
            "7200/7200 [==============================] - 5s 719us/step - loss: 0.5942 - acc: 0.7961\n",
            "Epoch 1/1\n",
            "7200/7200 [==============================] - 5s 729us/step - loss: 0.5726 - acc: 0.7953\n",
            "Epoch 1/1\n",
            "7200/7200 [==============================] - 5s 736us/step - loss: 0.5825 - acc: 0.7935\n",
            "Epoch 1/1\n",
            "7200/7200 [==============================] - 6s 783us/step - loss: 0.5940 - acc: 0.7936\n",
            "Epoch 1/1\n",
            "7200/7200 [==============================] - 5s 758us/step - loss: 0.6003 - acc: 0.7969\n",
            "Epoch 1/1\n",
            "7200/7200 [==============================] - 5s 753us/step - loss: 0.6227 - acc: 0.7949\n",
            "Epoch 1/1\n",
            "7200/7200 [==============================] - 5s 754us/step - loss: 0.5895 - acc: 0.7954\n",
            "Epoch 1/1\n",
            "7200/7200 [==============================] - 5s 762us/step - loss: 0.6412 - acc: 0.7946\n",
            "Epoch 1/1\n",
            "7200/7200 [==============================] - 6s 781us/step - loss: 0.6038 - acc: 0.7931\n",
            "Epoch 1/1\n",
            "7200/7200 [==============================] - 6s 792us/step - loss: 0.6278 - acc: 0.7926\n",
            "Epoch 1/1\n",
            "7200/7200 [==============================] - 6s 798us/step - loss: 0.5984 - acc: 0.7950\n",
            "Epoch 1/1\n",
            "7200/7200 [==============================] - 6s 793us/step - loss: 0.6083 - acc: 0.7944\n",
            "Epoch 1/1\n",
            "7200/7200 [==============================] - 6s 808us/step - loss: 0.5980 - acc: 0.7947\n",
            "Epoch 1/1\n",
            "7200/7200 [==============================] - 6s 829us/step - loss: 0.6363 - acc: 0.7926\n",
            "Epoch 1/1\n",
            "8000/8000 [==============================] - 7s 858us/step - loss: 0.5482 - acc: 0.7944\n"
          ],
          "name": "stdout"
        }
      ]
    },
    {
      "cell_type": "code",
      "metadata": {
        "id": "XLk74Vft22T_",
        "colab_type": "code",
        "colab": {}
      },
      "source": [
        "best_parameters = grid_search.best_params_\n",
        "best_accuracy = grid_search.best_score_"
      ],
      "execution_count": 0,
      "outputs": []
    },
    {
      "cell_type": "code",
      "metadata": {
        "id": "iP_3mpye4MZA",
        "colab_type": "code",
        "outputId": "e19d1650-7496-4427-e05a-72b5ced20c9c",
        "colab": {
          "base_uri": "https://localhost:8080/",
          "height": 34
        }
      },
      "source": [
        "best_parameters"
      ],
      "execution_count": 0,
      "outputs": [
        {
          "output_type": "execute_result",
          "data": {
            "text/plain": [
              "{'batch_size': 25, 'nb_epoch': 100, 'optimizer': 'adam'}"
            ]
          },
          "metadata": {
            "tags": []
          },
          "execution_count": 70
        }
      ]
    },
    {
      "cell_type": "code",
      "metadata": {
        "id": "kXRNIRe16BbN",
        "colab_type": "code",
        "outputId": "19e5d392-ec22-48c3-da57-0ac36564bd3a",
        "colab": {
          "base_uri": "https://localhost:8080/",
          "height": 34
        }
      },
      "source": [
        "best_accuracy"
      ],
      "execution_count": 0,
      "outputs": [
        {
          "output_type": "execute_result",
          "data": {
            "text/plain": [
              "0.796"
            ]
          },
          "metadata": {
            "tags": []
          },
          "execution_count": 71
        }
      ]
    },
    {
      "cell_type": "markdown",
      "metadata": {
        "id": "GwjXbFxt6Med",
        "colab_type": "text"
      },
      "source": [
        "# CNN"
      ]
    },
    {
      "cell_type": "code",
      "metadata": {
        "id": "BG3-Hy7t6DwO",
        "colab_type": "code",
        "colab": {
          "base_uri": "https://localhost:8080/",
          "height": 34
        },
        "outputId": "e0990742-6dd0-40c9-ead8-d018f7371b9b"
      },
      "source": [
        "cd CatVsDog/dataset/"
      ],
      "execution_count": 4,
      "outputs": [
        {
          "output_type": "stream",
          "text": [
            "/content/drive/My Drive/Datasets/Others/CatVsDog/dataset\n"
          ],
          "name": "stdout"
        }
      ]
    },
    {
      "cell_type": "code",
      "metadata": {
        "id": "pMSVYIQiBzlk",
        "colab_type": "code",
        "colab": {
          "base_uri": "https://localhost:8080/",
          "height": 34
        },
        "outputId": "ab449b63-ba70-4de0-fe17-b009f9edf3b5"
      },
      "source": [
        "ls"
      ],
      "execution_count": 13,
      "outputs": [
        {
          "output_type": "stream",
          "text": [
            "\u001b[0m\u001b[01;34msingle_prediction\u001b[0m/  \u001b[01;34mtest_set\u001b[0m/  \u001b[01;34mtraining_set\u001b[0m/\n"
          ],
          "name": "stdout"
        }
      ]
    },
    {
      "cell_type": "markdown",
      "metadata": {
        "id": "sTCQr5g7GN9O",
        "colab_type": "text"
      },
      "source": [
        "# Building CNN"
      ]
    },
    {
      "cell_type": "code",
      "metadata": {
        "id": "3pqiSKxsDdxK",
        "colab_type": "code",
        "colab": {
          "base_uri": "https://localhost:8080/",
          "height": 80
        },
        "outputId": "97613bcf-c60f-4da9-8832-4cb09d8a75d6"
      },
      "source": [
        " from keras.models import Sequential\n",
        " from keras.layers import Convolution2D\n",
        " from keras.layers import MaxPooling2D,Flatten,Dense"
      ],
      "execution_count": 5,
      "outputs": [
        {
          "output_type": "stream",
          "text": [
            "Using TensorFlow backend.\n"
          ],
          "name": "stderr"
        },
        {
          "output_type": "display_data",
          "data": {
            "text/html": [
              "<p style=\"color: red;\">\n",
              "The default version of TensorFlow in Colab will soon switch to TensorFlow 2.x.<br>\n",
              "We recommend you <a href=\"https://www.tensorflow.org/guide/migrate\" target=\"_blank\">upgrade</a> now \n",
              "or ensure your notebook will continue to use TensorFlow 1.x via the <code>%tensorflow_version 1.x</code> magic:\n",
              "<a href=\"https://colab.research.google.com/notebooks/tensorflow_version.ipynb\" target=\"_blank\">more info</a>.</p>\n"
            ],
            "text/plain": [
              "<IPython.core.display.HTML object>"
            ]
          },
          "metadata": {
            "tags": []
          }
        }
      ]
    },
    {
      "cell_type": "code",
      "metadata": {
        "id": "hKZPHYj2Uh7P",
        "colab_type": "code",
        "colab": {
          "base_uri": "https://localhost:8080/",
          "height": 71
        },
        "outputId": "5b07a89d-27da-4484-f45b-76672988c926"
      },
      "source": [
        "# initializing neural network\n",
        "classifier = Sequential()"
      ],
      "execution_count": 6,
      "outputs": [
        {
          "output_type": "stream",
          "text": [
            "WARNING:tensorflow:From /usr/local/lib/python3.6/dist-packages/keras/backend/tensorflow_backend.py:66: The name tf.get_default_graph is deprecated. Please use tf.compat.v1.get_default_graph instead.\n",
            "\n"
          ],
          "name": "stdout"
        }
      ]
    },
    {
      "cell_type": "markdown",
      "metadata": {
        "id": "b5iab8jbVL7D",
        "colab_type": "text"
      },
      "source": [
        "**Convolution**"
      ]
    },
    {
      "cell_type": "code",
      "metadata": {
        "id": "fGpJyGAWU7_T",
        "colab_type": "code",
        "colab": {
          "base_uri": "https://localhost:8080/",
          "height": 139
        },
        "outputId": "a3cf917b-740a-4208-d9fd-9ae3c89a3e60"
      },
      "source": [
        "# first convolutional layer\n",
        "# first comes the number of filters followed by number of rows and cols\n",
        "# here we will use activation function just to confirm that there're no negative value as well as  to implement non linearity\n",
        "# input shape is a first time thing, no need to mention it again for  the second cnn layer\n",
        "\n",
        "classifier.add(Convolution2D(32,3,3,input_shape = (64,64,3), activation= 'relu'))"
      ],
      "execution_count": 7,
      "outputs": [
        {
          "output_type": "stream",
          "text": [
            "WARNING:tensorflow:From /usr/local/lib/python3.6/dist-packages/keras/backend/tensorflow_backend.py:541: The name tf.placeholder is deprecated. Please use tf.compat.v1.placeholder instead.\n",
            "\n",
            "WARNING:tensorflow:From /usr/local/lib/python3.6/dist-packages/keras/backend/tensorflow_backend.py:4432: The name tf.random_uniform is deprecated. Please use tf.random.uniform instead.\n",
            "\n"
          ],
          "name": "stdout"
        },
        {
          "output_type": "stream",
          "text": [
            "/usr/local/lib/python3.6/dist-packages/ipykernel_launcher.py:2: UserWarning: Update your `Conv2D` call to the Keras 2 API: `Conv2D(32, (3, 3), input_shape=(64, 64, 3..., activation=\"relu\")`\n",
            "  \n"
          ],
          "name": "stderr"
        }
      ]
    },
    {
      "cell_type": "code",
      "metadata": {
        "id": "ieGitgAZass1",
        "colab_type": "code",
        "colab": {
          "base_uri": "https://localhost:8080/",
          "height": 71
        },
        "outputId": "41a21293-f363-4821-c2f8-e81ef8d960b4"
      },
      "source": [
        "# now comes the pooling step\n",
        "# just one  parameter, and based on intuition\n",
        "classifier.add(MaxPooling2D(pool_size= (2,2)))"
      ],
      "execution_count": 8,
      "outputs": [
        {
          "output_type": "stream",
          "text": [
            "WARNING:tensorflow:From /usr/local/lib/python3.6/dist-packages/keras/backend/tensorflow_backend.py:4267: The name tf.nn.max_pool is deprecated. Please use tf.nn.max_pool2d instead.\n",
            "\n"
          ],
          "name": "stdout"
        }
      ]
    },
    {
      "cell_type": "code",
      "metadata": {
        "id": "M4KlInPQbuRl",
        "colab_type": "code",
        "colab": {}
      },
      "source": [
        "#Flattening step\n",
        "# by flattening we are converting  the input into a single dimension array\n",
        "# how this 1D vector represts the spatial structure ?  -> via CNN (previous steps)\n",
        "# why not directly flatten the input ? -> the we will not have the  spatial structure means the internal connection between the important pixels\n",
        "# no parameters in Flatten \n",
        "\n",
        "classifier.add(Flatten())"
      ],
      "execution_count": 0,
      "outputs": []
    },
    {
      "cell_type": "code",
      "metadata": {
        "id": "ov8gpQVNdDX4",
        "colab_type": "code",
        "colab": {
          "base_uri": "https://localhost:8080/",
          "height": 51
        },
        "outputId": "a84b3235-969c-4e50-a0fa-6caf21ea9098"
      },
      "source": [
        "# Full Connection steps (based on Classic ANN)\n",
        "# as  previous ANN, dense to initialize and to do all the hidden stuffs  \n",
        "# check previous section if necessary\n",
        "# now the activation function will actually do activate the neurons here\n",
        "\n",
        "classifier.add(Dense(output_dim = 128, activation= 'relu'))"
      ],
      "execution_count": 10,
      "outputs": [
        {
          "output_type": "stream",
          "text": [
            "/usr/local/lib/python3.6/dist-packages/ipykernel_launcher.py:2: UserWarning: Update your `Dense` call to the Keras 2 API: `Dense(activation=\"relu\", units=128)`\n",
            "  \n"
          ],
          "name": "stderr"
        }
      ]
    },
    {
      "cell_type": "code",
      "metadata": {
        "id": "U0vk1I8AeKSx",
        "colab_type": "code",
        "colab": {
          "base_uri": "https://localhost:8080/",
          "height": 71
        },
        "outputId": "a1ee572a-f9dc-4210-d540-9bc21ee98ae7"
      },
      "source": [
        "#output later\n",
        "#sigmoid activation as we have binary outcome\n",
        "\n",
        "classifier.add(Dense(output_dim = 1, activation= 'sigmoid'))"
      ],
      "execution_count": 11,
      "outputs": [
        {
          "output_type": "stream",
          "text": [
            "/usr/local/lib/python3.6/dist-packages/ipykernel_launcher.py:2: UserWarning: Update your `Dense` call to the Keras 2 API: `Dense(activation=\"sigmoid\", units=1)`\n",
            "  \n"
          ],
          "name": "stderr"
        }
      ]
    },
    {
      "cell_type": "markdown",
      "metadata": {
        "id": "RRRnVjLJepyU",
        "colab_type": "text"
      },
      "source": [
        "**Compiling**"
      ]
    },
    {
      "cell_type": "code",
      "metadata": {
        "id": "JU9T4PCCea6s",
        "colab_type": "code",
        "colab": {
          "base_uri": "https://localhost:8080/",
          "height": 156
        },
        "outputId": "71a90082-04a9-405c-d032-193d7d90f6b6"
      },
      "source": [
        "# backpropagation\n",
        "\n",
        "classifier.compile(optimizer= 'adam', loss= 'binary_crossentropy', metrics= ['accuracy'])"
      ],
      "execution_count": 12,
      "outputs": [
        {
          "output_type": "stream",
          "text": [
            "WARNING:tensorflow:From /usr/local/lib/python3.6/dist-packages/keras/optimizers.py:793: The name tf.train.Optimizer is deprecated. Please use tf.compat.v1.train.Optimizer instead.\n",
            "\n",
            "WARNING:tensorflow:From /usr/local/lib/python3.6/dist-packages/keras/backend/tensorflow_backend.py:3657: The name tf.log is deprecated. Please use tf.math.log instead.\n",
            "\n",
            "WARNING:tensorflow:From /usr/local/lib/python3.6/dist-packages/tensorflow_core/python/ops/nn_impl.py:183: where (from tensorflow.python.ops.array_ops) is deprecated and will be removed in a future version.\n",
            "Instructions for updating:\n",
            "Use tf.where in 2.0, which has the same broadcast rule as np.where\n"
          ],
          "name": "stdout"
        }
      ]
    },
    {
      "cell_type": "markdown",
      "metadata": {
        "id": "X6Cf1ZrWBKdw",
        "colab_type": "text"
      },
      "source": [
        "**Data Augmentation**"
      ]
    },
    {
      "cell_type": "code",
      "metadata": {
        "id": "YJpxAX63e_KH",
        "colab_type": "code",
        "colab": {}
      },
      "source": [
        "# here rescale function actually rescaling the pixel values between 0 and 1\n",
        "\n",
        "from keras.preprocessing.image import ImageDataGenerator\n",
        "\n",
        "train_datagen = ImageDataGenerator(\n",
        "        rescale=1./255,\n",
        "        shear_range=0.2,\n",
        "        zoom_range=0.2,\n",
        "        horizontal_flip=True)\n",
        "\n",
        "test_datagen = ImageDataGenerator(rescale=1./255)"
      ],
      "execution_count": 0,
      "outputs": []
    },
    {
      "cell_type": "code",
      "metadata": {
        "id": "G1LmSGpHC7U3",
        "colab_type": "code",
        "colab": {
          "base_uri": "https://localhost:8080/",
          "height": 34
        },
        "outputId": "e3011443-598f-4870-e2cc-0ef5b7076226"
      },
      "source": [
        "training_set = train_datagen.flow_from_directory(\n",
        "        'training_set',\n",
        "        target_size=(64,64),\n",
        "        batch_size=32,\n",
        "        class_mode='binary')"
      ],
      "execution_count": 15,
      "outputs": [
        {
          "output_type": "stream",
          "text": [
            "Found 6559 images belonging to 2 classes.\n"
          ],
          "name": "stdout"
        }
      ]
    },
    {
      "cell_type": "code",
      "metadata": {
        "id": "FA_fiQDTC9Jn",
        "colab_type": "code",
        "colab": {
          "base_uri": "https://localhost:8080/",
          "height": 34
        },
        "outputId": "e607ff4b-cb30-46be-889e-5d2ee6ff3548"
      },
      "source": [
        "test_set = test_datagen.flow_from_directory(\n",
        "        'test_set',\n",
        "        target_size=(64,64),\n",
        "        batch_size=32,\n",
        "        class_mode='binary')"
      ],
      "execution_count": 16,
      "outputs": [
        {
          "output_type": "stream",
          "text": [
            "Found 2000 images belonging to 2 classes.\n"
          ],
          "name": "stdout"
        }
      ]
    },
    {
      "cell_type": "code",
      "metadata": {
        "id": "6lz_11YQC_og",
        "colab_type": "code",
        "colab": {
          "base_uri": "https://localhost:8080/",
          "height": 374
        },
        "outputId": "33224936-6acf-4ba5-9bdc-4e4729c609f6"
      },
      "source": [
        "classifier.fit_generator(\n",
        "        training_set,\n",
        "        steps_per_epoch=8000,     # here steps per epoch means the number of data that it will traverse per epoch , so it will be the number of training obse\n",
        "        epochs=25,\n",
        "        validation_data=test_set,\n",
        "        validation_steps=2000)   # same as steps per epoch"
      ],
      "execution_count": 19,
      "outputs": [
        {
          "output_type": "stream",
          "text": [
            "Epoch 1/25\n",
            " 103/8000 [..............................] - ETA: 21:19:00 - loss: 0.6654 - acc: 0.6079"
          ],
          "name": "stdout"
        },
        {
          "output_type": "error",
          "ename": "KeyboardInterrupt",
          "evalue": "ignored",
          "traceback": [
            "\u001b[0;31m---------------------------------------------------------------------------\u001b[0m",
            "\u001b[0;31mKeyboardInterrupt\u001b[0m                         Traceback (most recent call last)",
            "\u001b[0;32m<ipython-input-19-9eae4d3fab6e>\u001b[0m in \u001b[0;36m<module>\u001b[0;34m()\u001b[0m\n\u001b[1;32m      4\u001b[0m         \u001b[0mepochs\u001b[0m\u001b[0;34m=\u001b[0m\u001b[0;36m25\u001b[0m\u001b[0;34m,\u001b[0m\u001b[0;34m\u001b[0m\u001b[0;34m\u001b[0m\u001b[0m\n\u001b[1;32m      5\u001b[0m         \u001b[0mvalidation_data\u001b[0m\u001b[0;34m=\u001b[0m\u001b[0mtest_set\u001b[0m\u001b[0;34m,\u001b[0m\u001b[0;34m\u001b[0m\u001b[0;34m\u001b[0m\u001b[0m\n\u001b[0;32m----> 6\u001b[0;31m         validation_steps=2000)   # same as steps per epoch\n\u001b[0m",
            "\u001b[0;32m/usr/local/lib/python3.6/dist-packages/keras/legacy/interfaces.py\u001b[0m in \u001b[0;36mwrapper\u001b[0;34m(*args, **kwargs)\u001b[0m\n\u001b[1;32m     89\u001b[0m                 warnings.warn('Update your `' + object_name + '` call to the ' +\n\u001b[1;32m     90\u001b[0m                               'Keras 2 API: ' + signature, stacklevel=2)\n\u001b[0;32m---> 91\u001b[0;31m             \u001b[0;32mreturn\u001b[0m \u001b[0mfunc\u001b[0m\u001b[0;34m(\u001b[0m\u001b[0;34m*\u001b[0m\u001b[0margs\u001b[0m\u001b[0;34m,\u001b[0m \u001b[0;34m**\u001b[0m\u001b[0mkwargs\u001b[0m\u001b[0;34m)\u001b[0m\u001b[0;34m\u001b[0m\u001b[0;34m\u001b[0m\u001b[0m\n\u001b[0m\u001b[1;32m     92\u001b[0m         \u001b[0mwrapper\u001b[0m\u001b[0;34m.\u001b[0m\u001b[0m_original_function\u001b[0m \u001b[0;34m=\u001b[0m \u001b[0mfunc\u001b[0m\u001b[0;34m\u001b[0m\u001b[0;34m\u001b[0m\u001b[0m\n\u001b[1;32m     93\u001b[0m         \u001b[0;32mreturn\u001b[0m \u001b[0mwrapper\u001b[0m\u001b[0;34m\u001b[0m\u001b[0;34m\u001b[0m\u001b[0m\n",
            "\u001b[0;32m/usr/local/lib/python3.6/dist-packages/keras/engine/training.py\u001b[0m in \u001b[0;36mfit_generator\u001b[0;34m(self, generator, steps_per_epoch, epochs, verbose, callbacks, validation_data, validation_steps, validation_freq, class_weight, max_queue_size, workers, use_multiprocessing, shuffle, initial_epoch)\u001b[0m\n\u001b[1;32m   1656\u001b[0m             \u001b[0muse_multiprocessing\u001b[0m\u001b[0;34m=\u001b[0m\u001b[0muse_multiprocessing\u001b[0m\u001b[0;34m,\u001b[0m\u001b[0;34m\u001b[0m\u001b[0;34m\u001b[0m\u001b[0m\n\u001b[1;32m   1657\u001b[0m             \u001b[0mshuffle\u001b[0m\u001b[0;34m=\u001b[0m\u001b[0mshuffle\u001b[0m\u001b[0;34m,\u001b[0m\u001b[0;34m\u001b[0m\u001b[0;34m\u001b[0m\u001b[0m\n\u001b[0;32m-> 1658\u001b[0;31m             initial_epoch=initial_epoch)\n\u001b[0m\u001b[1;32m   1659\u001b[0m \u001b[0;34m\u001b[0m\u001b[0m\n\u001b[1;32m   1660\u001b[0m     \u001b[0;34m@\u001b[0m\u001b[0minterfaces\u001b[0m\u001b[0;34m.\u001b[0m\u001b[0mlegacy_generator_methods_support\u001b[0m\u001b[0;34m\u001b[0m\u001b[0;34m\u001b[0m\u001b[0m\n",
            "\u001b[0;32m/usr/local/lib/python3.6/dist-packages/keras/engine/training_generator.py\u001b[0m in \u001b[0;36mfit_generator\u001b[0;34m(model, generator, steps_per_epoch, epochs, verbose, callbacks, validation_data, validation_steps, validation_freq, class_weight, max_queue_size, workers, use_multiprocessing, shuffle, initial_epoch)\u001b[0m\n\u001b[1;32m    179\u001b[0m             \u001b[0mbatch_index\u001b[0m \u001b[0;34m=\u001b[0m \u001b[0;36m0\u001b[0m\u001b[0;34m\u001b[0m\u001b[0;34m\u001b[0m\u001b[0m\n\u001b[1;32m    180\u001b[0m             \u001b[0;32mwhile\u001b[0m \u001b[0msteps_done\u001b[0m \u001b[0;34m<\u001b[0m \u001b[0msteps_per_epoch\u001b[0m\u001b[0;34m:\u001b[0m\u001b[0;34m\u001b[0m\u001b[0;34m\u001b[0m\u001b[0m\n\u001b[0;32m--> 181\u001b[0;31m                 \u001b[0mgenerator_output\u001b[0m \u001b[0;34m=\u001b[0m \u001b[0mnext\u001b[0m\u001b[0;34m(\u001b[0m\u001b[0moutput_generator\u001b[0m\u001b[0;34m)\u001b[0m\u001b[0;34m\u001b[0m\u001b[0;34m\u001b[0m\u001b[0m\n\u001b[0m\u001b[1;32m    182\u001b[0m \u001b[0;34m\u001b[0m\u001b[0m\n\u001b[1;32m    183\u001b[0m                 \u001b[0;32mif\u001b[0m \u001b[0;32mnot\u001b[0m \u001b[0mhasattr\u001b[0m\u001b[0;34m(\u001b[0m\u001b[0mgenerator_output\u001b[0m\u001b[0;34m,\u001b[0m \u001b[0;34m'__len__'\u001b[0m\u001b[0;34m)\u001b[0m\u001b[0;34m:\u001b[0m\u001b[0;34m\u001b[0m\u001b[0;34m\u001b[0m\u001b[0m\n",
            "\u001b[0;32m/usr/local/lib/python3.6/dist-packages/keras/utils/data_utils.py\u001b[0m in \u001b[0;36mget\u001b[0;34m(self)\u001b[0m\n\u001b[1;32m    601\u001b[0m                 \u001b[0;32mtry\u001b[0m\u001b[0;34m:\u001b[0m\u001b[0;34m\u001b[0m\u001b[0;34m\u001b[0m\u001b[0m\n\u001b[1;32m    602\u001b[0m                     \u001b[0mfuture\u001b[0m \u001b[0;34m=\u001b[0m \u001b[0mself\u001b[0m\u001b[0;34m.\u001b[0m\u001b[0mqueue\u001b[0m\u001b[0;34m.\u001b[0m\u001b[0mget\u001b[0m\u001b[0;34m(\u001b[0m\u001b[0mblock\u001b[0m\u001b[0;34m=\u001b[0m\u001b[0;32mTrue\u001b[0m\u001b[0;34m)\u001b[0m\u001b[0;34m\u001b[0m\u001b[0;34m\u001b[0m\u001b[0m\n\u001b[0;32m--> 603\u001b[0;31m                     \u001b[0minputs\u001b[0m \u001b[0;34m=\u001b[0m \u001b[0mfuture\u001b[0m\u001b[0;34m.\u001b[0m\u001b[0mget\u001b[0m\u001b[0;34m(\u001b[0m\u001b[0mtimeout\u001b[0m\u001b[0;34m=\u001b[0m\u001b[0;36m30\u001b[0m\u001b[0;34m)\u001b[0m\u001b[0;34m\u001b[0m\u001b[0;34m\u001b[0m\u001b[0m\n\u001b[0m\u001b[1;32m    604\u001b[0m                     \u001b[0mself\u001b[0m\u001b[0;34m.\u001b[0m\u001b[0mqueue\u001b[0m\u001b[0;34m.\u001b[0m\u001b[0mtask_done\u001b[0m\u001b[0;34m(\u001b[0m\u001b[0;34m)\u001b[0m\u001b[0;34m\u001b[0m\u001b[0;34m\u001b[0m\u001b[0m\n\u001b[1;32m    605\u001b[0m                 \u001b[0;32mexcept\u001b[0m \u001b[0mmp\u001b[0m\u001b[0;34m.\u001b[0m\u001b[0mTimeoutError\u001b[0m\u001b[0;34m:\u001b[0m\u001b[0;34m\u001b[0m\u001b[0;34m\u001b[0m\u001b[0m\n",
            "\u001b[0;32m/usr/lib/python3.6/multiprocessing/pool.py\u001b[0m in \u001b[0;36mget\u001b[0;34m(self, timeout)\u001b[0m\n\u001b[1;32m    636\u001b[0m \u001b[0;34m\u001b[0m\u001b[0m\n\u001b[1;32m    637\u001b[0m     \u001b[0;32mdef\u001b[0m \u001b[0mget\u001b[0m\u001b[0;34m(\u001b[0m\u001b[0mself\u001b[0m\u001b[0;34m,\u001b[0m \u001b[0mtimeout\u001b[0m\u001b[0;34m=\u001b[0m\u001b[0;32mNone\u001b[0m\u001b[0;34m)\u001b[0m\u001b[0;34m:\u001b[0m\u001b[0;34m\u001b[0m\u001b[0;34m\u001b[0m\u001b[0m\n\u001b[0;32m--> 638\u001b[0;31m         \u001b[0mself\u001b[0m\u001b[0;34m.\u001b[0m\u001b[0mwait\u001b[0m\u001b[0;34m(\u001b[0m\u001b[0mtimeout\u001b[0m\u001b[0;34m)\u001b[0m\u001b[0;34m\u001b[0m\u001b[0;34m\u001b[0m\u001b[0m\n\u001b[0m\u001b[1;32m    639\u001b[0m         \u001b[0;32mif\u001b[0m \u001b[0;32mnot\u001b[0m \u001b[0mself\u001b[0m\u001b[0;34m.\u001b[0m\u001b[0mready\u001b[0m\u001b[0;34m(\u001b[0m\u001b[0;34m)\u001b[0m\u001b[0;34m:\u001b[0m\u001b[0;34m\u001b[0m\u001b[0;34m\u001b[0m\u001b[0m\n\u001b[1;32m    640\u001b[0m             \u001b[0;32mraise\u001b[0m \u001b[0mTimeoutError\u001b[0m\u001b[0;34m\u001b[0m\u001b[0;34m\u001b[0m\u001b[0m\n",
            "\u001b[0;32m/usr/lib/python3.6/multiprocessing/pool.py\u001b[0m in \u001b[0;36mwait\u001b[0;34m(self, timeout)\u001b[0m\n\u001b[1;32m    633\u001b[0m \u001b[0;34m\u001b[0m\u001b[0m\n\u001b[1;32m    634\u001b[0m     \u001b[0;32mdef\u001b[0m \u001b[0mwait\u001b[0m\u001b[0;34m(\u001b[0m\u001b[0mself\u001b[0m\u001b[0;34m,\u001b[0m \u001b[0mtimeout\u001b[0m\u001b[0;34m=\u001b[0m\u001b[0;32mNone\u001b[0m\u001b[0;34m)\u001b[0m\u001b[0;34m:\u001b[0m\u001b[0;34m\u001b[0m\u001b[0;34m\u001b[0m\u001b[0m\n\u001b[0;32m--> 635\u001b[0;31m         \u001b[0mself\u001b[0m\u001b[0;34m.\u001b[0m\u001b[0m_event\u001b[0m\u001b[0;34m.\u001b[0m\u001b[0mwait\u001b[0m\u001b[0;34m(\u001b[0m\u001b[0mtimeout\u001b[0m\u001b[0;34m)\u001b[0m\u001b[0;34m\u001b[0m\u001b[0;34m\u001b[0m\u001b[0m\n\u001b[0m\u001b[1;32m    636\u001b[0m \u001b[0;34m\u001b[0m\u001b[0m\n\u001b[1;32m    637\u001b[0m     \u001b[0;32mdef\u001b[0m \u001b[0mget\u001b[0m\u001b[0;34m(\u001b[0m\u001b[0mself\u001b[0m\u001b[0;34m,\u001b[0m \u001b[0mtimeout\u001b[0m\u001b[0;34m=\u001b[0m\u001b[0;32mNone\u001b[0m\u001b[0;34m)\u001b[0m\u001b[0;34m:\u001b[0m\u001b[0;34m\u001b[0m\u001b[0;34m\u001b[0m\u001b[0m\n",
            "\u001b[0;32m/usr/lib/python3.6/threading.py\u001b[0m in \u001b[0;36mwait\u001b[0;34m(self, timeout)\u001b[0m\n\u001b[1;32m    549\u001b[0m             \u001b[0msignaled\u001b[0m \u001b[0;34m=\u001b[0m \u001b[0mself\u001b[0m\u001b[0;34m.\u001b[0m\u001b[0m_flag\u001b[0m\u001b[0;34m\u001b[0m\u001b[0;34m\u001b[0m\u001b[0m\n\u001b[1;32m    550\u001b[0m             \u001b[0;32mif\u001b[0m \u001b[0;32mnot\u001b[0m \u001b[0msignaled\u001b[0m\u001b[0;34m:\u001b[0m\u001b[0;34m\u001b[0m\u001b[0;34m\u001b[0m\u001b[0m\n\u001b[0;32m--> 551\u001b[0;31m                 \u001b[0msignaled\u001b[0m \u001b[0;34m=\u001b[0m \u001b[0mself\u001b[0m\u001b[0;34m.\u001b[0m\u001b[0m_cond\u001b[0m\u001b[0;34m.\u001b[0m\u001b[0mwait\u001b[0m\u001b[0;34m(\u001b[0m\u001b[0mtimeout\u001b[0m\u001b[0;34m)\u001b[0m\u001b[0;34m\u001b[0m\u001b[0;34m\u001b[0m\u001b[0m\n\u001b[0m\u001b[1;32m    552\u001b[0m             \u001b[0;32mreturn\u001b[0m \u001b[0msignaled\u001b[0m\u001b[0;34m\u001b[0m\u001b[0;34m\u001b[0m\u001b[0m\n\u001b[1;32m    553\u001b[0m \u001b[0;34m\u001b[0m\u001b[0m\n",
            "\u001b[0;32m/usr/lib/python3.6/threading.py\u001b[0m in \u001b[0;36mwait\u001b[0;34m(self, timeout)\u001b[0m\n\u001b[1;32m    297\u001b[0m             \u001b[0;32melse\u001b[0m\u001b[0;34m:\u001b[0m\u001b[0;34m\u001b[0m\u001b[0;34m\u001b[0m\u001b[0m\n\u001b[1;32m    298\u001b[0m                 \u001b[0;32mif\u001b[0m \u001b[0mtimeout\u001b[0m \u001b[0;34m>\u001b[0m \u001b[0;36m0\u001b[0m\u001b[0;34m:\u001b[0m\u001b[0;34m\u001b[0m\u001b[0;34m\u001b[0m\u001b[0m\n\u001b[0;32m--> 299\u001b[0;31m                     \u001b[0mgotit\u001b[0m \u001b[0;34m=\u001b[0m \u001b[0mwaiter\u001b[0m\u001b[0;34m.\u001b[0m\u001b[0macquire\u001b[0m\u001b[0;34m(\u001b[0m\u001b[0;32mTrue\u001b[0m\u001b[0;34m,\u001b[0m \u001b[0mtimeout\u001b[0m\u001b[0;34m)\u001b[0m\u001b[0;34m\u001b[0m\u001b[0;34m\u001b[0m\u001b[0m\n\u001b[0m\u001b[1;32m    300\u001b[0m                 \u001b[0;32melse\u001b[0m\u001b[0;34m:\u001b[0m\u001b[0;34m\u001b[0m\u001b[0;34m\u001b[0m\u001b[0m\n\u001b[1;32m    301\u001b[0m                     \u001b[0mgotit\u001b[0m \u001b[0;34m=\u001b[0m \u001b[0mwaiter\u001b[0m\u001b[0;34m.\u001b[0m\u001b[0macquire\u001b[0m\u001b[0;34m(\u001b[0m\u001b[0;32mFalse\u001b[0m\u001b[0;34m)\u001b[0m\u001b[0;34m\u001b[0m\u001b[0;34m\u001b[0m\u001b[0m\n",
            "\u001b[0;31mKeyboardInterrupt\u001b[0m: "
          ]
        }
      ]
    },
    {
      "cell_type": "code",
      "metadata": {
        "id": "jdA72pmtDV-s",
        "colab_type": "code",
        "colab": {}
      },
      "source": [
        "# for single prediction\n",
        "\n",
        "import numpy as np\n",
        "from keras.preprocessing import image\n",
        "\n",
        "test_image = image.load_img('single_prediction/cat_or_dog_1.jpg', target_size = (64,64))\n",
        "test_image = image.img_to_array(test_image)       # we need this because we need to convert it in RGB array as it should be from (64,64) -> (64,64,3)\n",
        "\n",
        "# but still, this system has a extra command which is batch which was 32 in out case as we have used ImageDataGenerator Augmentation\n",
        "# so we need to add one more dimension to provide that extra one\n",
        "\n",
        "test_image = numpy.expand_dims(test_image, axis = 0)      # here axis=0 means that extra dimension that we are adding is eventually has to be the  first one\n",
        "\n",
        "#  now our image has four dimension\n",
        "\n",
        "# now for single prediction \n",
        "\n",
        "result = classifier.predict(test_image)\n",
        "\n"
      ],
      "execution_count": 0,
      "outputs": []
    }
  ]
}