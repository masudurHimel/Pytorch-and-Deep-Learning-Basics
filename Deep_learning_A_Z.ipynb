{
  "nbformat": 4,
  "nbformat_minor": 0,
  "metadata": {
    "colab": {
      "name": "Deep_learning_A-Z.ipynb",
      "provenance": [],
      "collapsed_sections": [
        "ZsvXgoLLQQ3e",
        "z0vddufXQslJ"
      ]
    },
    "kernelspec": {
      "name": "python3",
      "display_name": "Python 3"
    },
    "accelerator": "GPU"
  },
  "cells": [
    {
      "cell_type": "markdown",
      "metadata": {
        "id": "NL5oV29x9z_1",
        "colab_type": "text"
      },
      "source": [
        "**Deep Leaning**"
      ]
    },
    {
      "cell_type": "code",
      "metadata": {
        "id": "oZH170xP9_sZ",
        "colab_type": "code",
        "colab": {}
      },
      "source": [
        "from google.colab import drive\n",
        "drive.mount('/content/drive')"
      ],
      "execution_count": 0,
      "outputs": []
    },
    {
      "cell_type": "code",
      "metadata": {
        "id": "3wMZ5kPn-BHt",
        "colab_type": "code",
        "outputId": "bc530cee-5b70-4d92-bf7e-d085a9a9f75b",
        "colab": {
          "base_uri": "https://localhost:8080/",
          "height": 34
        }
      },
      "source": [
        "cd /content/drive/My Drive/Datasets/Others"
      ],
      "execution_count": 2,
      "outputs": [
        {
          "output_type": "stream",
          "text": [
            "/content/drive/My Drive/Datasets/Others\n"
          ],
          "name": "stdout"
        }
      ]
    },
    {
      "cell_type": "code",
      "metadata": {
        "id": "Z9BDftS5-Omb",
        "colab_type": "code",
        "outputId": "2993e6a9-71f6-4f4a-dcb5-3d948a72920a",
        "colab": {
          "base_uri": "https://localhost:8080/",
          "height": 34
        }
      },
      "source": [
        "ls"
      ],
      "execution_count": 3,
      "outputs": [
        {
          "output_type": "stream",
          "text": [
            "Churn_Modelling.csv\n"
          ],
          "name": "stdout"
        }
      ]
    },
    {
      "cell_type": "markdown",
      "metadata": {
        "id": "JCyHxfAUb22z",
        "colab_type": "text"
      },
      "source": [
        "# ANN"
      ]
    },
    {
      "cell_type": "markdown",
      "metadata": {
        "id": "ZsvXgoLLQQ3e",
        "colab_type": "text"
      },
      "source": [
        "# Preprocessing"
      ]
    },
    {
      "cell_type": "code",
      "metadata": {
        "id": "EYX6tpyB-a1Y",
        "colab_type": "code",
        "colab": {}
      },
      "source": [
        "import numpy as np\n",
        "import matplotlib.pyplot as plt\n",
        "import pandas as pd"
      ],
      "execution_count": 0,
      "outputs": []
    },
    {
      "cell_type": "code",
      "metadata": {
        "id": "LW0BqSTT_Zsv",
        "colab_type": "code",
        "colab": {}
      },
      "source": [
        "dataset = pd.read_csv(\"Churn_Modelling.csv\")"
      ],
      "execution_count": 0,
      "outputs": []
    },
    {
      "cell_type": "code",
      "metadata": {
        "id": "NzDdn-xO_h96",
        "colab_type": "code",
        "outputId": "763adbe6-59be-4aba-e977-37915f12514c",
        "colab": {
          "base_uri": "https://localhost:8080/",
          "height": 204
        }
      },
      "source": [
        "dataset.head()"
      ],
      "execution_count": 6,
      "outputs": [
        {
          "output_type": "execute_result",
          "data": {
            "text/html": [
              "<div>\n",
              "<style scoped>\n",
              "    .dataframe tbody tr th:only-of-type {\n",
              "        vertical-align: middle;\n",
              "    }\n",
              "\n",
              "    .dataframe tbody tr th {\n",
              "        vertical-align: top;\n",
              "    }\n",
              "\n",
              "    .dataframe thead th {\n",
              "        text-align: right;\n",
              "    }\n",
              "</style>\n",
              "<table border=\"1\" class=\"dataframe\">\n",
              "  <thead>\n",
              "    <tr style=\"text-align: right;\">\n",
              "      <th></th>\n",
              "      <th>RowNumber</th>\n",
              "      <th>CustomerId</th>\n",
              "      <th>Surname</th>\n",
              "      <th>CreditScore</th>\n",
              "      <th>Geography</th>\n",
              "      <th>Gender</th>\n",
              "      <th>Age</th>\n",
              "      <th>Tenure</th>\n",
              "      <th>Balance</th>\n",
              "      <th>NumOfProducts</th>\n",
              "      <th>HasCrCard</th>\n",
              "      <th>IsActiveMember</th>\n",
              "      <th>EstimatedSalary</th>\n",
              "      <th>Exited</th>\n",
              "    </tr>\n",
              "  </thead>\n",
              "  <tbody>\n",
              "    <tr>\n",
              "      <th>0</th>\n",
              "      <td>1</td>\n",
              "      <td>15634602</td>\n",
              "      <td>Hargrave</td>\n",
              "      <td>619</td>\n",
              "      <td>France</td>\n",
              "      <td>Female</td>\n",
              "      <td>42</td>\n",
              "      <td>2</td>\n",
              "      <td>0.00</td>\n",
              "      <td>1</td>\n",
              "      <td>1</td>\n",
              "      <td>1</td>\n",
              "      <td>101348.88</td>\n",
              "      <td>1</td>\n",
              "    </tr>\n",
              "    <tr>\n",
              "      <th>1</th>\n",
              "      <td>2</td>\n",
              "      <td>15647311</td>\n",
              "      <td>Hill</td>\n",
              "      <td>608</td>\n",
              "      <td>Spain</td>\n",
              "      <td>Female</td>\n",
              "      <td>41</td>\n",
              "      <td>1</td>\n",
              "      <td>83807.86</td>\n",
              "      <td>1</td>\n",
              "      <td>0</td>\n",
              "      <td>1</td>\n",
              "      <td>112542.58</td>\n",
              "      <td>0</td>\n",
              "    </tr>\n",
              "    <tr>\n",
              "      <th>2</th>\n",
              "      <td>3</td>\n",
              "      <td>15619304</td>\n",
              "      <td>Onio</td>\n",
              "      <td>502</td>\n",
              "      <td>France</td>\n",
              "      <td>Female</td>\n",
              "      <td>42</td>\n",
              "      <td>8</td>\n",
              "      <td>159660.80</td>\n",
              "      <td>3</td>\n",
              "      <td>1</td>\n",
              "      <td>0</td>\n",
              "      <td>113931.57</td>\n",
              "      <td>1</td>\n",
              "    </tr>\n",
              "    <tr>\n",
              "      <th>3</th>\n",
              "      <td>4</td>\n",
              "      <td>15701354</td>\n",
              "      <td>Boni</td>\n",
              "      <td>699</td>\n",
              "      <td>France</td>\n",
              "      <td>Female</td>\n",
              "      <td>39</td>\n",
              "      <td>1</td>\n",
              "      <td>0.00</td>\n",
              "      <td>2</td>\n",
              "      <td>0</td>\n",
              "      <td>0</td>\n",
              "      <td>93826.63</td>\n",
              "      <td>0</td>\n",
              "    </tr>\n",
              "    <tr>\n",
              "      <th>4</th>\n",
              "      <td>5</td>\n",
              "      <td>15737888</td>\n",
              "      <td>Mitchell</td>\n",
              "      <td>850</td>\n",
              "      <td>Spain</td>\n",
              "      <td>Female</td>\n",
              "      <td>43</td>\n",
              "      <td>2</td>\n",
              "      <td>125510.82</td>\n",
              "      <td>1</td>\n",
              "      <td>1</td>\n",
              "      <td>1</td>\n",
              "      <td>79084.10</td>\n",
              "      <td>0</td>\n",
              "    </tr>\n",
              "  </tbody>\n",
              "</table>\n",
              "</div>"
            ],
            "text/plain": [
              "   RowNumber  CustomerId   Surname  ...  IsActiveMember EstimatedSalary Exited\n",
              "0          1    15634602  Hargrave  ...               1       101348.88      1\n",
              "1          2    15647311      Hill  ...               1       112542.58      0\n",
              "2          3    15619304      Onio  ...               0       113931.57      1\n",
              "3          4    15701354      Boni  ...               0        93826.63      0\n",
              "4          5    15737888  Mitchell  ...               1        79084.10      0\n",
              "\n",
              "[5 rows x 14 columns]"
            ]
          },
          "metadata": {
            "tags": []
          },
          "execution_count": 6
        }
      ]
    },
    {
      "cell_type": "code",
      "metadata": {
        "id": "o7rGupeS_nhu",
        "colab_type": "code",
        "outputId": "ac54ebaf-cac9-4e32-d175-69f50639f493",
        "colab": {
          "base_uri": "https://localhost:8080/",
          "height": 255
        }
      },
      "source": [
        "dataset.describe"
      ],
      "execution_count": 7,
      "outputs": [
        {
          "output_type": "execute_result",
          "data": {
            "text/plain": [
              "<bound method NDFrame.describe of       RowNumber  CustomerId    Surname  ...  IsActiveMember EstimatedSalary Exited\n",
              "0             1    15634602   Hargrave  ...               1       101348.88      1\n",
              "1             2    15647311       Hill  ...               1       112542.58      0\n",
              "2             3    15619304       Onio  ...               0       113931.57      1\n",
              "3             4    15701354       Boni  ...               0        93826.63      0\n",
              "4             5    15737888   Mitchell  ...               1        79084.10      0\n",
              "...         ...         ...        ...  ...             ...             ...    ...\n",
              "9995       9996    15606229   Obijiaku  ...               0        96270.64      0\n",
              "9996       9997    15569892  Johnstone  ...               1       101699.77      0\n",
              "9997       9998    15584532        Liu  ...               1        42085.58      1\n",
              "9998       9999    15682355  Sabbatini  ...               0        92888.52      1\n",
              "9999      10000    15628319     Walker  ...               0        38190.78      0\n",
              "\n",
              "[10000 rows x 14 columns]>"
            ]
          },
          "metadata": {
            "tags": []
          },
          "execution_count": 7
        }
      ]
    },
    {
      "cell_type": "code",
      "metadata": {
        "id": "HD3O1bc4_rGM",
        "colab_type": "code",
        "colab": {}
      },
      "source": [
        "X = dataset.iloc[:,3:13].values\n",
        "y = dataset.iloc[:,13].values"
      ],
      "execution_count": 0,
      "outputs": []
    },
    {
      "cell_type": "code",
      "metadata": {
        "id": "nq7gJ_81CXhD",
        "colab_type": "code",
        "outputId": "90e163be-b129-4d1f-b1e7-43980c0839bf",
        "colab": {
          "base_uri": "https://localhost:8080/",
          "height": 136
        }
      },
      "source": [
        "X"
      ],
      "execution_count": 9,
      "outputs": [
        {
          "output_type": "execute_result",
          "data": {
            "text/plain": [
              "array([[619, 'France', 'Female', ..., 1, 1, 101348.88],\n",
              "       [608, 'Spain', 'Female', ..., 0, 1, 112542.58],\n",
              "       [502, 'France', 'Female', ..., 1, 0, 113931.57],\n",
              "       ...,\n",
              "       [709, 'France', 'Female', ..., 0, 1, 42085.58],\n",
              "       [772, 'Germany', 'Male', ..., 1, 0, 92888.52],\n",
              "       [792, 'France', 'Female', ..., 1, 0, 38190.78]], dtype=object)"
            ]
          },
          "metadata": {
            "tags": []
          },
          "execution_count": 9
        }
      ]
    },
    {
      "cell_type": "code",
      "metadata": {
        "id": "dGxIYB9hBHJu",
        "colab_type": "code",
        "colab": {}
      },
      "source": [
        "#for converting from categorical to numerical like word to number4\n",
        "from sklearn.preprocessing import LabelEncoder,OneHotEncoder\n",
        "from sklearn.compose import ColumnTransformer"
      ],
      "execution_count": 0,
      "outputs": []
    },
    {
      "cell_type": "code",
      "metadata": {
        "id": "Wy5tjkAaChvc",
        "colab_type": "code",
        "colab": {}
      },
      "source": [
        "# for gender\n",
        "labelEncoderGender = LabelEncoder()\n",
        "X[:,2] = labelEncoderGender.fit_transform(X[:,2])"
      ],
      "execution_count": 0,
      "outputs": []
    },
    {
      "cell_type": "code",
      "metadata": {
        "id": "AZ6uOEdMCuM0",
        "colab_type": "code",
        "outputId": "2a8a945c-2438-44b9-db85-24d70d319e1a",
        "colab": {
          "base_uri": "https://localhost:8080/",
          "height": 136
        }
      },
      "source": [
        "X"
      ],
      "execution_count": 12,
      "outputs": [
        {
          "output_type": "execute_result",
          "data": {
            "text/plain": [
              "array([[619, 'France', 0, ..., 1, 1, 101348.88],\n",
              "       [608, 'Spain', 0, ..., 0, 1, 112542.58],\n",
              "       [502, 'France', 0, ..., 1, 0, 113931.57],\n",
              "       ...,\n",
              "       [709, 'France', 0, ..., 0, 1, 42085.58],\n",
              "       [772, 'Germany', 1, ..., 1, 0, 92888.52],\n",
              "       [792, 'France', 0, ..., 1, 0, 38190.78]], dtype=object)"
            ]
          },
          "metadata": {
            "tags": []
          },
          "execution_count": 12
        }
      ]
    },
    {
      "cell_type": "code",
      "metadata": {
        "id": "Mr0ZEXEWLEry",
        "colab_type": "code",
        "colab": {}
      },
      "source": [
        "transformer = ColumnTransformer(\n",
        "    transformers=[\n",
        "        (\"OneHot\",        # Just a name\n",
        "         OneHotEncoder(), # The transformer class\n",
        "         [1]              # The column(s) to be applied on.\n",
        "         )\n",
        "    ],\n",
        "    remainder='passthrough' # donot apply anything to the remaining columns\n",
        ")\n",
        "X = transformer.fit_transform(X)"
      ],
      "execution_count": 0,
      "outputs": []
    },
    {
      "cell_type": "code",
      "metadata": {
        "id": "d73XIMAqEA1P",
        "colab_type": "code",
        "outputId": "2c14e21d-d2d2-4343-c921-9b33a07cbceb",
        "colab": {
          "base_uri": "https://localhost:8080/",
          "height": 136
        }
      },
      "source": [
        "X"
      ],
      "execution_count": 14,
      "outputs": [
        {
          "output_type": "execute_result",
          "data": {
            "text/plain": [
              "array([[1.0, 0.0, 0.0, ..., 1, 1, 101348.88],\n",
              "       [0.0, 0.0, 1.0, ..., 0, 1, 112542.58],\n",
              "       [1.0, 0.0, 0.0, ..., 1, 0, 113931.57],\n",
              "       ...,\n",
              "       [1.0, 0.0, 0.0, ..., 0, 1, 42085.58],\n",
              "       [0.0, 1.0, 0.0, ..., 1, 0, 92888.52],\n",
              "       [1.0, 0.0, 0.0, ..., 1, 0, 38190.78]], dtype=object)"
            ]
          },
          "metadata": {
            "tags": []
          },
          "execution_count": 14
        }
      ]
    },
    {
      "cell_type": "code",
      "metadata": {
        "id": "5hdHeHZOGxij",
        "colab_type": "code",
        "colab": {}
      },
      "source": [
        "X = X[:,1:]"
      ],
      "execution_count": 0,
      "outputs": []
    },
    {
      "cell_type": "code",
      "metadata": {
        "id": "FHhtI9SGLwes",
        "colab_type": "code",
        "outputId": "21ad2bf7-00ca-4207-e840-92c71251f53c",
        "colab": {
          "base_uri": "https://localhost:8080/",
          "height": 136
        }
      },
      "source": [
        "X"
      ],
      "execution_count": 16,
      "outputs": [
        {
          "output_type": "execute_result",
          "data": {
            "text/plain": [
              "array([[0.0, 0.0, 619, ..., 1, 1, 101348.88],\n",
              "       [0.0, 1.0, 608, ..., 0, 1, 112542.58],\n",
              "       [0.0, 0.0, 502, ..., 1, 0, 113931.57],\n",
              "       ...,\n",
              "       [0.0, 0.0, 709, ..., 0, 1, 42085.58],\n",
              "       [1.0, 0.0, 772, ..., 1, 0, 92888.52],\n",
              "       [0.0, 0.0, 792, ..., 1, 0, 38190.78]], dtype=object)"
            ]
          },
          "metadata": {
            "tags": []
          },
          "execution_count": 16
        }
      ]
    },
    {
      "cell_type": "code",
      "metadata": {
        "id": "xaZ7m8TtLw6S",
        "colab_type": "code",
        "colab": {}
      },
      "source": [
        "X[:,0] = X[:,0].astype(int)\n",
        "X[:,1] = X[:,1].astype(int)"
      ],
      "execution_count": 0,
      "outputs": []
    },
    {
      "cell_type": "code",
      "metadata": {
        "id": "v0zzS_C3MGRu",
        "colab_type": "code",
        "outputId": "728d51af-8bac-4f13-82a7-30a1b800bfd3",
        "colab": {
          "base_uri": "https://localhost:8080/",
          "height": 136
        }
      },
      "source": [
        "X"
      ],
      "execution_count": 18,
      "outputs": [
        {
          "output_type": "execute_result",
          "data": {
            "text/plain": [
              "array([[0, 0, 619, ..., 1, 1, 101348.88],\n",
              "       [0, 1, 608, ..., 0, 1, 112542.58],\n",
              "       [0, 0, 502, ..., 1, 0, 113931.57],\n",
              "       ...,\n",
              "       [0, 0, 709, ..., 0, 1, 42085.58],\n",
              "       [1, 0, 772, ..., 1, 0, 92888.52],\n",
              "       [0, 0, 792, ..., 1, 0, 38190.78]], dtype=object)"
            ]
          },
          "metadata": {
            "tags": []
          },
          "execution_count": 18
        }
      ]
    },
    {
      "cell_type": "code",
      "metadata": {
        "id": "iIMIJmL2MxMK",
        "colab_type": "code",
        "colab": {}
      },
      "source": [
        "#training start (spliting)\n",
        "from sklearn.model_selection import train_test_split"
      ],
      "execution_count": 0,
      "outputs": []
    },
    {
      "cell_type": "code",
      "metadata": {
        "id": "2B5W-yo9M88E",
        "colab_type": "code",
        "colab": {}
      },
      "source": [
        "X_train, X_test, y_train, y_test = train_test_split(X, y, test_size = 0.2, random_state = 0)"
      ],
      "execution_count": 0,
      "outputs": []
    },
    {
      "cell_type": "code",
      "metadata": {
        "id": "u50fjze2NyQI",
        "colab_type": "code",
        "colab": {}
      },
      "source": [
        "# scaling features\n",
        "from sklearn.preprocessing import StandardScaler\n"
      ],
      "execution_count": 0,
      "outputs": []
    },
    {
      "cell_type": "code",
      "metadata": {
        "id": "W5hJMtIQOdnA",
        "colab_type": "code",
        "colab": {}
      },
      "source": [
        "sc = StandardScaler()\n",
        "X_train = sc.fit_transform(X_train)\n",
        "X_test = sc.fit_transform(X_test)"
      ],
      "execution_count": 0,
      "outputs": []
    },
    {
      "cell_type": "markdown",
      "metadata": {
        "id": "z0vddufXQslJ",
        "colab_type": "text"
      },
      "source": [
        "# Training and tesing"
      ]
    },
    {
      "cell_type": "code",
      "metadata": {
        "id": "GWS8OER5OrfJ",
        "colab_type": "code",
        "colab": {}
      },
      "source": [
        "import keras\n",
        "from keras.models import Sequential\n",
        "from keras.layers import Dense"
      ],
      "execution_count": 0,
      "outputs": []
    },
    {
      "cell_type": "code",
      "metadata": {
        "id": "KooZMqCTQ3qd",
        "colab_type": "code",
        "colab": {}
      },
      "source": [
        "classifier = Sequential()"
      ],
      "execution_count": 0,
      "outputs": []
    },
    {
      "cell_type": "code",
      "metadata": {
        "id": "IVBmErOkGr05",
        "colab_type": "code",
        "colab": {}
      },
      "source": [
        "#dense will initialize the input and hidden layer in ann\n",
        "#selecting output dim is an Art , no rules of thumb, for this session - I am taking average of input and output layer  which is 11+1 / 2 = 6\n",
        "#init initialized the initial weight, which we need to initialize close to Zero  with normal / uniform distribution\n",
        "#in standard way, relu is good for input and sigmoid is good for output   \n",
        "#input dimension is first attempt must have to be mention \n",
        "#important note is , in dense we  must declare all the necessary parameter\n",
        "classifier.add(Dense(output_dim = 6, init= 'uniform', activation = 'relu', input_dim = 11))"
      ],
      "execution_count": 0,
      "outputs": []
    },
    {
      "cell_type": "code",
      "metadata": {
        "id": "GfN9YUcoKjPr",
        "colab_type": "code",
        "colab": {}
      },
      "source": [
        "#as first input and hidden layer is initialized with Dense()\n",
        "#second hidden layer\n",
        "# as I've mentioned earlier , no need  to add input_dim after first attempt , as  the system already knows about this \n",
        "classifier.add(Dense(output_dim = 6, init= 'uniform', activation = 'relu'))"
      ],
      "execution_count": 0,
      "outputs": []
    },
    {
      "cell_type": "code",
      "metadata": {
        "id": "aQtPXGDPLWTd",
        "colab_type": "code",
        "colab": {}
      },
      "source": [
        "#output layer\n",
        "#sigmoid is  the heart of probabilistic function\n",
        "#it is  a binary classification so output dim here will be = 1\n",
        "#for more than binary classification , such as for 3 categories we'll need  3 output dim\n",
        "#and activation will be \"softmax\"\n",
        "classifier.add(Dense(output_dim = 1, init= 'uniform', activation = 'sigmoid'))"
      ],
      "execution_count": 0,
      "outputs": []
    },
    {
      "cell_type": "code",
      "metadata": {
        "id": "VPYCOI7KMh9w",
        "colab_type": "code",
        "colab": {}
      },
      "source": [
        "#optimization stuffs\n",
        "#for backpropagations stuffs  I have used \"adam\" here, loss function => for binary = binary_crossentropy ->for more than two = categorical_crossentropy  (sgd)\n",
        "#after each update of the weight we need  some means to evaluate the model at present situation\n",
        "#so for that method funcstion come metrics= ['accuracy'] (as it demands a  list)\n",
        "classifier.compile(optimizer='adam', loss = 'binary_crossentropy', metrics = ['accuracy'])"
      ],
      "execution_count": 0,
      "outputs": []
    },
    {
      "cell_type": "code",
      "metadata": {
        "id": "Z-yj0k9BTASf",
        "colab_type": "code",
        "colab": {
          "base_uri": "https://localhost:8080/",
          "height": 1000
        },
        "outputId": "0b69cd52-4d96-4ccf-cd8c-51169d77084a"
      },
      "source": [
        "  #here we have only defined  layers but till now  no connection -> for  this fit actually comes in\n",
        "  #for selecting batch_size and  epochs , there's no fixed rules \n",
        "  classifier.fit(X_train,y_train, batch_size = 10, epochs= 100)"
      ],
      "execution_count": 39,
      "outputs": [
        {
          "output_type": "stream",
          "text": [
            "WARNING:tensorflow:From /usr/local/lib/python3.6/dist-packages/keras/backend/tensorflow_backend.py:1033: The name tf.assign_add is deprecated. Please use tf.compat.v1.assign_add instead.\n",
            "\n",
            "WARNING:tensorflow:From /usr/local/lib/python3.6/dist-packages/keras/backend/tensorflow_backend.py:1020: The name tf.assign is deprecated. Please use tf.compat.v1.assign instead.\n",
            "\n",
            "WARNING:tensorflow:From /usr/local/lib/python3.6/dist-packages/keras/backend/tensorflow_backend.py:3005: The name tf.Session is deprecated. Please use tf.compat.v1.Session instead.\n",
            "\n",
            "Epoch 1/100\n",
            "WARNING:tensorflow:From /usr/local/lib/python3.6/dist-packages/keras/backend/tensorflow_backend.py:190: The name tf.get_default_session is deprecated. Please use tf.compat.v1.get_default_session instead.\n",
            "\n",
            "WARNING:tensorflow:From /usr/local/lib/python3.6/dist-packages/keras/backend/tensorflow_backend.py:197: The name tf.ConfigProto is deprecated. Please use tf.compat.v1.ConfigProto instead.\n",
            "\n",
            "WARNING:tensorflow:From /usr/local/lib/python3.6/dist-packages/keras/backend/tensorflow_backend.py:207: The name tf.global_variables is deprecated. Please use tf.compat.v1.global_variables instead.\n",
            "\n",
            "WARNING:tensorflow:From /usr/local/lib/python3.6/dist-packages/keras/backend/tensorflow_backend.py:216: The name tf.is_variable_initialized is deprecated. Please use tf.compat.v1.is_variable_initialized instead.\n",
            "\n",
            "WARNING:tensorflow:From /usr/local/lib/python3.6/dist-packages/keras/backend/tensorflow_backend.py:223: The name tf.variables_initializer is deprecated. Please use tf.compat.v1.variables_initializer instead.\n",
            "\n",
            "8000/8000 [==============================] - 12s 2ms/step - loss: 0.5039 - acc: 0.7957\n",
            "Epoch 2/100\n",
            "8000/8000 [==============================] - 3s 326us/step - loss: 0.4301 - acc: 0.7960\n",
            "Epoch 3/100\n",
            "8000/8000 [==============================] - 3s 331us/step - loss: 0.4251 - acc: 0.7960\n",
            "Epoch 4/100\n",
            "8000/8000 [==============================] - 3s 331us/step - loss: 0.4215 - acc: 0.7960\n",
            "Epoch 5/100\n",
            "8000/8000 [==============================] - 3s 334us/step - loss: 0.4186 - acc: 0.8141\n",
            "Epoch 6/100\n",
            "8000/8000 [==============================] - 3s 326us/step - loss: 0.4162 - acc: 0.8256\n",
            "Epoch 7/100\n",
            "8000/8000 [==============================] - 3s 333us/step - loss: 0.4145 - acc: 0.8282\n",
            "Epoch 8/100\n",
            "8000/8000 [==============================] - 3s 334us/step - loss: 0.4132 - acc: 0.8312\n",
            "Epoch 9/100\n",
            "8000/8000 [==============================] - 3s 327us/step - loss: 0.4117 - acc: 0.8324\n",
            "Epoch 10/100\n",
            "8000/8000 [==============================] - 3s 334us/step - loss: 0.4109 - acc: 0.8327\n",
            "Epoch 11/100\n",
            "8000/8000 [==============================] - 3s 351us/step - loss: 0.4099 - acc: 0.8329\n",
            "Epoch 12/100\n",
            "8000/8000 [==============================] - 3s 348us/step - loss: 0.4094 - acc: 0.8322\n",
            "Epoch 13/100\n",
            "8000/8000 [==============================] - 3s 341us/step - loss: 0.4087 - acc: 0.8331\n",
            "Epoch 14/100\n",
            "8000/8000 [==============================] - 3s 330us/step - loss: 0.4082 - acc: 0.8325\n",
            "Epoch 15/100\n",
            "8000/8000 [==============================] - 3s 330us/step - loss: 0.4075 - acc: 0.8337\n",
            "Epoch 16/100\n",
            "8000/8000 [==============================] - 3s 327us/step - loss: 0.4073 - acc: 0.8342\n",
            "Epoch 17/100\n",
            "8000/8000 [==============================] - 3s 330us/step - loss: 0.4069 - acc: 0.8339\n",
            "Epoch 18/100\n",
            "8000/8000 [==============================] - 3s 332us/step - loss: 0.4065 - acc: 0.8341\n",
            "Epoch 19/100\n",
            "8000/8000 [==============================] - 3s 329us/step - loss: 0.4061 - acc: 0.8339\n",
            "Epoch 20/100\n",
            "8000/8000 [==============================] - 3s 321us/step - loss: 0.4058 - acc: 0.8331\n",
            "Epoch 21/100\n",
            "8000/8000 [==============================] - 3s 327us/step - loss: 0.4057 - acc: 0.8341\n",
            "Epoch 22/100\n",
            "8000/8000 [==============================] - 3s 326us/step - loss: 0.4052 - acc: 0.8346\n",
            "Epoch 23/100\n",
            "8000/8000 [==============================] - 3s 328us/step - loss: 0.4048 - acc: 0.8340\n",
            "Epoch 24/100\n",
            "8000/8000 [==============================] - 3s 335us/step - loss: 0.4048 - acc: 0.8345\n",
            "Epoch 25/100\n",
            "8000/8000 [==============================] - 3s 325us/step - loss: 0.4046 - acc: 0.8340\n",
            "Epoch 26/100\n",
            "8000/8000 [==============================] - 3s 327us/step - loss: 0.4045 - acc: 0.8359\n",
            "Epoch 27/100\n",
            "8000/8000 [==============================] - 3s 314us/step - loss: 0.4045 - acc: 0.8344\n",
            "Epoch 28/100\n",
            "8000/8000 [==============================] - 3s 330us/step - loss: 0.4040 - acc: 0.8349\n",
            "Epoch 29/100\n",
            "8000/8000 [==============================] - 3s 316us/step - loss: 0.4038 - acc: 0.8349\n",
            "Epoch 30/100\n",
            "8000/8000 [==============================] - 3s 330us/step - loss: 0.4037 - acc: 0.8347\n",
            "Epoch 31/100\n",
            "8000/8000 [==============================] - 3s 326us/step - loss: 0.4037 - acc: 0.8330\n",
            "Epoch 32/100\n",
            "8000/8000 [==============================] - 3s 324us/step - loss: 0.4034 - acc: 0.8346\n",
            "Epoch 33/100\n",
            "8000/8000 [==============================] - 3s 321us/step - loss: 0.4036 - acc: 0.8346\n",
            "Epoch 34/100\n",
            "8000/8000 [==============================] - 3s 339us/step - loss: 0.4033 - acc: 0.8344\n",
            "Epoch 35/100\n",
            "8000/8000 [==============================] - 3s 348us/step - loss: 0.4032 - acc: 0.8341\n",
            "Epoch 36/100\n",
            "8000/8000 [==============================] - 3s 351us/step - loss: 0.4035 - acc: 0.8331\n",
            "Epoch 37/100\n",
            "8000/8000 [==============================] - 3s 340us/step - loss: 0.4030 - acc: 0.8355\n",
            "Epoch 38/100\n",
            "8000/8000 [==============================] - 3s 322us/step - loss: 0.4034 - acc: 0.8350\n",
            "Epoch 39/100\n",
            "8000/8000 [==============================] - 3s 324us/step - loss: 0.4034 - acc: 0.8339\n",
            "Epoch 40/100\n",
            "8000/8000 [==============================] - 3s 331us/step - loss: 0.4029 - acc: 0.8350\n",
            "Epoch 41/100\n",
            "8000/8000 [==============================] - 3s 334us/step - loss: 0.4029 - acc: 0.8345\n",
            "Epoch 42/100\n",
            "8000/8000 [==============================] - 3s 335us/step - loss: 0.4029 - acc: 0.8359\n",
            "Epoch 43/100\n",
            "8000/8000 [==============================] - 3s 332us/step - loss: 0.4030 - acc: 0.8345\n",
            "Epoch 44/100\n",
            "8000/8000 [==============================] - 3s 316us/step - loss: 0.4026 - acc: 0.8341\n",
            "Epoch 45/100\n",
            "8000/8000 [==============================] - 3s 324us/step - loss: 0.4029 - acc: 0.8330\n",
            "Epoch 46/100\n",
            "8000/8000 [==============================] - 3s 323us/step - loss: 0.4023 - acc: 0.8344\n",
            "Epoch 47/100\n",
            "8000/8000 [==============================] - 3s 319us/step - loss: 0.4025 - acc: 0.8349\n",
            "Epoch 48/100\n",
            "8000/8000 [==============================] - 3s 316us/step - loss: 0.4026 - acc: 0.8351\n",
            "Epoch 49/100\n",
            "8000/8000 [==============================] - 3s 323us/step - loss: 0.4024 - acc: 0.8336\n",
            "Epoch 50/100\n",
            "8000/8000 [==============================] - 2s 310us/step - loss: 0.4026 - acc: 0.8337\n",
            "Epoch 51/100\n",
            "8000/8000 [==============================] - 3s 323us/step - loss: 0.4021 - acc: 0.8360\n",
            "Epoch 52/100\n",
            "8000/8000 [==============================] - 3s 323us/step - loss: 0.4023 - acc: 0.8339\n",
            "Epoch 53/100\n",
            "8000/8000 [==============================] - 3s 319us/step - loss: 0.4023 - acc: 0.8354\n",
            "Epoch 54/100\n",
            "8000/8000 [==============================] - 3s 321us/step - loss: 0.4023 - acc: 0.8344\n",
            "Epoch 55/100\n",
            "8000/8000 [==============================] - 3s 323us/step - loss: 0.4020 - acc: 0.8335\n",
            "Epoch 56/100\n",
            "8000/8000 [==============================] - 3s 316us/step - loss: 0.4022 - acc: 0.8354\n",
            "Epoch 57/100\n",
            "8000/8000 [==============================] - 3s 318us/step - loss: 0.4018 - acc: 0.8342\n",
            "Epoch 58/100\n",
            "8000/8000 [==============================] - 3s 333us/step - loss: 0.4023 - acc: 0.8336\n",
            "Epoch 59/100\n",
            "8000/8000 [==============================] - 3s 333us/step - loss: 0.4019 - acc: 0.8345\n",
            "Epoch 60/100\n",
            "8000/8000 [==============================] - 3s 339us/step - loss: 0.4017 - acc: 0.8355\n",
            "Epoch 61/100\n",
            "8000/8000 [==============================] - 3s 332us/step - loss: 0.4020 - acc: 0.8334\n",
            "Epoch 62/100\n",
            "8000/8000 [==============================] - 3s 327us/step - loss: 0.4018 - acc: 0.8344\n",
            "Epoch 63/100\n",
            "8000/8000 [==============================] - 3s 320us/step - loss: 0.4016 - acc: 0.8332\n",
            "Epoch 64/100\n",
            "8000/8000 [==============================] - 3s 318us/step - loss: 0.4019 - acc: 0.8339\n",
            "Epoch 65/100\n",
            "8000/8000 [==============================] - 2s 310us/step - loss: 0.4021 - acc: 0.8330\n",
            "Epoch 66/100\n",
            "8000/8000 [==============================] - 3s 319us/step - loss: 0.4014 - acc: 0.8350\n",
            "Epoch 67/100\n",
            "8000/8000 [==============================] - 3s 326us/step - loss: 0.4018 - acc: 0.8337\n",
            "Epoch 68/100\n",
            "8000/8000 [==============================] - 3s 321us/step - loss: 0.4016 - acc: 0.8337\n",
            "Epoch 69/100\n",
            "8000/8000 [==============================] - 3s 322us/step - loss: 0.4018 - acc: 0.8320\n",
            "Epoch 70/100\n",
            "8000/8000 [==============================] - 3s 320us/step - loss: 0.4014 - acc: 0.8332\n",
            "Epoch 71/100\n",
            "8000/8000 [==============================] - 3s 326us/step - loss: 0.4013 - acc: 0.8337\n",
            "Epoch 72/100\n",
            "8000/8000 [==============================] - 3s 327us/step - loss: 0.4018 - acc: 0.8330\n",
            "Epoch 73/100\n",
            "8000/8000 [==============================] - 3s 332us/step - loss: 0.4017 - acc: 0.8331\n",
            "Epoch 74/100\n",
            "8000/8000 [==============================] - 3s 336us/step - loss: 0.4016 - acc: 0.8345\n",
            "Epoch 75/100\n",
            "8000/8000 [==============================] - 3s 331us/step - loss: 0.4015 - acc: 0.8339\n",
            "Epoch 76/100\n",
            "8000/8000 [==============================] - 3s 327us/step - loss: 0.4014 - acc: 0.8336\n",
            "Epoch 77/100\n",
            "8000/8000 [==============================] - 3s 322us/step - loss: 0.4014 - acc: 0.8349\n",
            "Epoch 78/100\n",
            "8000/8000 [==============================] - 2s 312us/step - loss: 0.4014 - acc: 0.8335\n",
            "Epoch 79/100\n",
            "8000/8000 [==============================] - 3s 325us/step - loss: 0.4013 - acc: 0.8339\n",
            "Epoch 80/100\n",
            "8000/8000 [==============================] - 3s 321us/step - loss: 0.4014 - acc: 0.8340\n",
            "Epoch 81/100\n",
            "8000/8000 [==============================] - 3s 318us/step - loss: 0.4016 - acc: 0.8337\n",
            "Epoch 82/100\n",
            "8000/8000 [==============================] - 3s 313us/step - loss: 0.4011 - acc: 0.8335\n",
            "Epoch 83/100\n",
            "8000/8000 [==============================] - 3s 326us/step - loss: 0.4010 - acc: 0.8360\n",
            "Epoch 84/100\n",
            "8000/8000 [==============================] - 3s 322us/step - loss: 0.4012 - acc: 0.8351\n",
            "Epoch 85/100\n",
            "8000/8000 [==============================] - 3s 323us/step - loss: 0.4013 - acc: 0.8339\n",
            "Epoch 86/100\n",
            "8000/8000 [==============================] - 3s 320us/step - loss: 0.4011 - acc: 0.8350\n",
            "Epoch 87/100\n",
            "8000/8000 [==============================] - 3s 332us/step - loss: 0.4006 - acc: 0.8350\n",
            "Epoch 88/100\n",
            "8000/8000 [==============================] - 3s 325us/step - loss: 0.4010 - acc: 0.8339\n",
            "Epoch 89/100\n",
            "8000/8000 [==============================] - 3s 315us/step - loss: 0.4009 - acc: 0.8341\n",
            "Epoch 90/100\n",
            "8000/8000 [==============================] - 3s 316us/step - loss: 0.4008 - acc: 0.8347\n",
            "Epoch 91/100\n",
            "8000/8000 [==============================] - 3s 323us/step - loss: 0.4007 - acc: 0.8330\n",
            "Epoch 92/100\n",
            "8000/8000 [==============================] - 3s 315us/step - loss: 0.4008 - acc: 0.8345\n",
            "Epoch 93/100\n",
            "8000/8000 [==============================] - 3s 316us/step - loss: 0.4005 - acc: 0.8336\n",
            "Epoch 94/100\n",
            "8000/8000 [==============================] - 3s 314us/step - loss: 0.4003 - acc: 0.8357\n",
            "Epoch 95/100\n",
            "8000/8000 [==============================] - 3s 323us/step - loss: 0.4005 - acc: 0.8329\n",
            "Epoch 96/100\n",
            "8000/8000 [==============================] - 3s 318us/step - loss: 0.4004 - acc: 0.8356\n",
            "Epoch 97/100\n",
            "8000/8000 [==============================] - 3s 329us/step - loss: 0.4004 - acc: 0.8359\n",
            "Epoch 98/100\n",
            "8000/8000 [==============================] - 3s 334us/step - loss: 0.4004 - acc: 0.8347\n",
            "Epoch 99/100\n",
            "8000/8000 [==============================] - 3s 326us/step - loss: 0.4003 - acc: 0.8344\n",
            "Epoch 100/100\n",
            "8000/8000 [==============================] - 3s 328us/step - loss: 0.4001 - acc: 0.8336\n"
          ],
          "name": "stdout"
        },
        {
          "output_type": "execute_result",
          "data": {
            "text/plain": [
              "<keras.callbacks.History at 0x7fc812ee0f60>"
            ]
          },
          "metadata": {
            "tags": []
          },
          "execution_count": 39
        }
      ]
    },
    {
      "cell_type": "code",
      "metadata": {
        "id": "nh_wqUFDUgzH",
        "colab_type": "code",
        "colab": {}
      },
      "source": [
        "y_pred = classifier.predict(X_test)"
      ],
      "execution_count": 0,
      "outputs": []
    },
    {
      "cell_type": "code",
      "metadata": {
        "id": "JMaWL8_gVnA3",
        "colab_type": "code",
        "colab": {}
      },
      "source": [
        "#y_pred contains the probabilities , so for determining the  final decision\n",
        "threshold = 0.5\n",
        "y_pred = y_pred > threshold"
      ],
      "execution_count": 0,
      "outputs": []
    },
    {
      "cell_type": "code",
      "metadata": {
        "id": "n1FfYVKrZwMv",
        "colab_type": "code",
        "colab": {}
      },
      "source": [
        "from sklearn.metrics import confusion_matrix\n",
        "confMat = confusion_matrix(y_test,y_pred)"
      ],
      "execution_count": 0,
      "outputs": []
    },
    {
      "cell_type": "code",
      "metadata": {
        "id": "vMcs1DIxaBRb",
        "colab_type": "code",
        "colab": {
          "base_uri": "https://localhost:8080/",
          "height": 51
        },
        "outputId": "8b084f38-309a-448b-9391-4db8079ff498"
      },
      "source": [
        "confMat"
      ],
      "execution_count": 61,
      "outputs": [
        {
          "output_type": "execute_result",
          "data": {
            "text/plain": [
              "array([[1549,   46],\n",
              "       [ 275,  130]])"
            ]
          },
          "metadata": {
            "tags": []
          },
          "execution_count": 61
        }
      ]
    },
    {
      "cell_type": "code",
      "metadata": {
        "id": "uBycGWaQaU3p",
        "colab_type": "code",
        "colab": {
          "base_uri": "https://localhost:8080/",
          "height": 34
        },
        "outputId": "f9856ae7-8489-4715-d951-a51f83c40f6a"
      },
      "source": [
        "(1549+130) / 2000"
      ],
      "execution_count": 62,
      "outputs": [
        {
          "output_type": "execute_result",
          "data": {
            "text/plain": [
              "0.8395"
            ]
          },
          "metadata": {
            "tags": []
          },
          "execution_count": 62
        }
      ]
    },
    {
      "cell_type": "code",
      "metadata": {
        "id": "dZEgdZUPc7UM",
        "colab_type": "code",
        "colab": {
          "base_uri": "https://localhost:8080/",
          "height": 34
        },
        "outputId": "671a4366-42ae-419c-e6b2-a3decc770c11"
      },
      "source": [
        "#single evaluation point\n",
        "new_evaluationPoint = np.array([[0,0,600,1,40,3,60000,2,1,1,50000]])\n",
        "scaledPoint = sc.transform(new_evaluationPoint)\n",
        "new_pred = classifier.predict(scaledPoint)\n",
        "new_pred = new_pred > 0.5\n",
        "new_pred"
      ],
      "execution_count": 70,
      "outputs": [
        {
          "output_type": "execute_result",
          "data": {
            "text/plain": [
              "array([[False]])"
            ]
          },
          "metadata": {
            "tags": []
          },
          "execution_count": 70
        }
      ]
    },
    {
      "cell_type": "markdown",
      "metadata": {
        "id": "SymNaN7majK9",
        "colab_type": "text"
      },
      "source": [
        "So with ANN we have accuracy of 84% (approx) without using any tuning\n",
        "And as training and testing accuracy is almost similar , so this is satisfactory "
      ]
    },
    {
      "cell_type": "markdown",
      "metadata": {
        "id": "OskCH2BUdykX",
        "colab_type": "text"
      },
      "source": [
        "# CNN"
      ]
    },
    {
      "cell_type": "code",
      "metadata": {
        "id": "EBfCoH4kagzj",
        "colab_type": "code",
        "colab": {}
      },
      "source": [
        ""
      ],
      "execution_count": 0,
      "outputs": []
    }
  ]
}