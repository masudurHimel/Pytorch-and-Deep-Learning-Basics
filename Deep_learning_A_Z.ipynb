{
  "nbformat": 4,
  "nbformat_minor": 0,
  "metadata": {
    "colab": {
      "name": "Deep_learning_A-Z.ipynb",
      "provenance": [],
      "collapsed_sections": [
        "ZsvXgoLLQQ3e"
      ]
    },
    "kernelspec": {
      "name": "python3",
      "display_name": "Python 3"
    },
    "accelerator": "GPU"
  },
  "cells": [
    {
      "cell_type": "markdown",
      "metadata": {
        "id": "NL5oV29x9z_1",
        "colab_type": "text"
      },
      "source": [
        "**Deep Leaning**"
      ]
    },
    {
      "cell_type": "code",
      "metadata": {
        "id": "oZH170xP9_sZ",
        "colab_type": "code",
        "colab": {}
      },
      "source": [
        "from google.colab import drive\n",
        "drive.mount('/content/drive')"
      ],
      "execution_count": 0,
      "outputs": []
    },
    {
      "cell_type": "code",
      "metadata": {
        "id": "3wMZ5kPn-BHt",
        "colab_type": "code",
        "outputId": "1c537785-1db7-45c5-bbb6-46b6b6b432e5",
        "colab": {
          "base_uri": "https://localhost:8080/",
          "height": 34
        }
      },
      "source": [
        "cd /content/drive/My Drive/Datasets/Others"
      ],
      "execution_count": 2,
      "outputs": [
        {
          "output_type": "stream",
          "text": [
            "/content/drive/My Drive/Datasets/Others\n"
          ],
          "name": "stdout"
        }
      ]
    },
    {
      "cell_type": "code",
      "metadata": {
        "id": "Z9BDftS5-Omb",
        "colab_type": "code",
        "outputId": "bb2327e7-4ee1-4706-caca-6f97694a2c4a",
        "colab": {
          "base_uri": "https://localhost:8080/",
          "height": 34
        }
      },
      "source": [
        "ls"
      ],
      "execution_count": 3,
      "outputs": [
        {
          "output_type": "stream",
          "text": [
            "Churn_Modelling.csv\n"
          ],
          "name": "stdout"
        }
      ]
    },
    {
      "cell_type": "markdown",
      "metadata": {
        "id": "JCyHxfAUb22z",
        "colab_type": "text"
      },
      "source": [
        "# ANN"
      ]
    },
    {
      "cell_type": "markdown",
      "metadata": {
        "id": "ZsvXgoLLQQ3e",
        "colab_type": "text"
      },
      "source": [
        "# Preprocessing"
      ]
    },
    {
      "cell_type": "code",
      "metadata": {
        "id": "EYX6tpyB-a1Y",
        "colab_type": "code",
        "colab": {}
      },
      "source": [
        "import numpy as np\n",
        "import matplotlib.pyplot as plt\n",
        "import pandas as pd"
      ],
      "execution_count": 0,
      "outputs": []
    },
    {
      "cell_type": "code",
      "metadata": {
        "id": "LW0BqSTT_Zsv",
        "colab_type": "code",
        "colab": {}
      },
      "source": [
        "dataset = pd.read_csv(\"Churn_Modelling.csv\")"
      ],
      "execution_count": 0,
      "outputs": []
    },
    {
      "cell_type": "code",
      "metadata": {
        "id": "NzDdn-xO_h96",
        "colab_type": "code",
        "outputId": "48bfa944-b400-49bc-e0bc-9aa382da689f",
        "colab": {
          "base_uri": "https://localhost:8080/",
          "height": 0
        }
      },
      "source": [
        "dataset.head()"
      ],
      "execution_count": 6,
      "outputs": [
        {
          "output_type": "execute_result",
          "data": {
            "text/html": [
              "<div>\n",
              "<style scoped>\n",
              "    .dataframe tbody tr th:only-of-type {\n",
              "        vertical-align: middle;\n",
              "    }\n",
              "\n",
              "    .dataframe tbody tr th {\n",
              "        vertical-align: top;\n",
              "    }\n",
              "\n",
              "    .dataframe thead th {\n",
              "        text-align: right;\n",
              "    }\n",
              "</style>\n",
              "<table border=\"1\" class=\"dataframe\">\n",
              "  <thead>\n",
              "    <tr style=\"text-align: right;\">\n",
              "      <th></th>\n",
              "      <th>RowNumber</th>\n",
              "      <th>CustomerId</th>\n",
              "      <th>Surname</th>\n",
              "      <th>CreditScore</th>\n",
              "      <th>Geography</th>\n",
              "      <th>Gender</th>\n",
              "      <th>Age</th>\n",
              "      <th>Tenure</th>\n",
              "      <th>Balance</th>\n",
              "      <th>NumOfProducts</th>\n",
              "      <th>HasCrCard</th>\n",
              "      <th>IsActiveMember</th>\n",
              "      <th>EstimatedSalary</th>\n",
              "      <th>Exited</th>\n",
              "    </tr>\n",
              "  </thead>\n",
              "  <tbody>\n",
              "    <tr>\n",
              "      <th>0</th>\n",
              "      <td>1</td>\n",
              "      <td>15634602</td>\n",
              "      <td>Hargrave</td>\n",
              "      <td>619</td>\n",
              "      <td>France</td>\n",
              "      <td>Female</td>\n",
              "      <td>42</td>\n",
              "      <td>2</td>\n",
              "      <td>0.00</td>\n",
              "      <td>1</td>\n",
              "      <td>1</td>\n",
              "      <td>1</td>\n",
              "      <td>101348.88</td>\n",
              "      <td>1</td>\n",
              "    </tr>\n",
              "    <tr>\n",
              "      <th>1</th>\n",
              "      <td>2</td>\n",
              "      <td>15647311</td>\n",
              "      <td>Hill</td>\n",
              "      <td>608</td>\n",
              "      <td>Spain</td>\n",
              "      <td>Female</td>\n",
              "      <td>41</td>\n",
              "      <td>1</td>\n",
              "      <td>83807.86</td>\n",
              "      <td>1</td>\n",
              "      <td>0</td>\n",
              "      <td>1</td>\n",
              "      <td>112542.58</td>\n",
              "      <td>0</td>\n",
              "    </tr>\n",
              "    <tr>\n",
              "      <th>2</th>\n",
              "      <td>3</td>\n",
              "      <td>15619304</td>\n",
              "      <td>Onio</td>\n",
              "      <td>502</td>\n",
              "      <td>France</td>\n",
              "      <td>Female</td>\n",
              "      <td>42</td>\n",
              "      <td>8</td>\n",
              "      <td>159660.80</td>\n",
              "      <td>3</td>\n",
              "      <td>1</td>\n",
              "      <td>0</td>\n",
              "      <td>113931.57</td>\n",
              "      <td>1</td>\n",
              "    </tr>\n",
              "    <tr>\n",
              "      <th>3</th>\n",
              "      <td>4</td>\n",
              "      <td>15701354</td>\n",
              "      <td>Boni</td>\n",
              "      <td>699</td>\n",
              "      <td>France</td>\n",
              "      <td>Female</td>\n",
              "      <td>39</td>\n",
              "      <td>1</td>\n",
              "      <td>0.00</td>\n",
              "      <td>2</td>\n",
              "      <td>0</td>\n",
              "      <td>0</td>\n",
              "      <td>93826.63</td>\n",
              "      <td>0</td>\n",
              "    </tr>\n",
              "    <tr>\n",
              "      <th>4</th>\n",
              "      <td>5</td>\n",
              "      <td>15737888</td>\n",
              "      <td>Mitchell</td>\n",
              "      <td>850</td>\n",
              "      <td>Spain</td>\n",
              "      <td>Female</td>\n",
              "      <td>43</td>\n",
              "      <td>2</td>\n",
              "      <td>125510.82</td>\n",
              "      <td>1</td>\n",
              "      <td>1</td>\n",
              "      <td>1</td>\n",
              "      <td>79084.10</td>\n",
              "      <td>0</td>\n",
              "    </tr>\n",
              "  </tbody>\n",
              "</table>\n",
              "</div>"
            ],
            "text/plain": [
              "   RowNumber  CustomerId   Surname  ...  IsActiveMember EstimatedSalary Exited\n",
              "0          1    15634602  Hargrave  ...               1       101348.88      1\n",
              "1          2    15647311      Hill  ...               1       112542.58      0\n",
              "2          3    15619304      Onio  ...               0       113931.57      1\n",
              "3          4    15701354      Boni  ...               0        93826.63      0\n",
              "4          5    15737888  Mitchell  ...               1        79084.10      0\n",
              "\n",
              "[5 rows x 14 columns]"
            ]
          },
          "metadata": {
            "tags": []
          },
          "execution_count": 6
        }
      ]
    },
    {
      "cell_type": "code",
      "metadata": {
        "id": "o7rGupeS_nhu",
        "colab_type": "code",
        "outputId": "8d5c6d84-fda3-412b-ba4b-253de89e4ca7",
        "colab": {
          "base_uri": "https://localhost:8080/",
          "height": 0
        }
      },
      "source": [
        "dataset.describe"
      ],
      "execution_count": 7,
      "outputs": [
        {
          "output_type": "execute_result",
          "data": {
            "text/plain": [
              "<bound method NDFrame.describe of       RowNumber  CustomerId    Surname  ...  IsActiveMember EstimatedSalary Exited\n",
              "0             1    15634602   Hargrave  ...               1       101348.88      1\n",
              "1             2    15647311       Hill  ...               1       112542.58      0\n",
              "2             3    15619304       Onio  ...               0       113931.57      1\n",
              "3             4    15701354       Boni  ...               0        93826.63      0\n",
              "4             5    15737888   Mitchell  ...               1        79084.10      0\n",
              "...         ...         ...        ...  ...             ...             ...    ...\n",
              "9995       9996    15606229   Obijiaku  ...               0        96270.64      0\n",
              "9996       9997    15569892  Johnstone  ...               1       101699.77      0\n",
              "9997       9998    15584532        Liu  ...               1        42085.58      1\n",
              "9998       9999    15682355  Sabbatini  ...               0        92888.52      1\n",
              "9999      10000    15628319     Walker  ...               0        38190.78      0\n",
              "\n",
              "[10000 rows x 14 columns]>"
            ]
          },
          "metadata": {
            "tags": []
          },
          "execution_count": 7
        }
      ]
    },
    {
      "cell_type": "code",
      "metadata": {
        "id": "HD3O1bc4_rGM",
        "colab_type": "code",
        "colab": {}
      },
      "source": [
        "X = dataset.iloc[:,3:13].values\n",
        "y = dataset.iloc[:,13].values"
      ],
      "execution_count": 0,
      "outputs": []
    },
    {
      "cell_type": "code",
      "metadata": {
        "id": "nq7gJ_81CXhD",
        "colab_type": "code",
        "outputId": "089c5143-3bcc-41de-8d8b-ea0630addd88",
        "colab": {
          "base_uri": "https://localhost:8080/",
          "height": 0
        }
      },
      "source": [
        "X"
      ],
      "execution_count": 9,
      "outputs": [
        {
          "output_type": "execute_result",
          "data": {
            "text/plain": [
              "array([[619, 'France', 'Female', ..., 1, 1, 101348.88],\n",
              "       [608, 'Spain', 'Female', ..., 0, 1, 112542.58],\n",
              "       [502, 'France', 'Female', ..., 1, 0, 113931.57],\n",
              "       ...,\n",
              "       [709, 'France', 'Female', ..., 0, 1, 42085.58],\n",
              "       [772, 'Germany', 'Male', ..., 1, 0, 92888.52],\n",
              "       [792, 'France', 'Female', ..., 1, 0, 38190.78]], dtype=object)"
            ]
          },
          "metadata": {
            "tags": []
          },
          "execution_count": 9
        }
      ]
    },
    {
      "cell_type": "code",
      "metadata": {
        "id": "dGxIYB9hBHJu",
        "colab_type": "code",
        "colab": {}
      },
      "source": [
        "#for converting from categorical to numerical like word to number4\n",
        "from sklearn.preprocessing import LabelEncoder,OneHotEncoder\n",
        "from sklearn.compose import ColumnTransformer"
      ],
      "execution_count": 0,
      "outputs": []
    },
    {
      "cell_type": "code",
      "metadata": {
        "id": "Wy5tjkAaChvc",
        "colab_type": "code",
        "colab": {}
      },
      "source": [
        "# for gender\n",
        "labelEncoderGender = LabelEncoder()\n",
        "X[:,2] = labelEncoderGender.fit_transform(X[:,2])"
      ],
      "execution_count": 0,
      "outputs": []
    },
    {
      "cell_type": "code",
      "metadata": {
        "id": "AZ6uOEdMCuM0",
        "colab_type": "code",
        "outputId": "34d6d23f-b89d-4472-e24a-5641be62c89a",
        "colab": {
          "base_uri": "https://localhost:8080/",
          "height": 0
        }
      },
      "source": [
        "X"
      ],
      "execution_count": 12,
      "outputs": [
        {
          "output_type": "execute_result",
          "data": {
            "text/plain": [
              "array([[619, 'France', 0, ..., 1, 1, 101348.88],\n",
              "       [608, 'Spain', 0, ..., 0, 1, 112542.58],\n",
              "       [502, 'France', 0, ..., 1, 0, 113931.57],\n",
              "       ...,\n",
              "       [709, 'France', 0, ..., 0, 1, 42085.58],\n",
              "       [772, 'Germany', 1, ..., 1, 0, 92888.52],\n",
              "       [792, 'France', 0, ..., 1, 0, 38190.78]], dtype=object)"
            ]
          },
          "metadata": {
            "tags": []
          },
          "execution_count": 12
        }
      ]
    },
    {
      "cell_type": "code",
      "metadata": {
        "id": "Mr0ZEXEWLEry",
        "colab_type": "code",
        "colab": {}
      },
      "source": [
        "transformer = ColumnTransformer(\n",
        "    transformers=[\n",
        "        (\"OneHot\",        # Just a name\n",
        "         OneHotEncoder(), # The transformer class\n",
        "         [1]              # The column(s) to be applied on.\n",
        "         )\n",
        "    ],\n",
        "    remainder='passthrough' # donot apply anything to the remaining columns\n",
        ")\n",
        "X = transformer.fit_transform(X)"
      ],
      "execution_count": 0,
      "outputs": []
    },
    {
      "cell_type": "code",
      "metadata": {
        "id": "d73XIMAqEA1P",
        "colab_type": "code",
        "outputId": "293db26b-057f-4b69-f87f-d165ac9a5dd7",
        "colab": {
          "base_uri": "https://localhost:8080/",
          "height": 0
        }
      },
      "source": [
        "X"
      ],
      "execution_count": 14,
      "outputs": [
        {
          "output_type": "execute_result",
          "data": {
            "text/plain": [
              "array([[1.0, 0.0, 0.0, ..., 1, 1, 101348.88],\n",
              "       [0.0, 0.0, 1.0, ..., 0, 1, 112542.58],\n",
              "       [1.0, 0.0, 0.0, ..., 1, 0, 113931.57],\n",
              "       ...,\n",
              "       [1.0, 0.0, 0.0, ..., 0, 1, 42085.58],\n",
              "       [0.0, 1.0, 0.0, ..., 1, 0, 92888.52],\n",
              "       [1.0, 0.0, 0.0, ..., 1, 0, 38190.78]], dtype=object)"
            ]
          },
          "metadata": {
            "tags": []
          },
          "execution_count": 14
        }
      ]
    },
    {
      "cell_type": "code",
      "metadata": {
        "id": "5hdHeHZOGxij",
        "colab_type": "code",
        "colab": {}
      },
      "source": [
        "X = X[:,1:]"
      ],
      "execution_count": 0,
      "outputs": []
    },
    {
      "cell_type": "code",
      "metadata": {
        "id": "FHhtI9SGLwes",
        "colab_type": "code",
        "outputId": "9f5fbdf1-9b96-4aa2-d4fe-c9f6de484b74",
        "colab": {
          "base_uri": "https://localhost:8080/",
          "height": 0
        }
      },
      "source": [
        "X"
      ],
      "execution_count": 16,
      "outputs": [
        {
          "output_type": "execute_result",
          "data": {
            "text/plain": [
              "array([[0.0, 0.0, 619, ..., 1, 1, 101348.88],\n",
              "       [0.0, 1.0, 608, ..., 0, 1, 112542.58],\n",
              "       [0.0, 0.0, 502, ..., 1, 0, 113931.57],\n",
              "       ...,\n",
              "       [0.0, 0.0, 709, ..., 0, 1, 42085.58],\n",
              "       [1.0, 0.0, 772, ..., 1, 0, 92888.52],\n",
              "       [0.0, 0.0, 792, ..., 1, 0, 38190.78]], dtype=object)"
            ]
          },
          "metadata": {
            "tags": []
          },
          "execution_count": 16
        }
      ]
    },
    {
      "cell_type": "code",
      "metadata": {
        "id": "xaZ7m8TtLw6S",
        "colab_type": "code",
        "colab": {}
      },
      "source": [
        "X[:,0] = X[:,0].astype(int)\n",
        "X[:,1] = X[:,1].astype(int)"
      ],
      "execution_count": 0,
      "outputs": []
    },
    {
      "cell_type": "code",
      "metadata": {
        "id": "v0zzS_C3MGRu",
        "colab_type": "code",
        "outputId": "d3d86dd9-168c-457e-d6bc-d9e7516530fd",
        "colab": {
          "base_uri": "https://localhost:8080/",
          "height": 0
        }
      },
      "source": [
        "X"
      ],
      "execution_count": 18,
      "outputs": [
        {
          "output_type": "execute_result",
          "data": {
            "text/plain": [
              "array([[0, 0, 619, ..., 1, 1, 101348.88],\n",
              "       [0, 1, 608, ..., 0, 1, 112542.58],\n",
              "       [0, 0, 502, ..., 1, 0, 113931.57],\n",
              "       ...,\n",
              "       [0, 0, 709, ..., 0, 1, 42085.58],\n",
              "       [1, 0, 772, ..., 1, 0, 92888.52],\n",
              "       [0, 0, 792, ..., 1, 0, 38190.78]], dtype=object)"
            ]
          },
          "metadata": {
            "tags": []
          },
          "execution_count": 18
        }
      ]
    },
    {
      "cell_type": "code",
      "metadata": {
        "id": "iIMIJmL2MxMK",
        "colab_type": "code",
        "colab": {}
      },
      "source": [
        "#training start (spliting)\n",
        "from sklearn.model_selection import train_test_split"
      ],
      "execution_count": 0,
      "outputs": []
    },
    {
      "cell_type": "code",
      "metadata": {
        "id": "2B5W-yo9M88E",
        "colab_type": "code",
        "colab": {}
      },
      "source": [
        "X_train, X_test, y_train, y_test = train_test_split(X, y, test_size = 0.2, random_state = 0)"
      ],
      "execution_count": 0,
      "outputs": []
    },
    {
      "cell_type": "code",
      "metadata": {
        "id": "u50fjze2NyQI",
        "colab_type": "code",
        "colab": {}
      },
      "source": [
        "# scaling features\n",
        "from sklearn.preprocessing import StandardScaler\n"
      ],
      "execution_count": 0,
      "outputs": []
    },
    {
      "cell_type": "code",
      "metadata": {
        "id": "W5hJMtIQOdnA",
        "colab_type": "code",
        "colab": {}
      },
      "source": [
        "sc = StandardScaler()\n",
        "X_train = sc.fit_transform(X_train)\n",
        "X_test = sc.fit_transform(X_test)"
      ],
      "execution_count": 0,
      "outputs": []
    },
    {
      "cell_type": "markdown",
      "metadata": {
        "id": "z0vddufXQslJ",
        "colab_type": "text"
      },
      "source": [
        "# Training and tesing"
      ]
    },
    {
      "cell_type": "code",
      "metadata": {
        "id": "GWS8OER5OrfJ",
        "colab_type": "code",
        "colab": {}
      },
      "source": [
        "import keras\n",
        "from keras.models import Sequential\n",
        "from keras.layers import Dense"
      ],
      "execution_count": 0,
      "outputs": []
    },
    {
      "cell_type": "code",
      "metadata": {
        "id": "KooZMqCTQ3qd",
        "colab_type": "code",
        "colab": {}
      },
      "source": [
        "classifier = Sequential()"
      ],
      "execution_count": 0,
      "outputs": []
    },
    {
      "cell_type": "code",
      "metadata": {
        "id": "IVBmErOkGr05",
        "colab_type": "code",
        "colab": {}
      },
      "source": [
        "#dense will initialize the input and hidden layer in ann\n",
        "#selecting output dim is an Art , no rules of thumb, for this session - I am taking average of input and output layer  which is 11+1 / 2 = 6\n",
        "#init initialized the initial weight, which we need to initialize close to Zero  with normal / uniform distribution\n",
        "#in standard way, relu is good for input and sigmoid is good for output   \n",
        "#input dimension is first attempt must have to be mention \n",
        "#important note is , in dense we  must declare all the necessary parameter\n",
        "classifier.add(Dense(output_dim = 6, init= 'uniform', activation = 'relu', input_dim = 11))"
      ],
      "execution_count": 0,
      "outputs": []
    },
    {
      "cell_type": "code",
      "metadata": {
        "id": "GfN9YUcoKjPr",
        "colab_type": "code",
        "colab": {}
      },
      "source": [
        "#as first input and hidden layer is initialized with Dense()\n",
        "#second hidden layer\n",
        "# as I've mentioned earlier , no need  to add input_dim after first attempt , as  the system already knows about this \n",
        "classifier.add(Dense(output_dim = 6, init= 'uniform', activation = 'relu'))"
      ],
      "execution_count": 0,
      "outputs": []
    },
    {
      "cell_type": "code",
      "metadata": {
        "id": "aQtPXGDPLWTd",
        "colab_type": "code",
        "colab": {}
      },
      "source": [
        "#output layer\n",
        "#sigmoid is  the heart of probabilistic function\n",
        "#it is  a binary classification so output dim here will be = 1\n",
        "#for more than binary classification , such as for 3 categories we'll need  3 output dim\n",
        "#and activation will be \"softmax\"\n",
        "classifier.add(Dense(output_dim = 1, init= 'uniform', activation = 'sigmoid'))"
      ],
      "execution_count": 0,
      "outputs": []
    },
    {
      "cell_type": "code",
      "metadata": {
        "id": "VPYCOI7KMh9w",
        "colab_type": "code",
        "colab": {}
      },
      "source": [
        "#optimization stuffs\n",
        "#for backpropagations stuffs  I have used \"adam\" here, loss function => for binary = binary_crossentropy ->for more than two = categorical_crossentropy  (sgd)\n",
        "#after each update of the weight we need  some means to evaluate the model at present situation\n",
        "#so for that method funcstion come metrics= ['accuracy'] (as it demands a  list)\n",
        "classifier.compile(optimizer='adam', loss = 'binary_crossentropy', metrics = ['accuracy'])"
      ],
      "execution_count": 0,
      "outputs": []
    },
    {
      "cell_type": "code",
      "metadata": {
        "id": "Z-yj0k9BTASf",
        "colab_type": "code",
        "outputId": "0646fda0-627f-48d1-c848-ca08ca83b780",
        "colab": {
          "base_uri": "https://localhost:8080/",
          "height": 1000
        }
      },
      "source": [
        "  #here we have only defined  layers but till now  no connection -> for  this fit actually comes in\n",
        "  #for selecting batch_size and  epochs , there's no fixed rules \n",
        "  classifier.fit(X_train,y_train, batch_size = 10, epochs= 100)"
      ],
      "execution_count": 29,
      "outputs": [
        {
          "output_type": "stream",
          "text": [
            "WARNING:tensorflow:From /usr/local/lib/python3.6/dist-packages/keras/backend/tensorflow_backend.py:1033: The name tf.assign_add is deprecated. Please use tf.compat.v1.assign_add instead.\n",
            "\n",
            "WARNING:tensorflow:From /usr/local/lib/python3.6/dist-packages/keras/backend/tensorflow_backend.py:1020: The name tf.assign is deprecated. Please use tf.compat.v1.assign instead.\n",
            "\n",
            "WARNING:tensorflow:From /usr/local/lib/python3.6/dist-packages/keras/backend/tensorflow_backend.py:3005: The name tf.Session is deprecated. Please use tf.compat.v1.Session instead.\n",
            "\n",
            "Epoch 1/100\n",
            "WARNING:tensorflow:From /usr/local/lib/python3.6/dist-packages/keras/backend/tensorflow_backend.py:190: The name tf.get_default_session is deprecated. Please use tf.compat.v1.get_default_session instead.\n",
            "\n",
            "WARNING:tensorflow:From /usr/local/lib/python3.6/dist-packages/keras/backend/tensorflow_backend.py:197: The name tf.ConfigProto is deprecated. Please use tf.compat.v1.ConfigProto instead.\n",
            "\n",
            "WARNING:tensorflow:From /usr/local/lib/python3.6/dist-packages/keras/backend/tensorflow_backend.py:207: The name tf.global_variables is deprecated. Please use tf.compat.v1.global_variables instead.\n",
            "\n",
            "WARNING:tensorflow:From /usr/local/lib/python3.6/dist-packages/keras/backend/tensorflow_backend.py:216: The name tf.is_variable_initialized is deprecated. Please use tf.compat.v1.is_variable_initialized instead.\n",
            "\n",
            "WARNING:tensorflow:From /usr/local/lib/python3.6/dist-packages/keras/backend/tensorflow_backend.py:223: The name tf.variables_initializer is deprecated. Please use tf.compat.v1.variables_initializer instead.\n",
            "\n",
            "8000/8000 [==============================] - 13s 2ms/step - loss: 0.4811 - acc: 0.7954\n",
            "Epoch 2/100\n",
            "8000/8000 [==============================] - 4s 494us/step - loss: 0.4287 - acc: 0.7960\n",
            "Epoch 3/100\n",
            "8000/8000 [==============================] - 4s 497us/step - loss: 0.4233 - acc: 0.7960\n",
            "Epoch 4/100\n",
            "8000/8000 [==============================] - 4s 490us/step - loss: 0.4183 - acc: 0.8177\n",
            "Epoch 5/100\n",
            "8000/8000 [==============================] - 4s 515us/step - loss: 0.4159 - acc: 0.8250\n",
            "Epoch 6/100\n",
            "8000/8000 [==============================] - 4s 500us/step - loss: 0.4142 - acc: 0.8300\n",
            "Epoch 7/100\n",
            "8000/8000 [==============================] - 4s 470us/step - loss: 0.4123 - acc: 0.8305\n",
            "Epoch 8/100\n",
            "8000/8000 [==============================] - 4s 480us/step - loss: 0.4111 - acc: 0.8302\n",
            "Epoch 9/100\n",
            "8000/8000 [==============================] - 4s 479us/step - loss: 0.4105 - acc: 0.8316\n",
            "Epoch 10/100\n",
            "8000/8000 [==============================] - 4s 493us/step - loss: 0.4087 - acc: 0.8342\n",
            "Epoch 11/100\n",
            "8000/8000 [==============================] - 4s 488us/step - loss: 0.4084 - acc: 0.8345\n",
            "Epoch 12/100\n",
            "8000/8000 [==============================] - 4s 484us/step - loss: 0.4071 - acc: 0.8330\n",
            "Epoch 13/100\n",
            "8000/8000 [==============================] - 4s 488us/step - loss: 0.4072 - acc: 0.8349\n",
            "Epoch 14/100\n",
            "8000/8000 [==============================] - 4s 492us/step - loss: 0.4061 - acc: 0.8341\n",
            "Epoch 15/100\n",
            "8000/8000 [==============================] - 4s 471us/step - loss: 0.4057 - acc: 0.8341\n",
            "Epoch 16/100\n",
            "8000/8000 [==============================] - 4s 479us/step - loss: 0.4050 - acc: 0.8345\n",
            "Epoch 17/100\n",
            "8000/8000 [==============================] - 4s 491us/step - loss: 0.4051 - acc: 0.8350\n",
            "Epoch 18/100\n",
            "8000/8000 [==============================] - 4s 479us/step - loss: 0.4042 - acc: 0.8342\n",
            "Epoch 19/100\n",
            "8000/8000 [==============================] - 4s 474us/step - loss: 0.4041 - acc: 0.8342\n",
            "Epoch 20/100\n",
            "8000/8000 [==============================] - 4s 479us/step - loss: 0.4039 - acc: 0.8360\n",
            "Epoch 21/100\n",
            "8000/8000 [==============================] - 4s 489us/step - loss: 0.4036 - acc: 0.8342\n",
            "Epoch 22/100\n",
            "8000/8000 [==============================] - 4s 484us/step - loss: 0.4027 - acc: 0.8354\n",
            "Epoch 23/100\n",
            "8000/8000 [==============================] - 4s 472us/step - loss: 0.4031 - acc: 0.8351\n",
            "Epoch 24/100\n",
            "8000/8000 [==============================] - 4s 476us/step - loss: 0.4029 - acc: 0.8337\n",
            "Epoch 25/100\n",
            "8000/8000 [==============================] - 4s 487us/step - loss: 0.4024 - acc: 0.8345\n",
            "Epoch 26/100\n",
            "8000/8000 [==============================] - 4s 488us/step - loss: 0.4029 - acc: 0.8342\n",
            "Epoch 27/100\n",
            "8000/8000 [==============================] - 4s 473us/step - loss: 0.4023 - acc: 0.8345\n",
            "Epoch 28/100\n",
            "8000/8000 [==============================] - 4s 473us/step - loss: 0.4017 - acc: 0.8354\n",
            "Epoch 29/100\n",
            "8000/8000 [==============================] - 4s 465us/step - loss: 0.4021 - acc: 0.8337\n",
            "Epoch 30/100\n",
            "8000/8000 [==============================] - 4s 482us/step - loss: 0.4020 - acc: 0.8339\n",
            "Epoch 31/100\n",
            "8000/8000 [==============================] - 4s 474us/step - loss: 0.4017 - acc: 0.8346\n",
            "Epoch 32/100\n",
            "8000/8000 [==============================] - 4s 476us/step - loss: 0.4016 - acc: 0.8351\n",
            "Epoch 33/100\n",
            "8000/8000 [==============================] - 4s 484us/step - loss: 0.4014 - acc: 0.8351\n",
            "Epoch 34/100\n",
            "8000/8000 [==============================] - 4s 474us/step - loss: 0.4012 - acc: 0.8359\n",
            "Epoch 35/100\n",
            "8000/8000 [==============================] - 4s 464us/step - loss: 0.4009 - acc: 0.8340\n",
            "Epoch 36/100\n",
            "8000/8000 [==============================] - 4s 487us/step - loss: 0.4017 - acc: 0.8337\n",
            "Epoch 37/100\n",
            "8000/8000 [==============================] - 4s 487us/step - loss: 0.4012 - acc: 0.8337\n",
            "Epoch 38/100\n",
            "8000/8000 [==============================] - 4s 496us/step - loss: 0.4013 - acc: 0.8337\n",
            "Epoch 39/100\n",
            "8000/8000 [==============================] - 4s 483us/step - loss: 0.4010 - acc: 0.8357\n",
            "Epoch 40/100\n",
            "8000/8000 [==============================] - 4s 475us/step - loss: 0.4009 - acc: 0.8364\n",
            "Epoch 41/100\n",
            "8000/8000 [==============================] - 4s 485us/step - loss: 0.4002 - acc: 0.8344\n",
            "Epoch 42/100\n",
            "8000/8000 [==============================] - 4s 483us/step - loss: 0.4009 - acc: 0.8349\n",
            "Epoch 43/100\n",
            "8000/8000 [==============================] - 4s 476us/step - loss: 0.4007 - acc: 0.8362\n",
            "Epoch 44/100\n",
            "8000/8000 [==============================] - 4s 487us/step - loss: 0.4011 - acc: 0.8356\n",
            "Epoch 45/100\n",
            "8000/8000 [==============================] - 4s 483us/step - loss: 0.4004 - acc: 0.8345\n",
            "Epoch 46/100\n",
            "8000/8000 [==============================] - 4s 479us/step - loss: 0.4007 - acc: 0.8332\n",
            "Epoch 47/100\n",
            "8000/8000 [==============================] - 4s 465us/step - loss: 0.4006 - acc: 0.8360\n",
            "Epoch 48/100\n",
            "8000/8000 [==============================] - 4s 474us/step - loss: 0.4002 - acc: 0.8335\n",
            "Epoch 49/100\n",
            "8000/8000 [==============================] - 4s 489us/step - loss: 0.4009 - acc: 0.8360\n",
            "Epoch 50/100\n",
            "8000/8000 [==============================] - 4s 465us/step - loss: 0.4002 - acc: 0.8355\n",
            "Epoch 51/100\n",
            "8000/8000 [==============================] - 4s 476us/step - loss: 0.4007 - acc: 0.8356\n",
            "Epoch 52/100\n",
            "8000/8000 [==============================] - 4s 475us/step - loss: 0.4005 - acc: 0.8355\n",
            "Epoch 53/100\n",
            "8000/8000 [==============================] - 4s 466us/step - loss: 0.4004 - acc: 0.8334\n",
            "Epoch 54/100\n",
            "8000/8000 [==============================] - 4s 480us/step - loss: 0.4006 - acc: 0.8347\n",
            "Epoch 55/100\n",
            "8000/8000 [==============================] - 4s 465us/step - loss: 0.4006 - acc: 0.8337\n",
            "Epoch 56/100\n",
            "8000/8000 [==============================] - 4s 484us/step - loss: 0.4005 - acc: 0.8354\n",
            "Epoch 57/100\n",
            "8000/8000 [==============================] - 4s 480us/step - loss: 0.4004 - acc: 0.8330\n",
            "Epoch 58/100\n",
            "8000/8000 [==============================] - 4s 484us/step - loss: 0.4002 - acc: 0.8366\n",
            "Epoch 59/100\n",
            "8000/8000 [==============================] - 4s 488us/step - loss: 0.4005 - acc: 0.8337\n",
            "Epoch 60/100\n",
            "8000/8000 [==============================] - 4s 482us/step - loss: 0.4003 - acc: 0.8350\n",
            "Epoch 61/100\n",
            "8000/8000 [==============================] - 4s 474us/step - loss: 0.3998 - acc: 0.8344\n",
            "Epoch 62/100\n",
            "8000/8000 [==============================] - 4s 487us/step - loss: 0.4003 - acc: 0.8350\n",
            "Epoch 63/100\n",
            "8000/8000 [==============================] - 4s 482us/step - loss: 0.4002 - acc: 0.8355\n",
            "Epoch 64/100\n",
            "8000/8000 [==============================] - 4s 487us/step - loss: 0.4000 - acc: 0.8346\n",
            "Epoch 65/100\n",
            "8000/8000 [==============================] - 4s 470us/step - loss: 0.4000 - acc: 0.8357\n",
            "Epoch 66/100\n",
            "8000/8000 [==============================] - 4s 466us/step - loss: 0.4004 - acc: 0.8342\n",
            "Epoch 67/100\n",
            "8000/8000 [==============================] - 4s 475us/step - loss: 0.4000 - acc: 0.8341\n",
            "Epoch 68/100\n",
            "8000/8000 [==============================] - 4s 482us/step - loss: 0.3995 - acc: 0.8357\n",
            "Epoch 69/100\n",
            "8000/8000 [==============================] - 4s 480us/step - loss: 0.4003 - acc: 0.8336\n",
            "Epoch 70/100\n",
            "8000/8000 [==============================] - 4s 468us/step - loss: 0.4004 - acc: 0.8356\n",
            "Epoch 71/100\n",
            "8000/8000 [==============================] - 4s 464us/step - loss: 0.4000 - acc: 0.8347\n",
            "Epoch 72/100\n",
            "8000/8000 [==============================] - 4s 494us/step - loss: 0.4004 - acc: 0.8354\n",
            "Epoch 73/100\n",
            "8000/8000 [==============================] - 4s 485us/step - loss: 0.4000 - acc: 0.8355\n",
            "Epoch 74/100\n",
            "8000/8000 [==============================] - 4s 469us/step - loss: 0.4001 - acc: 0.8342\n",
            "Epoch 75/100\n",
            "8000/8000 [==============================] - 4s 476us/step - loss: 0.3998 - acc: 0.8336\n",
            "Epoch 76/100\n",
            "8000/8000 [==============================] - 4s 478us/step - loss: 0.4000 - acc: 0.8371\n",
            "Epoch 77/100\n",
            "8000/8000 [==============================] - 4s 483us/step - loss: 0.4005 - acc: 0.8351\n",
            "Epoch 78/100\n",
            "8000/8000 [==============================] - 4s 470us/step - loss: 0.3999 - acc: 0.8347\n",
            "Epoch 79/100\n",
            "8000/8000 [==============================] - 4s 493us/step - loss: 0.3999 - acc: 0.8345\n",
            "Epoch 80/100\n",
            "8000/8000 [==============================] - 4s 508us/step - loss: 0.4002 - acc: 0.8339\n",
            "Epoch 81/100\n",
            "8000/8000 [==============================] - 4s 483us/step - loss: 0.3999 - acc: 0.8350\n",
            "Epoch 82/100\n",
            "8000/8000 [==============================] - 4s 477us/step - loss: 0.4000 - acc: 0.8351\n",
            "Epoch 83/100\n",
            "8000/8000 [==============================] - 4s 500us/step - loss: 0.3996 - acc: 0.8361\n",
            "Epoch 84/100\n",
            "8000/8000 [==============================] - 4s 477us/step - loss: 0.3999 - acc: 0.8369\n",
            "Epoch 85/100\n",
            "8000/8000 [==============================] - 4s 507us/step - loss: 0.3999 - acc: 0.8352\n",
            "Epoch 86/100\n",
            "8000/8000 [==============================] - 4s 508us/step - loss: 0.4001 - acc: 0.8347\n",
            "Epoch 87/100\n",
            "8000/8000 [==============================] - 4s 501us/step - loss: 0.3998 - acc: 0.8350\n",
            "Epoch 88/100\n",
            "8000/8000 [==============================] - 4s 483us/step - loss: 0.3999 - acc: 0.8340\n",
            "Epoch 89/100\n",
            "8000/8000 [==============================] - 4s 476us/step - loss: 0.4001 - acc: 0.8359\n",
            "Epoch 90/100\n",
            "8000/8000 [==============================] - 4s 483us/step - loss: 0.3996 - acc: 0.8345\n",
            "Epoch 91/100\n",
            "8000/8000 [==============================] - 4s 482us/step - loss: 0.3999 - acc: 0.8347\n",
            "Epoch 92/100\n",
            "8000/8000 [==============================] - 4s 476us/step - loss: 0.3997 - acc: 0.8361\n",
            "Epoch 93/100\n",
            "8000/8000 [==============================] - 4s 499us/step - loss: 0.3995 - acc: 0.8355\n",
            "Epoch 94/100\n",
            "8000/8000 [==============================] - 4s 489us/step - loss: 0.3995 - acc: 0.8339\n",
            "Epoch 95/100\n",
            "8000/8000 [==============================] - 4s 496us/step - loss: 0.4000 - acc: 0.8336\n",
            "Epoch 96/100\n",
            "8000/8000 [==============================] - 4s 486us/step - loss: 0.3996 - acc: 0.8352\n",
            "Epoch 97/100\n",
            "8000/8000 [==============================] - 4s 480us/step - loss: 0.3997 - acc: 0.8359\n",
            "Epoch 98/100\n",
            "8000/8000 [==============================] - 4s 491us/step - loss: 0.3994 - acc: 0.8352\n",
            "Epoch 99/100\n",
            "8000/8000 [==============================] - 4s 499us/step - loss: 0.3999 - acc: 0.8356\n",
            "Epoch 100/100\n",
            "8000/8000 [==============================] - 4s 489us/step - loss: 0.4001 - acc: 0.8350\n"
          ],
          "name": "stdout"
        },
        {
          "output_type": "execute_result",
          "data": {
            "text/plain": [
              "<keras.callbacks.History at 0x7fc8594fbf28>"
            ]
          },
          "metadata": {
            "tags": []
          },
          "execution_count": 29
        }
      ]
    },
    {
      "cell_type": "code",
      "metadata": {
        "id": "nh_wqUFDUgzH",
        "colab_type": "code",
        "colab": {}
      },
      "source": [
        "y_pred = classifier.predict(X_test)"
      ],
      "execution_count": 0,
      "outputs": []
    },
    {
      "cell_type": "code",
      "metadata": {
        "id": "JMaWL8_gVnA3",
        "colab_type": "code",
        "colab": {}
      },
      "source": [
        "#y_pred contains the probabilities , so for determining the  final decision\n",
        "threshold = 0.5\n",
        "y_pred = y_pred > threshold"
      ],
      "execution_count": 0,
      "outputs": []
    },
    {
      "cell_type": "code",
      "metadata": {
        "id": "n1FfYVKrZwMv",
        "colab_type": "code",
        "colab": {}
      },
      "source": [
        "from sklearn.metrics import confusion_matrix\n",
        "confMat = confusion_matrix(y_test,y_pred)"
      ],
      "execution_count": 0,
      "outputs": []
    },
    {
      "cell_type": "code",
      "metadata": {
        "id": "vMcs1DIxaBRb",
        "colab_type": "code",
        "outputId": "289fb036-8880-4b7d-a28d-c3edaee0c862",
        "colab": {
          "base_uri": "https://localhost:8080/",
          "height": 51
        }
      },
      "source": [
        "confMat"
      ],
      "execution_count": 33,
      "outputs": [
        {
          "output_type": "execute_result",
          "data": {
            "text/plain": [
              "array([[1546,   49],\n",
              "       [ 267,  138]])"
            ]
          },
          "metadata": {
            "tags": []
          },
          "execution_count": 33
        }
      ]
    },
    {
      "cell_type": "code",
      "metadata": {
        "id": "uBycGWaQaU3p",
        "colab_type": "code",
        "outputId": "cf56242c-6853-449b-ba54-a9172522528c",
        "colab": {
          "base_uri": "https://localhost:8080/",
          "height": 34
        }
      },
      "source": [
        "(1546+138) / 2000"
      ],
      "execution_count": 39,
      "outputs": [
        {
          "output_type": "execute_result",
          "data": {
            "text/plain": [
              "0.842"
            ]
          },
          "metadata": {
            "tags": []
          },
          "execution_count": 39
        }
      ]
    },
    {
      "cell_type": "code",
      "metadata": {
        "id": "dZEgdZUPc7UM",
        "colab_type": "code",
        "outputId": "f3e4b33d-640c-41b0-adf6-4f3bd709a639",
        "colab": {
          "base_uri": "https://localhost:8080/",
          "height": 34
        }
      },
      "source": [
        "#single evaluation point\n",
        "new_evaluationPoint = np.array([[0,0,600,1,40,3,60000,2,1,1,50000]])\n",
        "scaledPoint = sc.transform(new_evaluationPoint)\n",
        "new_pred = classifier.predict(scaledPoint)\n",
        "new_pred = new_pred > 0.5\n",
        "new_pred"
      ],
      "execution_count": 35,
      "outputs": [
        {
          "output_type": "execute_result",
          "data": {
            "text/plain": [
              "array([[False]])"
            ]
          },
          "metadata": {
            "tags": []
          },
          "execution_count": 35
        }
      ]
    },
    {
      "cell_type": "markdown",
      "metadata": {
        "id": "SymNaN7majK9",
        "colab_type": "text"
      },
      "source": [
        "So with ANN we have accuracy of 84% (approx) without using any tuning\n",
        "And as training and testing accuracy is almost similar , so this is satisfactory "
      ]
    },
    {
      "cell_type": "markdown",
      "metadata": {
        "id": "P4HGqp1KfIj3",
        "colab_type": "text"
      },
      "source": [
        "# Optimization"
      ]
    },
    {
      "cell_type": "code",
      "metadata": {
        "id": "TBvSeQATfG8h",
        "colab_type": "code",
        "colab": {}
      },
      "source": [
        "# we have implemented  stuffs so far using keras\n",
        "# but k-fold is from scikit learn\n",
        "# for combining this there's a wrapper called KerasClassifier -> Keras.wrapper.scikit_learn\n",
        "from keras.wrappers.scikit_learn import KerasClassifier\n",
        "from sklearn.model_selection import cross_val_score"
      ],
      "execution_count": 0,
      "outputs": []
    },
    {
      "cell_type": "code",
      "metadata": {
        "id": "jvjJ4NRKsKUT",
        "colab_type": "code",
        "colab": {}
      },
      "source": [
        "# now for building the previous classifier\n",
        "\n",
        "def build_classifier():\n",
        "    classifier = Sequential()\n",
        "    classifier.add(Dense(output_dim = 6, init= 'uniform', activation = 'relu', input_dim = 11))\n",
        "    classifier.add(Dense(output_dim = 6, init= 'uniform', activation = 'relu'))\n",
        "    classifier.add(Dense(output_dim = 1, init= 'uniform', activation = 'sigmoid'))\n",
        "    classifier.compile(optimizer='adam', loss = 'binary_crossentropy', metrics = ['accuracy'])\n",
        "    return classifier\n"
      ],
      "execution_count": 0,
      "outputs": []
    },
    {
      "cell_type": "code",
      "metadata": {
        "id": "l3pA_fCGtSoD",
        "colab_type": "code",
        "colab": {}
      },
      "source": [
        "# for wrapping stuffs up \n",
        "# global classifier\n",
        "# KerasClassifier takes Internal architecture of our own Neural Network model\n",
        "# all the important stuffs are done here \n",
        "# we performing k fold to compare with the previous one and also the bias variance stuffs\n",
        "\n",
        "global_classifier = KerasClassifier(build_fn= build_classifier, batch_size = 10, nb_epoch = 100)\n",
        "accuracies = cross_val_score(estimator= global_classifier, X = X_train, y = y_train, cv= 10, n_jobs = -1)\n"
      ],
      "execution_count": 0,
      "outputs": []
    },
    {
      "cell_type": "code",
      "metadata": {
        "id": "bkw4nsQkvu4S",
        "colab_type": "code",
        "colab": {
          "base_uri": "https://localhost:8080/",
          "height": 51
        },
        "outputId": "35a1a4ab-c0f2-4242-be51-b816de1030b9"
      },
      "source": [
        " accuracies"
      ],
      "execution_count": 44,
      "outputs": [
        {
          "output_type": "execute_result",
          "data": {
            "text/plain": [
              "array([0.78625   , 0.79      , 0.80125   , 0.7825    , 0.81625   ,\n",
              "       0.81      , 0.7875    , 0.79375   , 0.79875   , 0.79499999])"
            ]
          },
          "metadata": {
            "tags": []
          },
          "execution_count": 44
        }
      ]
    },
    {
      "cell_type": "code",
      "metadata": {
        "id": "XaEH4abwwIqe",
        "colab_type": "code",
        "colab": {}
      },
      "source": [
        "mean =  accuracies.mean()\n",
        "variance = accuracies.std()   "
      ],
      "execution_count": 0,
      "outputs": []
    },
    {
      "cell_type": "code",
      "metadata": {
        "id": "NT6t_xRIwcQ6",
        "colab_type": "code",
        "colab": {
          "base_uri": "https://localhost:8080/",
          "height": 34
        },
        "outputId": "bd8d291a-1330-49a9-b52c-0d8452342556"
      },
      "source": [
        "print(mean,\" \",variance )"
      ],
      "execution_count": 48,
      "outputs": [
        {
          "output_type": "stream",
          "text": [
            "0.7961249969899654   0.010161968728235533\n"
          ],
          "name": "stdout"
        }
      ]
    },
    {
      "cell_type": "markdown",
      "metadata": {
        "id": "uhxMcbDAwy-o",
        "colab_type": "text"
      },
      "source": [
        "# Drop out regularization for reducing overfitting\n",
        "# Parameter Tuning"
      ]
    },
    {
      "cell_type": "code",
      "metadata": {
        "id": "Ee5qNYGaylXD",
        "colab_type": "code",
        "colab": {}
      },
      "source": [
        "from keras.layers import Dropout"
      ],
      "execution_count": 0,
      "outputs": []
    },
    {
      "cell_type": "code",
      "metadata": {
        "id": "BMQlgEqrwlnK",
        "colab_type": "code",
        "colab": {}
      },
      "source": [
        "#in most basic idea, this regularization disbles randomly a fraction of neuron in each iteration \n",
        "# start with the lower value of p such as 0.1 in Dropout and increase if the overfitting still occurs \n",
        "\n",
        "classifier = Sequential()\n",
        "classifier.add(Dense(output_dim = 6, init= 'uniform', activation = 'relu', input_dim = 11))\n",
        "classifier.Dropout(p = 0.1)\n",
        "\n",
        "classifier.add(Dense(output_dim = 6, init= 'uniform', activation = 'relu'))\n",
        "classifier.Dropout(p = 0.1)\n",
        "\n",
        "classifier.add(Dense(output_dim = 1, init= 'uniform', activation = 'sigmoid'))\n",
        "classifier.compile(optimizer='adam', loss = 'binary_crossentropy', metrics = ['accuracy']) \n",
        "\n"
      ],
      "execution_count": 0,
      "outputs": []
    },
    {
      "cell_type": "markdown",
      "metadata": {
        "id": "YdvxfG3jzjLH",
        "colab_type": "text"
      },
      "source": [
        "**Parameter Tuning**"
      ]
    },
    {
      "cell_type": "code",
      "metadata": {
        "id": "HOxICiysy8Rk",
        "colab_type": "code",
        "colab": {}
      },
      "source": [
        "from keras.wrappers.scikit_learn import KerasClassifier\n",
        "from sklearn.model_selection import GridSearchCV"
      ],
      "execution_count": 0,
      "outputs": []
    },
    {
      "cell_type": "code",
      "metadata": {
        "id": "qAqqbORYzh4A",
        "colab_type": "code",
        "colab": {}
      },
      "source": [
        "def build_classifier(optimizer):\n",
        "    classifier = Sequential()\n",
        "    classifier.add(Dense(output_dim = 6, init= 'uniform', activation = 'relu', input_dim = 11))\n",
        "    classifier.add(Dense(output_dim = 6, init= 'uniform', activation = 'relu'))\n",
        "    classifier.add(Dense(output_dim = 1, init= 'uniform', activation = 'sigmoid'))\n",
        "    classifier.compile(optimizer= optimizer, loss = 'binary_crossentropy', metrics = ['accuracy'])\n",
        "    return classifier"
      ],
      "execution_count": 0,
      "outputs": []
    },
    {
      "cell_type": "markdown",
      "metadata": {
        "id": "3MTf97I70JI-",
        "colab_type": "text"
      },
      "source": [
        "**we are going to tune batch size and epochs**"
      ]
    },
    {
      "cell_type": "code",
      "metadata": {
        "id": "YUa-ykDTzs3f",
        "colab_type": "code",
        "colab": {}
      },
      "source": [
        "global_classifier = KerasClassifier(build_fn= build_classifier)"
      ],
      "execution_count": 0,
      "outputs": []
    },
    {
      "cell_type": "code",
      "metadata": {
        "id": "yzKhRfgx0Eb1",
        "colab_type": "code",
        "colab": {}
      },
      "source": [
        "parameters = { 'batch_size' : [25,32] , 'nb_epoch' : [100,500], 'optimizer' : ['adam', 'rmsprop']}"
      ],
      "execution_count": 0,
      "outputs": []
    },
    {
      "cell_type": "code",
      "metadata": {
        "id": "vKEU7f9817Fu",
        "colab_type": "code",
        "colab": {
          "base_uri": "https://localhost:8080/",
          "height": 1000
        },
        "outputId": "708faa4b-6eff-4648-bfe6-5b8001f163a1"
      },
      "source": [
        "grid_search = GridSearchCV(estimator = global_classifier, param_grid = parameters, scoring = 'accuracy', cv=10)\n",
        "grid_search = grid_search.fit(X_train,y_train)"
      ],
      "execution_count": 68,
      "outputs": [
        {
          "output_type": "stream",
          "text": [
            "/usr/local/lib/python3.6/dist-packages/ipykernel_launcher.py:3: UserWarning: Update your `Dense` call to the Keras 2 API: `Dense(activation=\"relu\", input_dim=11, units=6, kernel_initializer=\"uniform\")`\n",
            "  This is separate from the ipykernel package so we can avoid doing imports until\n",
            "/usr/local/lib/python3.6/dist-packages/ipykernel_launcher.py:4: UserWarning: Update your `Dense` call to the Keras 2 API: `Dense(activation=\"relu\", units=6, kernel_initializer=\"uniform\")`\n",
            "  after removing the cwd from sys.path.\n",
            "/usr/local/lib/python3.6/dist-packages/ipykernel_launcher.py:5: UserWarning: Update your `Dense` call to the Keras 2 API: `Dense(activation=\"sigmoid\", units=1, kernel_initializer=\"uniform\")`\n",
            "  \"\"\"\n"
          ],
          "name": "stderr"
        },
        {
          "output_type": "stream",
          "text": [
            "Epoch 1/1\n",
            "7200/7200 [==============================] - 2s 234us/step - loss: 0.5644 - acc: 0.7956\n",
            "Epoch 1/1\n",
            "7200/7200 [==============================] - 2s 241us/step - loss: 0.5842 - acc: 0.7949\n",
            "Epoch 1/1\n",
            "7200/7200 [==============================] - 2s 243us/step - loss: 0.5614 - acc: 0.7954\n",
            "Epoch 1/1\n",
            "7200/7200 [==============================] - 2s 253us/step - loss: 0.5636 - acc: 0.7968\n",
            "Epoch 1/1\n",
            "7200/7200 [==============================] - 2s 265us/step - loss: 0.5672 - acc: 0.7928\n",
            "Epoch 1/1\n",
            "7200/7200 [==============================] - 2s 275us/step - loss: 0.5656 - acc: 0.7929\n",
            "Epoch 1/1\n",
            "7200/7200 [==============================] - 2s 297us/step - loss: 0.5525 - acc: 0.7951\n",
            "Epoch 1/1\n",
            "7200/7200 [==============================] - 2s 307us/step - loss: 0.5623 - acc: 0.7960\n",
            "Epoch 1/1\n",
            "7200/7200 [==============================] - 2s 291us/step - loss: 0.5504 - acc: 0.7939\n",
            "Epoch 1/1\n",
            "7200/7200 [==============================] - 2s 298us/step - loss: 0.5632 - acc: 0.7950\n",
            "Epoch 1/1\n",
            "7200/7200 [==============================] - 2s 283us/step - loss: 0.5781 - acc: 0.7950\n",
            "Epoch 1/1\n",
            "7200/7200 [==============================] - 2s 290us/step - loss: 0.5850 - acc: 0.7968\n",
            "Epoch 1/1\n",
            "7200/7200 [==============================] - 2s 285us/step - loss: 0.5713 - acc: 0.7935\n",
            "Epoch 1/1\n",
            "7200/7200 [==============================] - 2s 302us/step - loss: 0.5790 - acc: 0.7967\n",
            "Epoch 1/1\n",
            "7200/7200 [==============================] - 2s 297us/step - loss: 0.5633 - acc: 0.7938\n",
            "Epoch 1/1\n",
            "7200/7200 [==============================] - 2s 305us/step - loss: 0.5694 - acc: 0.7942\n",
            "Epoch 1/1\n",
            "7200/7200 [==============================] - 2s 305us/step - loss: 0.5702 - acc: 0.7967\n",
            "Epoch 1/1\n",
            "7200/7200 [==============================] - 2s 324us/step - loss: 0.5796 - acc: 0.7944\n",
            "Epoch 1/1\n",
            "7200/7200 [==============================] - 2s 329us/step - loss: 0.6095 - acc: 0.7947\n",
            "Epoch 1/1\n",
            "7200/7200 [==============================] - 2s 324us/step - loss: 0.6015 - acc: 0.7936\n",
            "Epoch 1/1\n",
            "7200/7200 [==============================] - 3s 372us/step - loss: 0.5530 - acc: 0.7965\n",
            "Epoch 1/1\n",
            "7200/7200 [==============================] - 3s 367us/step - loss: 0.5592 - acc: 0.7965\n",
            "Epoch 1/1\n",
            "7200/7200 [==============================] - 3s 392us/step - loss: 0.6057 - acc: 0.7942\n",
            "Epoch 1/1\n",
            "7200/7200 [==============================] - 3s 385us/step - loss: 0.6078 - acc: 0.7947\n",
            "Epoch 1/1\n",
            "7200/7200 [==============================] - 3s 401us/step - loss: 0.5528 - acc: 0.7931\n",
            "Epoch 1/1\n",
            "7200/7200 [==============================] - 3s 421us/step - loss: 0.5709 - acc: 0.7935\n",
            "Epoch 1/1\n",
            "7200/7200 [==============================] - 3s 432us/step - loss: 0.5625 - acc: 0.7950\n",
            "Epoch 1/1\n",
            "7200/7200 [==============================] - 3s 431us/step - loss: 0.5614 - acc: 0.7962\n",
            "Epoch 1/1\n",
            "7200/7200 [==============================] - 3s 440us/step - loss: 0.5722 - acc: 0.7933\n",
            "Epoch 1/1\n",
            "7200/7200 [==============================] - 3s 471us/step - loss: 0.5525 - acc: 0.7946\n",
            "Epoch 1/1\n",
            "7200/7200 [==============================] - 3s 461us/step - loss: 0.5848 - acc: 0.7964\n",
            "Epoch 1/1\n",
            "7200/7200 [==============================] - 3s 437us/step - loss: 0.5577 - acc: 0.7967\n",
            "Epoch 1/1\n",
            "7200/7200 [==============================] - 3s 451us/step - loss: 0.6174 - acc: 0.7935\n",
            "Epoch 1/1\n",
            "7200/7200 [==============================] - 3s 459us/step - loss: 0.5744 - acc: 0.7972\n",
            "Epoch 1/1\n",
            "7200/7200 [==============================] - 3s 460us/step - loss: 0.5937 - acc: 0.7918\n",
            "Epoch 1/1\n",
            "7200/7200 [==============================] - 3s 462us/step - loss: 0.6223 - acc: 0.7939\n",
            "Epoch 1/1\n",
            "7200/7200 [==============================] - 3s 477us/step - loss: 0.5661 - acc: 0.7971\n",
            "Epoch 1/1\n",
            "7200/7200 [==============================] - 3s 481us/step - loss: 0.6148 - acc: 0.7937\n",
            "Epoch 1/1\n",
            "7200/7200 [==============================] - 4s 503us/step - loss: 0.5928 - acc: 0.7946\n",
            "Epoch 1/1\n",
            "7200/7200 [==============================] - 4s 512us/step - loss: 0.6537 - acc: 0.7951\n",
            "Epoch 1/1\n",
            "7200/7200 [==============================] - 3s 483us/step - loss: 0.5931 - acc: 0.7965\n",
            "Epoch 1/1\n",
            "7200/7200 [==============================] - 4s 497us/step - loss: 0.5962 - acc: 0.7950\n",
            "Epoch 1/1\n",
            "7200/7200 [==============================] - 4s 506us/step - loss: 0.6192 - acc: 0.7924\n",
            "Epoch 1/1\n",
            "7200/7200 [==============================] - 4s 528us/step - loss: 0.5989 - acc: 0.7942\n",
            "Epoch 1/1\n",
            "7200/7200 [==============================] - 4s 521us/step - loss: 0.5982 - acc: 0.7917\n",
            "Epoch 1/1\n",
            "7200/7200 [==============================] - 4s 537us/step - loss: 0.6639 - acc: 0.7921\n",
            "Epoch 1/1\n",
            "7200/7200 [==============================] - 4s 537us/step - loss: 0.5949 - acc: 0.7949\n",
            "Epoch 1/1\n",
            "7200/7200 [==============================] - 4s 554us/step - loss: 0.5917 - acc: 0.7949\n",
            "Epoch 1/1\n",
            "7200/7200 [==============================] - 4s 566us/step - loss: 0.6137 - acc: 0.7931\n",
            "Epoch 1/1\n",
            "7200/7200 [==============================] - 4s 567us/step - loss: 0.5854 - acc: 0.7961\n",
            "Epoch 1/1\n",
            "7200/7200 [==============================] - 4s 567us/step - loss: 0.6006 - acc: 0.7956\n",
            "Epoch 1/1\n",
            "7200/7200 [==============================] - 4s 587us/step - loss: 0.5960 - acc: 0.7967\n",
            "Epoch 1/1\n",
            "7200/7200 [==============================] - 4s 589us/step - loss: 0.6021 - acc: 0.7949\n",
            "Epoch 1/1\n",
            "7200/7200 [==============================] - 4s 589us/step - loss: 0.5998 - acc: 0.7964\n",
            "Epoch 1/1\n",
            "7200/7200 [==============================] - 4s 602us/step - loss: 0.6170 - acc: 0.7926\n",
            "Epoch 1/1\n",
            "7200/7200 [==============================] - 4s 609us/step - loss: 0.6108 - acc: 0.7922\n",
            "Epoch 1/1\n",
            "7200/7200 [==============================] - 4s 614us/step - loss: 0.6003 - acc: 0.7960\n",
            "Epoch 1/1\n",
            "7200/7200 [==============================] - 4s 614us/step - loss: 0.6182 - acc: 0.7937\n",
            "Epoch 1/1\n",
            "7200/7200 [==============================] - 5s 628us/step - loss: 0.6244 - acc: 0.7953\n",
            "Epoch 1/1\n",
            "7200/7200 [==============================] - 5s 644us/step - loss: 0.6152 - acc: 0.7944\n",
            "Epoch 1/1\n",
            "7200/7200 [==============================] - 5s 677us/step - loss: 0.5681 - acc: 0.7971\n",
            "Epoch 1/1\n",
            "7200/7200 [==============================] - 5s 681us/step - loss: 0.5653 - acc: 0.7967\n",
            "Epoch 1/1\n",
            "7200/7200 [==============================] - 5s 697us/step - loss: 0.5852 - acc: 0.7949\n",
            "Epoch 1/1\n",
            "7200/7200 [==============================] - 5s 698us/step - loss: 0.5811 - acc: 0.7975\n",
            "Epoch 1/1\n",
            "7200/7200 [==============================] - 5s 703us/step - loss: 0.6166 - acc: 0.7921\n",
            "Epoch 1/1\n",
            "7200/7200 [==============================] - 5s 713us/step - loss: 0.5842 - acc: 0.7940\n",
            "Epoch 1/1\n",
            "7200/7200 [==============================] - 5s 719us/step - loss: 0.5942 - acc: 0.7961\n",
            "Epoch 1/1\n",
            "7200/7200 [==============================] - 5s 729us/step - loss: 0.5726 - acc: 0.7953\n",
            "Epoch 1/1\n",
            "7200/7200 [==============================] - 5s 736us/step - loss: 0.5825 - acc: 0.7935\n",
            "Epoch 1/1\n",
            "7200/7200 [==============================] - 6s 783us/step - loss: 0.5940 - acc: 0.7936\n",
            "Epoch 1/1\n",
            "7200/7200 [==============================] - 5s 758us/step - loss: 0.6003 - acc: 0.7969\n",
            "Epoch 1/1\n",
            "7200/7200 [==============================] - 5s 753us/step - loss: 0.6227 - acc: 0.7949\n",
            "Epoch 1/1\n",
            "7200/7200 [==============================] - 5s 754us/step - loss: 0.5895 - acc: 0.7954\n",
            "Epoch 1/1\n",
            "7200/7200 [==============================] - 5s 762us/step - loss: 0.6412 - acc: 0.7946\n",
            "Epoch 1/1\n",
            "7200/7200 [==============================] - 6s 781us/step - loss: 0.6038 - acc: 0.7931\n",
            "Epoch 1/1\n",
            "7200/7200 [==============================] - 6s 792us/step - loss: 0.6278 - acc: 0.7926\n",
            "Epoch 1/1\n",
            "7200/7200 [==============================] - 6s 798us/step - loss: 0.5984 - acc: 0.7950\n",
            "Epoch 1/1\n",
            "7200/7200 [==============================] - 6s 793us/step - loss: 0.6083 - acc: 0.7944\n",
            "Epoch 1/1\n",
            "7200/7200 [==============================] - 6s 808us/step - loss: 0.5980 - acc: 0.7947\n",
            "Epoch 1/1\n",
            "7200/7200 [==============================] - 6s 829us/step - loss: 0.6363 - acc: 0.7926\n",
            "Epoch 1/1\n",
            "8000/8000 [==============================] - 7s 858us/step - loss: 0.5482 - acc: 0.7944\n"
          ],
          "name": "stdout"
        }
      ]
    },
    {
      "cell_type": "code",
      "metadata": {
        "id": "XLk74Vft22T_",
        "colab_type": "code",
        "colab": {}
      },
      "source": [
        "best_parameters = grid_search.best_params_\n",
        "best_accuracy = grid_search.best_score_"
      ],
      "execution_count": 0,
      "outputs": []
    },
    {
      "cell_type": "code",
      "metadata": {
        "id": "iP_3mpye4MZA",
        "colab_type": "code",
        "colab": {
          "base_uri": "https://localhost:8080/",
          "height": 34
        },
        "outputId": "e19d1650-7496-4427-e05a-72b5ced20c9c"
      },
      "source": [
        "best_parameters"
      ],
      "execution_count": 70,
      "outputs": [
        {
          "output_type": "execute_result",
          "data": {
            "text/plain": [
              "{'batch_size': 25, 'nb_epoch': 100, 'optimizer': 'adam'}"
            ]
          },
          "metadata": {
            "tags": []
          },
          "execution_count": 70
        }
      ]
    },
    {
      "cell_type": "code",
      "metadata": {
        "id": "kXRNIRe16BbN",
        "colab_type": "code",
        "colab": {
          "base_uri": "https://localhost:8080/",
          "height": 34
        },
        "outputId": "19e5d392-ec22-48c3-da57-0ac36564bd3a"
      },
      "source": [
        "best_accuracy"
      ],
      "execution_count": 71,
      "outputs": [
        {
          "output_type": "execute_result",
          "data": {
            "text/plain": [
              "0.796"
            ]
          },
          "metadata": {
            "tags": []
          },
          "execution_count": 71
        }
      ]
    },
    {
      "cell_type": "markdown",
      "metadata": {
        "id": "GwjXbFxt6Med",
        "colab_type": "text"
      },
      "source": [
        "# CNN"
      ]
    },
    {
      "cell_type": "code",
      "metadata": {
        "id": "BG3-Hy7t6DwO",
        "colab_type": "code",
        "colab": {}
      },
      "source": [
        ""
      ],
      "execution_count": 0,
      "outputs": []
    }
  ]
}